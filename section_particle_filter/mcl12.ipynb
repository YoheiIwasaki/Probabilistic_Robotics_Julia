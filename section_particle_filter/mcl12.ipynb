{
 "cells": [
  {
   "cell_type": "code",
   "execution_count": 1,
   "metadata": {},
   "outputs": [],
   "source": [
    "include(\"../scripts/robot.jl\")"
   ]
  },
  {
   "cell_type": "code",
   "execution_count": 23,
   "metadata": {},
   "outputs": [],
   "source": [
    "using Distributions\n",
    "using LinearAlgebra\n",
    "using StatsBase"
   ]
  },
  {
   "cell_type": "code",
   "execution_count": 44,
   "metadata": {},
   "outputs": [
    {
     "data": {
      "text/plain": [
       "3-element Array{Int64,1}:\n",
       " 1\n",
       " 2\n",
       " 2"
      ]
     },
     "execution_count": 44,
     "metadata": {},
     "output_type": "execute_result"
    }
   ],
   "source": [
    "sample([1,2],Weights([1,1]),3)"
   ]
  },
  {
   "cell_type": "code",
   "execution_count": 33,
   "metadata": {},
   "outputs": [],
   "source": [
    "mutable struct Particle\n",
    "    pose\n",
    "    weight\n",
    "end"
   ]
  },
  {
   "cell_type": "code",
   "execution_count": 34,
   "metadata": {},
   "outputs": [
    {
     "data": {
      "text/plain": [
       "motion_update (generic function with 1 method)"
      ]
     },
     "execution_count": 34,
     "metadata": {},
     "output_type": "execute_result"
    }
   ],
   "source": [
    "function motion_update(self::Particle, nu, omega, time, noise_rate_pdf)\n",
    "    ns = rand(noise_rate_pdf)\n",
    "    noised_nu = nu + ns[1]*sqrt(abs(nu)/time) + ns[2]*sqrt(abs(omega)/time)\n",
    "    noised_omega = omega + ns[3]*sqrt(abs(nu)/time) + ns[4]*sqrt(abs(omega)/time)\n",
    "    self.pose = state_transition(IdealRobot([]), noised_nu, noised_omega, time, self.pose)\n",
    "end"
   ]
  },
  {
   "cell_type": "code",
   "execution_count": 35,
   "metadata": {},
   "outputs": [
    {
     "data": {
      "text/plain": [
       "observation_update (generic function with 1 method)"
      ]
     },
     "execution_count": 35,
     "metadata": {},
     "output_type": "execute_result"
    }
   ],
   "source": [
    "function observation_update(self::Particle, observation, envmap, distance_dev_rate, direction_dev)\n",
    "#     print(observation)\n",
    "    for d in observation\n",
    "        obs_pos = d[1]\n",
    "        obs_id = d[2]+1#1-indexed in julia\n",
    "        \n",
    "        pos_on_map = envmap.landmarks[obs_id].pos\n",
    "        particle_suggest_pos = relative_polar_pos(IdealCamera(), self.pose, pos_on_map)\n",
    "        \n",
    "        distance_dev = distance_dev_rate*particle_suggest_pos[1]\n",
    "        cov = Diagonal([distance_dev^2, direction_dev^2])\n",
    "        self.weight *= pdf(MvNormal(particle_suggest_pos, cov), obs_pos)\n",
    "    end\n",
    "end"
   ]
  },
  {
   "cell_type": "code",
   "execution_count": 36,
   "metadata": {},
   "outputs": [],
   "source": [
    "mutable struct Mcl\n",
    "    particles\n",
    "    map\n",
    "    distance_dev_rate\n",
    "    direction_dev\n",
    "    motion_noise_rate_pdf\n",
    "end"
   ]
  },
  {
   "cell_type": "code",
   "execution_count": 37,
   "metadata": {},
   "outputs": [
    {
     "data": {
      "text/plain": [
       "Mcl_ (generic function with 4 methods)"
      ]
     },
     "execution_count": 37,
     "metadata": {},
     "output_type": "execute_result"
    }
   ],
   "source": [
    "function Mcl_(envmap, init_pose, num, motion_noise_stds=Dict(\"nn\"=>0.19, \"no\"=>0.001, \"on\"=>0.13, \"oo\"=>0.2),\n",
    "                        distance_dev_rate=0.14, direction_dev=0.05)\n",
    "    self = Mcl(ntuple(x->nothing, fieldcount(Mcl))...)\n",
    "    self.particles =[Particle(init_pose, 1.0/num) for i in 1:num-1]\n",
    "    self.map = envmap\n",
    "    self.distance_dev_rate = distance_dev_rate\n",
    "    self.direction_dev = direction_dev\n",
    "    v = motion_noise_stds\n",
    "    c = Diagonal([v[\"nn\"]^2, v[\"no\"]^2, v[\"on\"]^2, v[\"oo\"]^2])\n",
    "    self.motion_noise_rate_pdf = MvNormal(zeros(4), c)\n",
    "    return self\n",
    "end"
   ]
  },
  {
   "cell_type": "code",
   "execution_count": 38,
   "metadata": {},
   "outputs": [
    {
     "data": {
      "text/plain": [
       "motion_update (generic function with 2 methods)"
      ]
     },
     "execution_count": 38,
     "metadata": {},
     "output_type": "execute_result"
    }
   ],
   "source": [
    "function motion_update(self::Mcl, nu, omega, time)\n",
    "    for p in self.particles\n",
    "        motion_update(p, nu, omega, time, self.motion_noise_rate_pdf)\n",
    "    end\n",
    "end"
   ]
  },
  {
   "cell_type": "code",
   "execution_count": 40,
   "metadata": {},
   "outputs": [
    {
     "data": {
      "text/plain": [
       "observation_update (generic function with 2 methods)"
      ]
     },
     "execution_count": 40,
     "metadata": {},
     "output_type": "execute_result"
    }
   ],
   "source": [
    "function observation_update(self::Mcl, observation)\n",
    "    for p in self.particles\n",
    "        observation_update(p, observation, self.map, self.distance_dev_rate, self.direction_dev)\n",
    "    end\n",
    "    resampling(self)\n",
    "end"
   ]
  },
  {
   "cell_type": "code",
   "execution_count": 45,
   "metadata": {},
   "outputs": [
    {
     "data": {
      "text/plain": [
       "resampling (generic function with 1 method)"
      ]
     },
     "execution_count": 45,
     "metadata": {},
     "output_type": "execute_result"
    }
   ],
   "source": [
    "function resampling(self::Mcl)\n",
    "    ws = [e.weight for e in self.particles]\n",
    "    if sum(ws) < 1e-100\n",
    "        ws = [e+1e-100 for e in ws]\n",
    "    end\n",
    "    ps = sample(self.particles, Weights(ws), length(self.particles))\n",
    "    self.particles = [deepcopy(e) for e in ps]\n",
    "    for p in self.particles\n",
    "        p.weight = 1.0/length(self.particles)\n",
    "    end\n",
    "end"
   ]
  },
  {
   "cell_type": "code",
   "execution_count": 46,
   "metadata": {},
   "outputs": [
    {
     "data": {
      "text/plain": [
       "draw (generic function with 6 methods)"
      ]
     },
     "execution_count": 46,
     "metadata": {},
     "output_type": "execute_result"
    }
   ],
   "source": [
    "function draw(self::Mcl, ax, elems)\n",
    "    xs = [p.pose[1] for p in self.particles]\n",
    "    ys = [p.pose[2] for p in self.particles]\n",
    "    vxs = [cos(p.pose[3])*p.weight*length(self.particles) for p in self.particles]\n",
    "    vys = [sin(p.pose[3])*p.weight*length(self.particles) for p in self.particles]\n",
    "    elems = vcat(elems, ax.quiver(xs, ys, vxs, vys, angles=\"xy\", scale_units=\"xy\", color=\"blue\", alpha=0.5))\n",
    "end"
   ]
  },
  {
   "cell_type": "code",
   "execution_count": 47,
   "metadata": {},
   "outputs": [],
   "source": [
    "mutable struct EstimationAgent <: AbstractAgent\n",
    "    nu\n",
    "    omega\n",
    "    estimator\n",
    "    time_interval\n",
    "    prev_nu\n",
    "    prev_omega\n",
    "end"
   ]
  },
  {
   "cell_type": "code",
   "execution_count": 48,
   "metadata": {},
   "outputs": [
    {
     "data": {
      "text/plain": [
       "EstimationAgent_ (generic function with 1 method)"
      ]
     },
     "execution_count": 48,
     "metadata": {},
     "output_type": "execute_result"
    }
   ],
   "source": [
    "function  EstimationAgent_(time_interval, nu, omega,estimator)\n",
    "    self = EstimationAgent(ntuple(x->nothing, fieldcount(EstimationAgent))...)\n",
    "    self.nu = nu\n",
    "    self.omega = omega\n",
    "    self.estimator = estimator\n",
    "    self.time_interval = time_interval\n",
    "    self.prev_nu = 0.0\n",
    "    self.prev_omega = 0.0\n",
    "    return self\n",
    "end"
   ]
  },
  {
   "cell_type": "code",
   "execution_count": 49,
   "metadata": {
    "scrolled": true
   },
   "outputs": [
    {
     "data": {
      "text/plain": [
       "decision (generic function with 4 methods)"
      ]
     },
     "execution_count": 49,
     "metadata": {},
     "output_type": "execute_result"
    }
   ],
   "source": [
    "function decision(self::EstimationAgent, observation=nothing)\n",
    "    motion_update(self.estimator, self.prev_nu, self.prev_omega, self.time_interval)\n",
    "    self.prev_nu, self.prev_omega = self.nu, self.omega\n",
    "    observation_update(self.estimator,observation)\n",
    "    return self.nu, self.omega\n",
    "end"
   ]
  },
  {
   "cell_type": "code",
   "execution_count": 50,
   "metadata": {},
   "outputs": [
    {
     "data": {
      "text/plain": [
       "draw (generic function with 7 methods)"
      ]
     },
     "execution_count": 50,
     "metadata": {},
     "output_type": "execute_result"
    }
   ],
   "source": [
    "function draw(self::EstimationAgent, ax, elems)\n",
    "    draw(self.estimator, ax, elems)\n",
    "end"
   ]
  },
  {
   "cell_type": "code",
   "execution_count": 51,
   "metadata": {},
   "outputs": [
    {
     "data": {
      "text/plain": [
       "trial (generic function with 1 method)"
      ]
     },
     "execution_count": 51,
     "metadata": {},
     "output_type": "execute_result"
    }
   ],
   "source": [
    "function trial()\n",
    "    time_interval = 1.0\n",
    "    world = World_(30, time_interval, false)\n",
    "    \n",
    "    m = Map()\n",
    "    for ln in [[-4.0, 2.0], [2.0, -3.0], [3.0, 3.0]]\n",
    "        append_landmark(m, Landmark(ln))\n",
    "    end\n",
    "    append(world, m)\n",
    "    \n",
    "    initial_pose = [0.0, 0.0, 0.0]\n",
    "    estimator = Mcl_(m, initial_pose, 100)\n",
    "    a = EstimationAgent_(time_interval, 0.2, 10.0/180*pi, estimator)\n",
    "    r = Robot_(initial_pose, sensor=Camera_(m), agent=a, color=\"red\")\n",
    "    append(world, r)\n",
    "    draw(world)\n",
    "    showanim(\"test.mp4\")\n",
    "end"
   ]
  },
  {
   "cell_type": "code",
   "execution_count": 52,
   "metadata": {},
   "outputs": [
    {
     "data": {
      "text/html": [
       "<video controls src=\"data:video/x-m4v;base64,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\">"
      ]
     },
     "metadata": {},
     "output_type": "display_data"
    },
    {
     "data": {
      "image/png": "[encoded data removed]",
      "text/plain": [
       "Figure(PyObject <Figure size 640x480 with 1 Axes>)"
      ]
     },
     "metadata": {},
     "output_type": "display_data"
    }
   ],
   "source": [
    "trial()"
   ]
  },
  {
   "cell_type": "code",
   "execution_count": null,
   "metadata": {},
   "outputs": [],
   "source": []
  }
 ],
 "metadata": {
  "kernelspec": {
   "display_name": "Julia 1.5.3",
   "language": "julia",
   "name": "julia-1.5"
  },
  "language_info": {
   "file_extension": ".jl",
   "mimetype": "application/julia",
   "name": "julia",
   "version": "1.5.3"
  }
 },
 "nbformat": 4,
 "nbformat_minor": 4
}
