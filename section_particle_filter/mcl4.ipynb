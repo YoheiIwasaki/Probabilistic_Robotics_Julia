{
 "cells": [
  {
   "cell_type": "code",
   "execution_count": 1,
   "metadata": {},
   "outputs": [],
   "source": [
    "include(\"../scripts/robot.jl\")"
   ]
  },
  {
   "cell_type": "code",
   "execution_count": 7,
   "metadata": {},
   "outputs": [],
   "source": [
    "using Distributions\n",
    "using LinearAlgebra"
   ]
  },
  {
   "cell_type": "code",
   "execution_count": 8,
   "metadata": {},
   "outputs": [],
   "source": [
    "mutable struct Particle\n",
    "    pose\n",
    "end"
   ]
  },
  {
   "cell_type": "code",
   "execution_count": 3,
   "metadata": {},
   "outputs": [],
   "source": [
    "mutable struct Mcl\n",
    "    particles\n",
    "    motion_noise_rate_pdf\n",
    "end"
   ]
  },
  {
   "cell_type": "code",
   "execution_count": 28,
   "metadata": {},
   "outputs": [
    {
     "data": {
      "text/plain": [
       "Mcl_ (generic function with 2 methods)"
      ]
     },
     "execution_count": 28,
     "metadata": {},
     "output_type": "execute_result"
    }
   ],
   "source": [
    "function Mcl_(init_pose; num, motion_noise_stds)\n",
    "    self = Mcl(ntuple(x->nothing, fieldcount(Mcl))...)\n",
    "    self.particles =[Particle(init_pose) for i in 1:num]\n",
    "    v = motion_noise_stds\n",
    "    c = Diagonal([v[\"nn\"]^2, v[\"no\"]^2, v[\"on\"]^2, v[\"oo\"]^2])\n",
    "    self.motion_noise_rate_pdf = MvNormal(zeros(4), c)\n",
    "    return self\n",
    "end"
   ]
  },
  {
   "cell_type": "code",
   "execution_count": 36,
   "metadata": {},
   "outputs": [
    {
     "data": {
      "text/plain": [
       "motion_update (generic function with 1 method)"
      ]
     },
     "execution_count": 36,
     "metadata": {},
     "output_type": "execute_result"
    }
   ],
   "source": [
    "function motion_update(self::Mcl, nu, omega, time)\n",
    "    print(self.motion_noise_rate_pdf.Σ)\n",
    "end"
   ]
  },
  {
   "cell_type": "code",
   "execution_count": 37,
   "metadata": {},
   "outputs": [
    {
     "data": {
      "text/plain": [
       "draw (generic function with 7 methods)"
      ]
     },
     "execution_count": 37,
     "metadata": {},
     "output_type": "execute_result"
    }
   ],
   "source": [
    "function draw(self::Mcl, ax, elems)\n",
    "    xs = [p.pose[1] for p in self.particles]\n",
    "    ys = [p.pose[2] for p in self.particles]\n",
    "    vxs = [cos(p.pose[3]) for p in self.particles]\n",
    "    vys = [sin(p.pose[3]) for p in self.particles]\n",
    "    elems = vcat(elems, ax.quiver(xs, ys, vxs, vys, color=\"blue\", alpha=0.5))\n",
    "end"
   ]
  },
  {
   "cell_type": "code",
   "execution_count": 38,
   "metadata": {},
   "outputs": [],
   "source": [
    "mutable struct EstimationAgent <: AbstractAgent\n",
    "    nu\n",
    "    omega\n",
    "    estimator\n",
    "    time_interval\n",
    "end"
   ]
  },
  {
   "cell_type": "code",
   "execution_count": 39,
   "metadata": {},
   "outputs": [
    {
     "data": {
      "text/plain": [
       "EstimationAgent_ (generic function with 1 method)"
      ]
     },
     "execution_count": 39,
     "metadata": {},
     "output_type": "execute_result"
    }
   ],
   "source": [
    "function  EstimationAgent_(time_interval, nu, omega,estimator,)\n",
    "    self = EstimationAgent(ntuple(x->nothing, fieldcount(EstimationAgent))...)\n",
    "    self.nu = nu\n",
    "    self.omega = omega\n",
    "    self.estimator = estimator\n",
    "    self.time_interval = time_interval\n",
    "    return self\n",
    "end"
   ]
  },
  {
   "cell_type": "code",
   "execution_count": 40,
   "metadata": {},
   "outputs": [
    {
     "data": {
      "text/plain": [
       "draw (generic function with 7 methods)"
      ]
     },
     "execution_count": 40,
     "metadata": {},
     "output_type": "execute_result"
    }
   ],
   "source": [
    "function draw(self::EstimationAgent, ax, elems)\n",
    "    draw(self.estimator, ax, elems)\n",
    "end"
   ]
  },
  {
   "cell_type": "code",
   "execution_count": 41,
   "metadata": {},
   "outputs": [
    {
     "name": "stdout",
     "output_type": "stream",
     "text": [
      "[0.0001 0.0 0.0 0.0; 0.0 0.0004 0.0 0.0; 0.0 0.0 0.0009 0.0; 0.0 0.0 0.0 0.0016]"
     ]
    }
   ],
   "source": [
    "initial_pose = [0.0, 0.0, 0.0]\n",
    "estimator = Mcl_(initial_pose, 100, Dict(\"nn\"=>0.01, \"no\"=>0.02, \"on\"=>0.03, \"oo\"=>0.04))\n",
    "a = EstimationAgent_(0.1, 0.2, 10.0/180*pi, estimator)\n",
    "motion_update(estimator, 0.2, 10.0/180*pi, 0.1)"
   ]
  },
  {
   "cell_type": "code",
   "execution_count": 43,
   "metadata": {},
   "outputs": [
    {
     "data": {
      "text/plain": [
       "4-element Array{Float64,1}:\n",
       "  0.003919016538482222\n",
       "  0.006612137905653965\n",
       "  0.005627358745403897\n",
       " -0.026563676826450992"
      ]
     },
     "execution_count": 43,
     "metadata": {},
     "output_type": "execute_result"
    }
   ],
   "source": [
    "rand(estimator.motion_noise_rate_pdf)"
   ]
  },
  {
   "cell_type": "code",
   "execution_count": null,
   "metadata": {},
   "outputs": [],
   "source": []
  }
 ],
 "metadata": {
  "kernelspec": {
   "display_name": "Julia 1.5.3",
   "language": "julia",
   "name": "julia-1.5"
  },
  "language_info": {
   "file_extension": ".jl",
   "mimetype": "application/julia",
   "name": "julia",
   "version": "1.5.3"
  }
 },
 "nbformat": 4,
 "nbformat_minor": 4
}
