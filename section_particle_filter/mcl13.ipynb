{
 "cells": [
  {
   "cell_type": "code",
   "execution_count": 1,
   "metadata": {},
   "outputs": [],
   "source": [
    "include(\"../scripts/robot.jl\")"
   ]
  },
  {
   "cell_type": "code",
   "execution_count": 2,
   "metadata": {},
   "outputs": [],
   "source": [
    "using Distributions\n",
    "using LinearAlgebra\n",
    "using StatsBase"
   ]
  },
  {
   "cell_type": "code",
   "execution_count": 4,
   "metadata": {},
   "outputs": [],
   "source": [
    "mutable struct Particle\n",
    "    pose\n",
    "    weight\n",
    "end"
   ]
  },
  {
   "cell_type": "code",
   "execution_count": 5,
   "metadata": {},
   "outputs": [
    {
     "data": {
      "text/plain": [
       "motion_update (generic function with 1 method)"
      ]
     },
     "execution_count": 5,
     "metadata": {},
     "output_type": "execute_result"
    }
   ],
   "source": [
    "function motion_update(self::Particle, nu, omega, time, noise_rate_pdf)\n",
    "    ns = rand(noise_rate_pdf)\n",
    "    noised_nu = nu + ns[1]*sqrt(abs(nu)/time) + ns[2]*sqrt(abs(omega)/time)\n",
    "    noised_omega = omega + ns[3]*sqrt(abs(nu)/time) + ns[4]*sqrt(abs(omega)/time)\n",
    "    self.pose = state_transition(IdealRobot([]), noised_nu, noised_omega, time, self.pose)\n",
    "end"
   ]
  },
  {
   "cell_type": "code",
   "execution_count": 6,
   "metadata": {},
   "outputs": [
    {
     "data": {
      "text/plain": [
       "observation_update (generic function with 1 method)"
      ]
     },
     "execution_count": 6,
     "metadata": {},
     "output_type": "execute_result"
    }
   ],
   "source": [
    "function observation_update(self::Particle, observation, envmap, distance_dev_rate, direction_dev)\n",
    "#     print(observation)\n",
    "    for d in observation\n",
    "        obs_pos = d[1]\n",
    "        obs_id = d[2]+1#1-indexed in julia\n",
    "        \n",
    "        pos_on_map = envmap.landmarks[obs_id].pos\n",
    "        particle_suggest_pos = relative_polar_pos(IdealCamera(), self.pose, pos_on_map)\n",
    "        \n",
    "        distance_dev = distance_dev_rate*particle_suggest_pos[1]\n",
    "        cov = Diagonal([distance_dev^2, direction_dev^2])\n",
    "        self.weight *= pdf(MvNormal(particle_suggest_pos, cov), obs_pos)\n",
    "    end\n",
    "end"
   ]
  },
  {
   "cell_type": "code",
   "execution_count": 7,
   "metadata": {},
   "outputs": [],
   "source": [
    "mutable struct Mcl\n",
    "    particles\n",
    "    map\n",
    "    distance_dev_rate\n",
    "    direction_dev\n",
    "    motion_noise_rate_pdf\n",
    "end"
   ]
  },
  {
   "cell_type": "code",
   "execution_count": 8,
   "metadata": {},
   "outputs": [
    {
     "data": {
      "text/plain": [
       "Mcl_ (generic function with 4 methods)"
      ]
     },
     "execution_count": 8,
     "metadata": {},
     "output_type": "execute_result"
    }
   ],
   "source": [
    "function Mcl_(envmap, init_pose, num, motion_noise_stds=Dict(\"nn\"=>0.19, \"no\"=>0.001, \"on\"=>0.13, \"oo\"=>0.2),\n",
    "                        distance_dev_rate=0.14, direction_dev=0.05)\n",
    "    self = Mcl(ntuple(x->nothing, fieldcount(Mcl))...)\n",
    "    self.particles =[Particle(init_pose, 1.0/num) for i in 1:num-1]\n",
    "    self.map = envmap\n",
    "    self.distance_dev_rate = distance_dev_rate\n",
    "    self.direction_dev = direction_dev\n",
    "    v = motion_noise_stds\n",
    "    c = Diagonal([v[\"nn\"]^2, v[\"no\"]^2, v[\"on\"]^2, v[\"oo\"]^2])\n",
    "    self.motion_noise_rate_pdf = MvNormal(zeros(4), c)\n",
    "    return self\n",
    "end"
   ]
  },
  {
   "cell_type": "code",
   "execution_count": 9,
   "metadata": {},
   "outputs": [
    {
     "data": {
      "text/plain": [
       "motion_update (generic function with 2 methods)"
      ]
     },
     "execution_count": 9,
     "metadata": {},
     "output_type": "execute_result"
    }
   ],
   "source": [
    "function motion_update(self::Mcl, nu, omega, time)\n",
    "    for p in self.particles\n",
    "        motion_update(p, nu, omega, time, self.motion_noise_rate_pdf)\n",
    "    end\n",
    "end"
   ]
  },
  {
   "cell_type": "code",
   "execution_count": 10,
   "metadata": {},
   "outputs": [
    {
     "data": {
      "text/plain": [
       "observation_update (generic function with 2 methods)"
      ]
     },
     "execution_count": 10,
     "metadata": {},
     "output_type": "execute_result"
    }
   ],
   "source": [
    "function observation_update(self::Mcl, observation)\n",
    "    for p in self.particles\n",
    "        observation_update(p, observation, self.map, self.distance_dev_rate, self.direction_dev)\n",
    "    end\n",
    "    resampling(self)\n",
    "end"
   ]
  },
  {
   "cell_type": "code",
   "execution_count": 17,
   "metadata": {},
   "outputs": [
    {
     "data": {
      "text/plain": [
       "9.258608972566222"
      ]
     },
     "execution_count": 17,
     "metadata": {},
     "output_type": "execute_result"
    }
   ],
   "source": [
    "rand(Uniform(0,10))"
   ]
  },
  {
   "cell_type": "code",
   "execution_count": 28,
   "metadata": {},
   "outputs": [
    {
     "data": {
      "text/plain": [
       "1-element Array{Any,1}:\n",
       " 1"
      ]
     },
     "execution_count": 28,
     "metadata": {},
     "output_type": "execute_result"
    }
   ],
   "source": [
    "x = []\n",
    "append!(x, 1)"
   ]
  },
  {
   "cell_type": "code",
   "execution_count": 37,
   "metadata": {},
   "outputs": [
    {
     "data": {
      "text/plain": [
       "resampling (generic function with 1 method)"
      ]
     },
     "execution_count": 37,
     "metadata": {},
     "output_type": "execute_result"
    }
   ],
   "source": [
    "function resampling(self::Mcl)\n",
    "    ws = cumsum([e.weight for e in self.particles])\n",
    "    if ws[end] < 1e-100\n",
    "        ws = [e+1e-100 for e in ws]\n",
    "    end\n",
    "    step = ws[end]/length(self.particles)\n",
    "    r = rand(Uniform(0.0, step))\n",
    "    cur_pos = 1\n",
    "    ps = []\n",
    "    while (length(ps) < length(self.particles))\n",
    "        if r < ws[cur_pos]\n",
    "            push!(ps, self.particles[cur_pos])\n",
    "            r += step\n",
    "        else\n",
    "            cur_pos += 1\n",
    "#             if cur_pos > length(self.particles)\n",
    "#                 cur_pos = 1\n",
    "#             end\n",
    "        end\n",
    "        \n",
    "    end\n",
    "    self.particles = [deepcopy(e) for e in ps]\n",
    "    for p in self.particles\n",
    "        p.weight = 1.0/length(self.particles)\n",
    "    end\n",
    "end"
   ]
  },
  {
   "cell_type": "code",
   "execution_count": 38,
   "metadata": {},
   "outputs": [
    {
     "data": {
      "text/plain": [
       "draw (generic function with 7 methods)"
      ]
     },
     "execution_count": 38,
     "metadata": {},
     "output_type": "execute_result"
    }
   ],
   "source": [
    "function draw(self::Mcl, ax, elems)\n",
    "    xs = [p.pose[1] for p in self.particles]\n",
    "    ys = [p.pose[2] for p in self.particles]\n",
    "    vxs = [cos(p.pose[3])*p.weight*length(self.particles) for p in self.particles]\n",
    "    vys = [sin(p.pose[3])*p.weight*length(self.particles) for p in self.particles]\n",
    "    elems = vcat(elems, ax.quiver(xs, ys, vxs, vys, angles=\"xy\", scale_units=\"xy\", color=\"blue\", alpha=0.5))\n",
    "end"
   ]
  },
  {
   "cell_type": "code",
   "execution_count": 39,
   "metadata": {},
   "outputs": [],
   "source": [
    "mutable struct EstimationAgent <: AbstractAgent\n",
    "    nu\n",
    "    omega\n",
    "    estimator\n",
    "    time_interval\n",
    "    prev_nu\n",
    "    prev_omega\n",
    "end"
   ]
  },
  {
   "cell_type": "code",
   "execution_count": 40,
   "metadata": {},
   "outputs": [
    {
     "data": {
      "text/plain": [
       "EstimationAgent_ (generic function with 1 method)"
      ]
     },
     "execution_count": 40,
     "metadata": {},
     "output_type": "execute_result"
    }
   ],
   "source": [
    "function  EstimationAgent_(time_interval, nu, omega,estimator)\n",
    "    self = EstimationAgent(ntuple(x->nothing, fieldcount(EstimationAgent))...)\n",
    "    self.nu = nu\n",
    "    self.omega = omega\n",
    "    self.estimator = estimator\n",
    "    self.time_interval = time_interval\n",
    "    self.prev_nu = 0.0\n",
    "    self.prev_omega = 0.0\n",
    "    return self\n",
    "end"
   ]
  },
  {
   "cell_type": "code",
   "execution_count": 41,
   "metadata": {
    "scrolled": true
   },
   "outputs": [
    {
     "data": {
      "text/plain": [
       "decision (generic function with 4 methods)"
      ]
     },
     "execution_count": 41,
     "metadata": {},
     "output_type": "execute_result"
    }
   ],
   "source": [
    "function decision(self::EstimationAgent, observation=nothing)\n",
    "    motion_update(self.estimator, self.prev_nu, self.prev_omega, self.time_interval)\n",
    "    self.prev_nu, self.prev_omega = self.nu, self.omega\n",
    "    observation_update(self.estimator,observation)\n",
    "    return self.nu, self.omega\n",
    "end"
   ]
  },
  {
   "cell_type": "code",
   "execution_count": 42,
   "metadata": {},
   "outputs": [
    {
     "data": {
      "text/plain": [
       "draw (generic function with 7 methods)"
      ]
     },
     "execution_count": 42,
     "metadata": {},
     "output_type": "execute_result"
    }
   ],
   "source": [
    "function draw(self::EstimationAgent, ax, elems)\n",
    "    draw(self.estimator, ax, elems)\n",
    "end"
   ]
  },
  {
   "cell_type": "code",
   "execution_count": 43,
   "metadata": {},
   "outputs": [
    {
     "data": {
      "text/plain": [
       "trial (generic function with 1 method)"
      ]
     },
     "execution_count": 43,
     "metadata": {},
     "output_type": "execute_result"
    }
   ],
   "source": [
    "function trial()\n",
    "    time_interval = 1.0\n",
    "    world = World_(30, time_interval, false)\n",
    "    \n",
    "    m = Map()\n",
    "    for ln in [[-4.0, 2.0], [2.0, -3.0], [3.0, 3.0]]\n",
    "        append_landmark(m, Landmark(ln))\n",
    "    end\n",
    "    append(world, m)\n",
    "    \n",
    "    initial_pose = [0.0, 0.0, 0.0]\n",
    "    estimator = Mcl_(m, initial_pose, 100)\n",
    "    a = EstimationAgent_(time_interval, 0.2, 10.0/180*pi, estimator)\n",
    "    r = Robot_(initial_pose, sensor=Camera_(m), agent=a, color=\"red\")\n",
    "    append(world, r)\n",
    "    draw(world)\n",
    "    showanim(\"test.mp4\")\n",
    "end"
   ]
  },
  {
   "cell_type": "code",
   "execution_count": 44,
   "metadata": {},
   "outputs": [
    {
     "data": {
      "text/html": [
       "<video controls src=\"data:video/x-m4v;base64,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\">"
      ]
     },
     "metadata": {},
     "output_type": "display_data"
    },
    {
     "data": {
      "image/png": "[encoded data removed]",
      "text/plain": [
       "Figure(PyObject <Figure size 640x480 with 1 Axes>)"
      ]
     },
     "metadata": {},
     "output_type": "display_data"
    }
   ],
   "source": [
    "trial()"
   ]
  },
  {
   "cell_type": "code",
   "execution_count": null,
   "metadata": {},
   "outputs": [],
   "source": []
  }
 ],
 "metadata": {
  "kernelspec": {
   "display_name": "Julia 1.5.3",
   "language": "julia",
   "name": "julia-1.5"
  },
  "language_info": {
   "file_extension": ".jl",
   "mimetype": "application/julia",
   "name": "julia",
   "version": "1.5.3"
  }
 },
 "nbformat": 4,
 "nbformat_minor": 4
}
