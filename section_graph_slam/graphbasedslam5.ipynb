{
 "cells": [
  {
   "cell_type": "code",
   "execution_count": 1,
   "metadata": {
    "scrolled": false
   },
   "outputs": [
    {
     "data": {
      "text/plain": [
       "draw (generic function with 8 methods)"
      ]
     },
     "execution_count": 1,
     "metadata": {},
     "output_type": "execute_result"
    }
   ],
   "source": [
    "include(\"../scripts/kf.jl\")"
   ]
  },
  {
   "cell_type": "code",
   "execution_count": 2,
   "metadata": {},
   "outputs": [
    {
     "data": {
      "text/plain": [
       "make_ax (generic function with 1 method)"
      ]
     },
     "execution_count": 2,
     "metadata": {},
     "output_type": "execute_result"
    }
   ],
   "source": [
    "function make_ax()\n",
    "    fig, ax = subplots()\n",
    "    ax.set_aspect(\"equal\")\n",
    "    ax.set_xlim(-5,5)\n",
    "    ax.set_ylim(-5,5)\n",
    "    ax.set_xlabel(\"X\", fontsize=20)\n",
    "    ax.set_ylabel(\"Y\", fontsize=20)\n",
    "    return ax\n",
    "end"
   ]
  },
  {
   "cell_type": "code",
   "execution_count": 3,
   "metadata": {},
   "outputs": [
    {
     "data": {
      "text/plain": [
       "draw_trajectory (generic function with 1 method)"
      ]
     },
     "execution_count": 3,
     "metadata": {},
     "output_type": "execute_result"
    }
   ],
   "source": [
    "function draw_trajectory(xs, ax)\n",
    "    poses = [xs[s] for s in 1:length(xs)]\n",
    "    ax.scatter([e[1] for e in poses], [e[2] for e in poses], s=5, marker=\".\", color=\"black\")\n",
    "    ax.plot([e[1] for e in poses], [e[2] for e in poses], linewidth=0.5, color=\"black\")\n",
    "end"
   ]
  },
  {
   "cell_type": "code",
   "execution_count": 4,
   "metadata": {},
   "outputs": [
    {
     "data": {
      "text/plain": [
       "draw_observations (generic function with 1 method)"
      ]
     },
     "execution_count": 4,
     "metadata": {},
     "output_type": "execute_result"
    }
   ],
   "source": [
    "function draw_observations(xs, zlist, ax)\n",
    "    for s in 1:length(xs)\n",
    "        if !haskey(zlist, s)\n",
    "            continue\n",
    "        end\n",
    "        for obs in zlist[s]\n",
    "            x,y,theta = xs[s]\n",
    "            ell,phi = obs[2][1], obs[2][2]\n",
    "            mx = x + ell*cos(theta+phi)\n",
    "            my = y + ell*sin(theta+phi)\n",
    "            ax.plot([x,mx],[y,my], color=\"pink\", alpha=0.5)\n",
    "        end\n",
    "    end\n",
    "end"
   ]
  },
  {
   "cell_type": "code",
   "execution_count": 25,
   "metadata": {},
   "outputs": [
    {
     "data": {
      "text/plain": [
       "read_data (generic function with 1 method)"
      ]
     },
     "execution_count": 25,
     "metadata": {},
     "output_type": "execute_result"
    }
   ],
   "source": [
    "function read_data()\n",
    "    f = open(\"log_for_book.txt\", \"r\")\n",
    "    lines = readlines(f)\n",
    "    hat_xs = Dict()\n",
    "    zlist = Dict()\n",
    "    for line in lines\n",
    "        tmp = split(line)\n",
    "        step = parse(Int, tmp[2]) + 1#for 1-indexed\n",
    "        if tmp[1] == \"x\"\n",
    "            hat_xs[step] = [parse(Float64, tmp[3]), \n",
    "                parse(Float64, tmp[4]), parse(Float64, tmp[5])]\n",
    "        elseif tmp[1] == \"z\"\n",
    "            if !haskey(zlist, step)\n",
    "                zlist[step] = []\n",
    "            end\n",
    "            push!(zlist[step], (parse(Int, tmp[3]), [parse(Float64, tmp[4]), \n",
    "                parse(Float64, tmp[5]), parse(Float64, tmp[6])]))\n",
    "        end\n",
    "    end\n",
    "    return hat_xs, zlist\n",
    "end"
   ]
  },
  {
   "cell_type": "code",
   "execution_count": 26,
   "metadata": {},
   "outputs": [],
   "source": [
    "mutable struct ObsEdge\n",
    "    t1\n",
    "    t2\n",
    "    x1\n",
    "    x2\n",
    "    z1\n",
    "    z2\n",
    "    omega_upperleft\n",
    "    omega_upperright\n",
    "    omega_bottomleft\n",
    "    omega_bottomright\n",
    "    xi_upper\n",
    "    xi_bottom\n",
    "end"
   ]
  },
  {
   "cell_type": "code",
   "execution_count": 27,
   "metadata": {},
   "outputs": [
    {
     "data": {
      "text/plain": [
       "ObsEdge_ (generic function with 2 methods)"
      ]
     },
     "execution_count": 27,
     "metadata": {},
     "output_type": "execute_result"
    }
   ],
   "source": [
    "function ObsEdge_(t1,t2,z1,z2,xs, sensor_noise_rate=[0.14, 0.05, 0.05])\n",
    "    @assert z1[1] == z2[1]\n",
    "    self = ObsEdge(ntuple(x->nothing, fieldcount(ObsEdge))...)\n",
    "    self.t1, self.t2 = t1, t2\n",
    "    self.x1, self.x2 = xs[t1], xs[t2]\n",
    "    self.z1, self.z2 = z1[2], z2[2]\n",
    "    \n",
    "    s1 = sin(self.x1[3] + self.z1[2])\n",
    "    c1 = cos(self.x1[3] + self.z1[2])\n",
    "    s2 = sin(self.x2[3] + self.z2[2])\n",
    "    c2 = cos(self.x2[3] + self.z2[2])\n",
    "    \n",
    "    hat_e = self.x2 - self.x1 + \n",
    "        [self.z2[1]*c2 - self.z1[1]*c1, \n",
    "        self.z2[1]*s2 - self.z1[1]*s1, \n",
    "        self.z2[2] - self.z2[3] - self.z1[2] + self.z1[3]]\n",
    "    \n",
    "    while hat_e[3] >= pi\n",
    "        hat_e[3] -= 2*pi\n",
    "    end\n",
    "    while hat_e[3] < -pi\n",
    "        hat_e[3] += 2*pi\n",
    "    end\n",
    "    \n",
    "    Q1 = Diagonal([(self.z1[1]*sensor_noise_rate[1])^2, sensor_noise_rate[2]^2, \n",
    "            sensor_noise_rate[3]^2])\n",
    "    R1 = -[c1 -self.z1[1]*s1 0;\n",
    "                s1 self.z1[1]*c1 0;\n",
    "                0 1 -1]\n",
    "    \n",
    "    Q2 = Diagonal([(self.z2[1]*sensor_noise_rate[1])^2, sensor_noise_rate[2]^2, \n",
    "            sensor_noise_rate[3]^2])\n",
    "    R2 = [c2 -self.z2[1]*s2 0;\n",
    "                s2 self.z2[1]*c2 0;\n",
    "                0 1 -1]\n",
    "    Sigma = R1* Q1 * R1' + R2*Q2*R2'\n",
    "    Omega = inv(Sigma)\n",
    "    \n",
    "    B1 = -[1 0 -self.z1[1]*s1;\n",
    "               0 1 self.z1[1]*c1;\n",
    "               0 0 1]\n",
    "    B2 = [1 0 -self.z2[1]*s2;\n",
    "               0 1 self.z2[1]*c2;\n",
    "               0 0 1]\n",
    "    self.omega_upperleft = B1' * Omega * B1\n",
    "    self.omega_upperright = B1' * Omega * B2\n",
    "    self.omega_bottomleft = B2' * Omega * B1\n",
    "    self.omega_bottomright = B2' * Omega * B2\n",
    "    \n",
    "    self.xi_upper = -B1' * Omega * hat_e\n",
    "    self.xi_bottom = -B2' * Omega * hat_e\n",
    "    return self\n",
    "end"
   ]
  },
  {
   "cell_type": "code",
   "execution_count": 28,
   "metadata": {},
   "outputs": [
    {
     "data": {
      "text/plain": [
       "add_edge (generic function with 1 method)"
      ]
     },
     "execution_count": 28,
     "metadata": {},
     "output_type": "execute_result"
    }
   ],
   "source": [
    "function add_edge(edge, Omega, xi)\n",
    "    f1, f2 = 1+(edge.t1-1)*3, 1+(edge.t2-1)*3\n",
    "    t1, t2 = f1 + 2, f2 + 2\n",
    "    Omega[f1:t1, f1:t1] += edge.omega_upperleft\n",
    "    Omega[f1:t1, f2:t2] += edge.omega_upperright\n",
    "    Omega[f2:t2, f1:t1] += edge.omega_bottomleft\n",
    "    Omega[f2:t2, f2:t2] += edge.omega_bottomright\n",
    "    xi[f1:t1] += edge.xi_upper\n",
    "    xi[f2:t2] += edge.xi_bottom\n",
    "end"
   ]
  },
  {
   "cell_type": "code",
   "execution_count": 50,
   "metadata": {},
   "outputs": [
    {
     "data": {
      "text/plain": [
       "make_edges (generic function with 1 method)"
      ]
     },
     "execution_count": 50,
     "metadata": {},
     "output_type": "execute_result"
    }
   ],
   "source": [
    "function make_edges(hat_xs, zlist)\n",
    "    landmark_keys_zlist = Dict()\n",
    "    for step in keys(zlist)\n",
    "        for z in zlist[step]\n",
    "            landmark_id = z[1]\n",
    "            if !haskey(landmark_keys_zlist,landmark_id)\n",
    "                landmark_keys_zlist[landmark_id] = []\n",
    "            end\n",
    "            push!(landmark_keys_zlist[landmark_id],(step,z))\n",
    "        end\n",
    "    end\n",
    "\n",
    "    edges = []\n",
    "    for landmark_id in keys(landmark_keys_zlist)\n",
    "        for i in 1:length(landmark_keys_zlist[landmark_id])\n",
    "            for j in i+1:length(landmark_keys_zlist[landmark_id])\n",
    "                xz1 = landmark_keys_zlist[landmark_id][i]\n",
    "                xz2 = landmark_keys_zlist[landmark_id][j]\n",
    "                push!(edges, ObsEdge_(xz1[1], xz2[1], xz1[2], xz2[2], hat_xs))\n",
    "            end\n",
    "        end\n",
    "    end\n",
    "    return edges\n",
    "end"
   ]
  },
  {
   "cell_type": "code",
   "execution_count": 51,
   "metadata": {},
   "outputs": [
    {
     "data": {
      "text/plain": [
       "draw_edges (generic function with 1 method)"
      ]
     },
     "execution_count": 51,
     "metadata": {},
     "output_type": "execute_result"
    }
   ],
   "source": [
    "function draw_edges(edges, ax)\n",
    "    for e in edges\n",
    "        ax.plot([e.x1[1], e.x2[1]], [e.x1[2], e.x2[2]], color=\"red\", alpha=0.5)\n",
    "    end\n",
    "end"
   ]
  },
  {
   "cell_type": "code",
   "execution_count": 52,
   "metadata": {},
   "outputs": [
    {
     "data": {
      "text/plain": [
       "draw (generic function with 9 methods)"
      ]
     },
     "execution_count": 52,
     "metadata": {},
     "output_type": "execute_result"
    }
   ],
   "source": [
    "function draw(xs, zlist, edges)\n",
    "    ax = make_ax()\n",
    "    draw_observations(xs, zlist, ax)\n",
    "#     draw_edges(edges, ax)\n",
    "    draw_trajectory(xs, ax)\n",
    "end"
   ]
  },
  {
   "cell_type": "code",
   "execution_count": 53,
   "metadata": {
    "scrolled": true
   },
   "outputs": [
    {
     "name": "stdout",
     "output_type": "stream",
     "text": [
      "1回目の繰り返し: 27.195551\n",
      "2回目の繰り返し: 29.829738\n",
      "3回目の繰り返し: 20.400711\n",
      "4回目の繰り返し: 3.252495\n",
      "5回目の繰り返し: 1.892829\n",
      "6回目の繰り返し: 1.107462\n",
      "7回目の繰り返し: 0.645731\n",
      "8回目の繰り返し: 0.375444\n",
      "9回目の繰り返し: 0.217796\n",
      "10回目の繰り返し: 0.126023\n",
      "11回目の繰り返し: 0.072651\n",
      "12回目の繰り返し: 0.041629\n",
      "13回目の繰り返し: 0.023604\n"
     ]
    },
    {
     "data": {
      "image/png": "[encoded data removed]",
      "text/plain": [
       "Figure(PyObject <Figure size 640x480 with 1 Axes>)"
      ]
     },
     "metadata": {},
     "output_type": "display_data"
    },
    {
     "name": "stdout",
     "output_type": "stream",
     "text": [
      "14回目の繰り返し: 0.013137\n",
      "15回目の繰り返し: 0.007068\n"
     ]
    }
   ],
   "source": [
    "hat_xs, zlist = read_data()\n",
    "dim = length(hat_xs) * 3\n",
    "for n in 1:10000\n",
    "    edges = make_edges(hat_xs, zlist)\n",
    "    Omega = zeros(dim, dim)\n",
    "    xi = zeros(dim)\n",
    "    Omega[1:3, 1:3] += Matrix{Float64}(I, 3, 3) * 1000000\n",
    "    \n",
    "    for e in edges\n",
    "        add_edge(e, Omega, xi)\n",
    "    end\n",
    "    \n",
    "    delta_xs = inv(Omega) * xi\n",
    "    \n",
    "    for i in 1:length(hat_xs)\n",
    "        hat_xs[i] += delta_xs[1+3*(i-1) : i*3]\n",
    "    end\n",
    "    \n",
    "    diff = norm(delta_xs)\n",
    "    println(@sprintf(\"%d回目の繰り返し: %f\", n, diff))\n",
    "    if diff < 0.01\n",
    "        draw(hat_xs, zlist, edges)\n",
    "        break\n",
    "    end\n",
    "    \n",
    "end\n"
   ]
  },
  {
   "cell_type": "code",
   "execution_count": null,
   "metadata": {},
   "outputs": [],
   "source": []
  }
 ],
 "metadata": {
  "kernelspec": {
   "display_name": "Julia 1.5.3",
   "language": "julia",
   "name": "julia-1.5"
  },
  "language_info": {
   "file_extension": ".jl",
   "mimetype": "application/julia",
   "name": "julia",
   "version": "1.5.3"
  }
 },
 "nbformat": 4,
 "nbformat_minor": 4
}
