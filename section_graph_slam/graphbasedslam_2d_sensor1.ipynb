{
 "cells": [
  {
   "cell_type": "code",
   "execution_count": 1,
   "metadata": {
    "scrolled": true
   },
   "outputs": [
    {
     "data": {
      "text/plain": [
       "draw (generic function with 8 methods)"
      ]
     },
     "execution_count": 1,
     "metadata": {},
     "output_type": "execute_result"
    }
   ],
   "source": [
    "include(\"../scripts/kf.jl\")"
   ]
  },
  {
   "cell_type": "code",
   "execution_count": 2,
   "metadata": {},
   "outputs": [
    {
     "data": {
      "text/plain": [
       "make_ax (generic function with 1 method)"
      ]
     },
     "execution_count": 2,
     "metadata": {},
     "output_type": "execute_result"
    }
   ],
   "source": [
    "function make_ax()\n",
    "    fig, ax = subplots()\n",
    "    ax.set_aspect(\"equal\")\n",
    "    ax.set_xlim(-5,5)\n",
    "    ax.set_ylim(-5,5)\n",
    "    ax.set_xlabel(\"X\", fontsize=20)\n",
    "    ax.set_ylabel(\"Y\", fontsize=20)\n",
    "    return ax\n",
    "end"
   ]
  },
  {
   "cell_type": "code",
   "execution_count": 3,
   "metadata": {},
   "outputs": [
    {
     "data": {
      "text/plain": [
       "draw_trajectory (generic function with 1 method)"
      ]
     },
     "execution_count": 3,
     "metadata": {},
     "output_type": "execute_result"
    }
   ],
   "source": [
    "function draw_trajectory(xs, ax)\n",
    "    poses = [xs[s] for s in 1:length(xs)]\n",
    "    ax.scatter([e[1] for e in poses], [e[2] for e in poses], s=5, marker=\".\", color=\"black\")\n",
    "    ax.plot([e[1] for e in poses], [e[2] for e in poses], linewidth=0.5, color=\"black\")\n",
    "end"
   ]
  },
  {
   "cell_type": "code",
   "execution_count": 4,
   "metadata": {},
   "outputs": [
    {
     "data": {
      "text/plain": [
       "draw_observations (generic function with 1 method)"
      ]
     },
     "execution_count": 4,
     "metadata": {},
     "output_type": "execute_result"
    }
   ],
   "source": [
    "function draw_observations(xs, zlist, ax)\n",
    "    for s in 1:length(xs)\n",
    "        if !haskey(zlist, s)\n",
    "            continue\n",
    "        end\n",
    "        for obs in zlist[s]\n",
    "            x,y,theta = xs[s]\n",
    "            ell,phi = obs[2][1], obs[2][2]\n",
    "            mx = x + ell*cos(theta+phi)\n",
    "            my = y + ell*sin(theta+phi)\n",
    "            ax.plot([x,mx],[y,my], color=\"pink\", alpha=0.5)\n",
    "        end\n",
    "    end\n",
    "end"
   ]
  },
  {
   "cell_type": "code",
   "execution_count": 5,
   "metadata": {},
   "outputs": [
    {
     "data": {
      "text/plain": [
       "read_data (generic function with 1 method)"
      ]
     },
     "execution_count": 5,
     "metadata": {},
     "output_type": "execute_result"
    }
   ],
   "source": [
    "function read_data()\n",
    "    f = open(\"log2_for_book.txt\", \"r\")\n",
    "    lines = readlines(f)\n",
    "    hat_xs = Dict()\n",
    "    zlist = Dict()\n",
    "    delta = 0.0\n",
    "    us = Dict()\n",
    "    for line in lines\n",
    "        tmp = split(line)\n",
    "        step = parse(Int, tmp[2]) + 1#for 1-indexed\n",
    "        if tmp[1] == \"x\"\n",
    "            hat_xs[step] = [parse(Float64, tmp[3]), \n",
    "                parse(Float64, tmp[4]), parse(Float64, tmp[5])]\n",
    "        elseif tmp[1] == \"z\"\n",
    "            if !haskey(zlist, step)\n",
    "                zlist[step] = []\n",
    "            end\n",
    "            push!(zlist[step], (parse(Int, tmp[3]), [parse(Float64, tmp[4]), \n",
    "                parse(Float64, tmp[5])]))\n",
    "        elseif tmp[1] == \"delta\"\n",
    "            delta = parse(Float64, tmp[2])\n",
    "        elseif tmp[1] == \"u\"\n",
    "            us[step] = [parse(Float64, tmp[3]), parse(Float64, tmp[4])]\n",
    "        end\n",
    "    end\n",
    "    return hat_xs, zlist, us, delta\n",
    "end"
   ]
  },
  {
   "cell_type": "code",
   "execution_count": 6,
   "metadata": {},
   "outputs": [],
   "source": [
    "mutable struct ObsEdge\n",
    "    t1\n",
    "    t2\n",
    "    x1\n",
    "    x2\n",
    "    z1\n",
    "    z2\n",
    "    omega_upperleft\n",
    "    omega_upperright\n",
    "    omega_bottomleft\n",
    "    omega_bottomright\n",
    "    xi_upper\n",
    "    xi_bottom\n",
    "end"
   ]
  },
  {
   "cell_type": "code",
   "execution_count": 16,
   "metadata": {},
   "outputs": [
    {
     "data": {
      "text/plain": [
       "ObsEdge_ (generic function with 2 methods)"
      ]
     },
     "execution_count": 16,
     "metadata": {},
     "output_type": "execute_result"
    }
   ],
   "source": [
    "function ObsEdge_(t1,t2,z1,z2,xs, sensor_noise_rate=[0.14, 0.05])\n",
    "    @assert z1[1] == z2[1]\n",
    "    self = ObsEdge(ntuple(x->nothing, fieldcount(ObsEdge))...)\n",
    "    self.t1, self.t2 = t1, t2\n",
    "    self.x1, self.x2 = xs[t1], xs[t2]\n",
    "    self.z1, self.z2 = z1[2], z2[2]\n",
    "    \n",
    "    s1 = sin(self.x1[3] + self.z1[2])\n",
    "    c1 = cos(self.x1[3] + self.z1[2])\n",
    "    s2 = sin(self.x2[3] + self.z2[2])\n",
    "    c2 = cos(self.x2[3] + self.z2[2])\n",
    "    \n",
    "    hat_e = self.x2[1:2] - self.x1[1:2] + \n",
    "        [self.z2[1]*c2 - self.z1[1]*c1, \n",
    "        self.z2[1]*s2 - self.z1[1]*s1]\n",
    "    \n",
    "    Q1 = Diagonal([(self.z1[1]*sensor_noise_rate[1])^2,\n",
    "            sensor_noise_rate[2]^2]\n",
    "        )\n",
    "    R1 = -[c1 -self.z1[1]*s1;\n",
    "                s1 self.z1[1]*c1]\n",
    "    \n",
    "    Q2 = Diagonal([(self.z2[1]*sensor_noise_rate[1])^2, \n",
    "            sensor_noise_rate[2]^2])\n",
    "    R2 = [c2 -self.z2[1]*s2;\n",
    "                s2 self.z2[1]*c2]\n",
    "    Sigma = R1* Q1 * R1' + R2*Q2*R2'\n",
    "    Omega = inv(Sigma)\n",
    "    \n",
    "    B1 = -[1 0 -self.z1[1]*s1;\n",
    "               0 1 self.z1[1]*c1]\n",
    "    B2 = [1 0 -self.z2[1]*s2;\n",
    "               0 1 self.z2[1]*c2]\n",
    "    self.omega_upperleft = B1' * Omega * B1\n",
    "    self.omega_upperright = B1' * Omega * B2\n",
    "    self.omega_bottomleft = B2' * Omega * B1\n",
    "    self.omega_bottomright = B2' * Omega * B2\n",
    "    \n",
    "    self.xi_upper = -B1' * Omega * hat_e\n",
    "    self.xi_bottom = -B2' * Omega * hat_e\n",
    "    return self\n",
    "end"
   ]
  },
  {
   "cell_type": "code",
   "execution_count": 17,
   "metadata": {},
   "outputs": [],
   "source": [
    "mutable struct MotionEdge\n",
    "    t1\n",
    "    t2\n",
    "    hat_x1\n",
    "    hat_x2\n",
    "    Omega\n",
    "    omega_upperleft\n",
    "    omega_upperright\n",
    "    omega_bottomleft\n",
    "    omega_bottomright\n",
    "    xi_upper\n",
    "    xi_bottom\n",
    "end"
   ]
  },
  {
   "cell_type": "code",
   "execution_count": 18,
   "metadata": {},
   "outputs": [
    {
     "data": {
      "text/plain": [
       "MotionEdge_ (generic function with 2 methods)"
      ]
     },
     "execution_count": 18,
     "metadata": {},
     "output_type": "execute_result"
    }
   ],
   "source": [
    "function MotionEdge_( t1, t2, xs, us, delta, \n",
    "        motion_noise_stds=Dict(\"nn\"=>0.19, \"no\"=>0.001, \"on\"=>0.13, \"oo\"=>0.2))\n",
    "    self = MotionEdge(ntuple(x->nothing, fieldcount(MotionEdge))...)\n",
    "    self.t1, self.t2 = t1,t2\n",
    "    self.hat_x1, self.hat_x2 = xs[t1], xs[t2]\n",
    "    nu,omega = us[t2]\n",
    "    if abs(omega) < 1e-5\n",
    "        omega = 1e-5\n",
    "    end\n",
    "    M = matM(nu, omega, delta, motion_noise_stds)\n",
    "    A = matA(nu, omega, delta, self.hat_x1[3])\n",
    "    F = matF(nu, omega, delta, self.hat_x1[3])\n",
    "    \n",
    "    self.Omega = inv(A*M*A' + Matrix{Float64}(I, 3, 3)*0.0001)\n",
    "    self.omega_upperleft = F' * self.Omega * F\n",
    "    self.omega_upperright = -F' * self.Omega\n",
    "    self.omega_bottomleft = -self.Omega * F\n",
    "    self.omega_bottomright = self.Omega\n",
    "    \n",
    "    x2 = state_transition(IdealRobot(), nu, omega, delta, self.hat_x1)\n",
    "    self.xi_upper = F' * self.Omega * (self.hat_x2 - x2)\n",
    "    self.xi_bottom = -self.Omega * (self.hat_x2 - x2)\n",
    "    return self\n",
    "end\n"
   ]
  },
  {
   "cell_type": "code",
   "execution_count": 19,
   "metadata": {},
   "outputs": [
    {
     "data": {
      "text/plain": [
       "add_edge (generic function with 1 method)"
      ]
     },
     "execution_count": 19,
     "metadata": {},
     "output_type": "execute_result"
    }
   ],
   "source": [
    "function add_edge(edge, Omega, xi)\n",
    "    f1, f2 = 1+(edge.t1-1)*3, 1+(edge.t2-1)*3\n",
    "    t1, t2 = f1 + 2, f2 + 2\n",
    "    Omega[f1:t1, f1:t1] += edge.omega_upperleft\n",
    "    Omega[f1:t1, f2:t2] += edge.omega_upperright\n",
    "    Omega[f2:t2, f1:t1] += edge.omega_bottomleft\n",
    "    Omega[f2:t2, f2:t2] += edge.omega_bottomright\n",
    "    xi[f1:t1] += edge.xi_upper\n",
    "    xi[f2:t2] += edge.xi_bottom\n",
    "end"
   ]
  },
  {
   "cell_type": "code",
   "execution_count": 20,
   "metadata": {},
   "outputs": [
    {
     "data": {
      "text/plain": [
       "make_edges (generic function with 1 method)"
      ]
     },
     "execution_count": 20,
     "metadata": {},
     "output_type": "execute_result"
    }
   ],
   "source": [
    "function make_edges(hat_xs, zlist)\n",
    "    landmark_keys_zlist = Dict()\n",
    "    for step in keys(zlist)\n",
    "        for z in zlist[step]\n",
    "            landmark_id = z[1]\n",
    "            if !haskey(landmark_keys_zlist,landmark_id)\n",
    "                landmark_keys_zlist[landmark_id] = []\n",
    "            end\n",
    "            push!(landmark_keys_zlist[landmark_id],(step,z))\n",
    "        end\n",
    "    end\n",
    "\n",
    "    edges = []\n",
    "    for landmark_id in keys(landmark_keys_zlist)\n",
    "        for i in 1:length(landmark_keys_zlist[landmark_id])\n",
    "            for j in i+1:length(landmark_keys_zlist[landmark_id])\n",
    "                xz1 = landmark_keys_zlist[landmark_id][i]\n",
    "                xz2 = landmark_keys_zlist[landmark_id][j]\n",
    "                push!(edges, ObsEdge_(xz1[1], xz2[1], xz1[2], xz2[2], hat_xs))\n",
    "            end\n",
    "        end\n",
    "    end\n",
    "    return edges, landmark_keys_zlist\n",
    "end"
   ]
  },
  {
   "cell_type": "code",
   "execution_count": 21,
   "metadata": {},
   "outputs": [
    {
     "data": {
      "text/plain": [
       "draw_edges (generic function with 1 method)"
      ]
     },
     "execution_count": 21,
     "metadata": {},
     "output_type": "execute_result"
    }
   ],
   "source": [
    "function draw_edges(edges, ax)\n",
    "    for e in edges\n",
    "        ax.plot([e.x1[1], e.x2[1]], [e.x1[2], e.x2[2]], color=\"red\", alpha=0.5)\n",
    "    end\n",
    "end"
   ]
  },
  {
   "cell_type": "code",
   "execution_count": 22,
   "metadata": {},
   "outputs": [
    {
     "data": {
      "text/plain": [
       "draw (generic function with 9 methods)"
      ]
     },
     "execution_count": 22,
     "metadata": {},
     "output_type": "execute_result"
    }
   ],
   "source": [
    "function draw(xs, zlist, edges)\n",
    "    ax = make_ax()\n",
    "    draw_observations(xs, zlist, ax)\n",
    "#     draw_edges(edges, ax)\n",
    "    draw_trajectory(xs, ax)\n",
    "end"
   ]
  },
  {
   "cell_type": "code",
   "execution_count": 23,
   "metadata": {
    "scrolled": true
   },
   "outputs": [
    {
     "name": "stdout",
     "output_type": "stream",
     "text": [
      "1回目の繰り返し: 7.767490\n",
      "2回目の繰り返し: 1.490986\n",
      "3回目の繰り返し: 1.713588\n",
      "4回目の繰り返し: 1.493410\n",
      "5回目の繰り返し: 1.433488\n",
      "6回目の繰り返し: 1.355026\n",
      "7回目の繰り返し: 1.292390\n",
      "8回目の繰り返し: 1.234549\n",
      "9回目の繰り返し: 1.182257\n",
      "10回目の繰り返し: 1.134116\n",
      "11回目の繰り返し: 1.089498\n",
      "12回目の繰り返し: 1.047792\n",
      "13回目の繰り返し: 1.008535\n",
      "14回目の繰り返し: 0.971347\n",
      "15回目の繰り返し: 0.935931\n",
      "16回目の繰り返し: 0.902049\n",
      "17回目の繰り返し: 0.869512\n",
      "18回目の繰り返し: 0.838173\n",
      "19回目の繰り返し: 0.807917\n",
      "20回目の繰り返し: 0.778655\n",
      "21回目の繰り返し: 0.750315\n",
      "22回目の繰り返し: 0.722844\n",
      "23回目の繰り返し: 0.696201\n",
      "24回目の繰り返し: 0.670352\n",
      "25回目の繰り返し: 0.645271\n",
      "26回目の繰り返し: 0.620937\n",
      "27回目の繰り返し: 0.597334\n",
      "28回目の繰り返し: 0.574448\n",
      "29回目の繰り返し: 0.552264\n",
      "30回目の繰り返し: 0.530773\n",
      "31回目の繰り返し: 0.509962\n",
      "32回目の繰り返し: 0.489822\n",
      "33回目の繰り返し: 0.470340\n",
      "34回目の繰り返し: 0.451506\n",
      "35回目の繰り返し: 0.433309\n",
      "36回目の繰り返し: 0.415736\n",
      "37回目の繰り返し: 0.398776\n",
      "38回目の繰り返し: 0.382415\n",
      "39回目の繰り返し: 0.366640\n",
      "40回目の繰り返し: 0.351439\n",
      "41回目の繰り返し: 0.336797\n",
      "42回目の繰り返し: 0.322700\n",
      "43回目の繰り返し: 0.309134\n",
      "44回目の繰り返し: 0.296084\n",
      "45回目の繰り返し: 0.283537\n",
      "46回目の繰り返し: 0.271477\n",
      "47回目の繰り返し: 0.259889\n",
      "48回目の繰り返し: 0.248760\n",
      "49回目の繰り返し: 0.238074\n",
      "50回目の繰り返し: 0.227818\n",
      "51回目の繰り返し: 0.217977\n",
      "52回目の繰り返し: 0.208537\n",
      "53回目の繰り返し: 0.199484\n",
      "54回目の繰り返し: 0.190805\n",
      "55回目の繰り返し: 0.182487\n",
      "56回目の繰り返し: 0.174516\n",
      "57回目の繰り返し: 0.166879\n",
      "58回目の繰り返し: 0.159565\n",
      "59回目の繰り返し: 0.152560\n",
      "60回目の繰り返し: 0.145854\n",
      "61回目の繰り返し: 0.139435\n",
      "62回目の繰り返し: 0.133292\n",
      "63回目の繰り返し: 0.127413\n",
      "64回目の繰り返し: 0.121788\n",
      "65回目の繰り返し: 0.116408\n",
      "66回目の繰り返し: 0.111262\n",
      "67回目の繰り返し: 0.106341\n",
      "68回目の繰り返し: 0.101635\n",
      "69回目の繰り返し: 0.097136\n",
      "70回目の繰り返し: 0.092835\n",
      "71回目の繰り返し: 0.088724\n",
      "72回目の繰り返し: 0.084795\n",
      "73回目の繰り返し: 0.081041\n",
      "74回目の繰り返し: 0.077453\n",
      "75回目の繰り返し: 0.074025\n",
      "76回目の繰り返し: 0.070750\n",
      "77回目の繰り返し: 0.067622\n",
      "78回目の繰り返し: 0.064634\n",
      "79回目の繰り返し: 0.061780\n",
      "80回目の繰り返し: 0.059054\n",
      "81回目の繰り返し: 0.056451\n",
      "82回目の繰り返し: 0.053965\n",
      "83回目の繰り返し: 0.051591\n",
      "84回目の繰り返し: 0.049325\n",
      "85回目の繰り返し: 0.047161\n",
      "86回目の繰り返し: 0.045095\n",
      "87回目の繰り返し: 0.043123\n",
      "88回目の繰り返し: 0.041241\n",
      "89回目の繰り返し: 0.039444\n",
      "90回目の繰り返し: 0.037729\n",
      "91回目の繰り返し: 0.036092\n",
      "92回目の繰り返し: 0.034529\n",
      "93回目の繰り返し: 0.033038\n",
      "94回目の繰り返し: 0.031615\n",
      "95回目の繰り返し: 0.030257\n",
      "96回目の繰り返し: 0.028961\n",
      "97回目の繰り返し: 0.027725\n",
      "98回目の繰り返し: 0.026545\n",
      "99回目の繰り返し: 0.025419\n",
      "100回目の繰り返し: 0.024345\n",
      "101回目の繰り返し: 0.023320\n",
      "102回目の繰り返し: 0.022342\n",
      "103回目の繰り返し: 0.021409\n",
      "104回目の繰り返し: 0.020519\n",
      "105回目の繰り返し: 0.019670\n",
      "106回目の繰り返し: 0.018860\n",
      "107回目の繰り返し: 0.018088\n",
      "108回目の繰り返し: 0.017351\n",
      "109回目の繰り返し: 0.016648\n",
      "110回目の繰り返し: 0.015977\n",
      "111回目の繰り返し: 0.015337\n",
      "112回目の繰り返し: 0.014727\n",
      "113回目の繰り返し: 0.014145\n",
      "114回目の繰り返し: 0.013590\n",
      "115回目の繰り返し: 0.013061\n",
      "116回目の繰り返し: 0.012556\n",
      "117回目の繰り返し: 0.012074\n"
     ]
    },
    {
     "data": {
      "image/png": "[encoded data removed]",
      "text/plain": [
       "Figure(PyObject <Figure size 640x480 with 1 Axes>)"
      ]
     },
     "metadata": {},
     "output_type": "display_data"
    },
    {
     "name": "stdout",
     "output_type": "stream",
     "text": [
      "118回目の繰り返し: 0.011615\n",
      "119回目の繰り返し: 0.011177\n",
      "120回目の繰り返し: 0.010760\n",
      "121回目の繰り返し: 0.010362\n",
      "122回目の繰り返し: 0.009982\n"
     ]
    }
   ],
   "source": [
    "hat_xs, zlist, us, delta = read_data()\n",
    "dim = length(hat_xs) * 3\n",
    "glob_edges = []\n",
    "for n in 1:10000\n",
    "    edges, _ = make_edges(hat_xs, zlist)\n",
    "    for i in 1:length(hat_xs)-1\n",
    "        push!(edges, MotionEdge_(i, i+1, hat_xs, us, delta))\n",
    "    end\n",
    "    Omega = zeros(dim, dim)\n",
    "    xi = zeros(dim)\n",
    "    Omega[1:3, 1:3] += Matrix{Float64}(I, 3, 3) * 1000000\n",
    "    \n",
    "    for e in edges\n",
    "        add_edge(e, Omega, xi)\n",
    "    end\n",
    "    \n",
    "    delta_xs = inv(Omega) * xi\n",
    "    \n",
    "    for i in 1:length(hat_xs)\n",
    "        hat_xs[i] += delta_xs[1+3*(i-1) : i*3]\n",
    "    end\n",
    "    \n",
    "    diff = norm(delta_xs)\n",
    "    println(@sprintf(\"%d回目の繰り返し: %f\", n, diff))\n",
    "    if diff < 0.01\n",
    "        draw(hat_xs, zlist, edges)\n",
    "        glob_edges = edges\n",
    "        break\n",
    "    end\n",
    "end"
   ]
  },
  {
   "cell_type": "code",
   "execution_count": 24,
   "metadata": {},
   "outputs": [
    {
     "data": {
      "text/plain": [
       "(Any[ObsEdge(11, 39, [5.344513549135928, -1.0782605922298467, 1.3852962697609383], [4.758310364521456, 1.113618681230429, 8.332747824362832], [4.427758172741126, 0.31720215585292566], [2.669037708543687, -0.47510317987422784], [14.52368120122216 1.235954312954385 -64.46909295833065; 1.235954312954385 2.035302556872674 -6.608562271480034; -64.46909295833065 -6.608562271480034 286.82408963592917], [-14.52368120122216 -1.235954312954385 38.77607627451885; -1.235954312954385 -2.035302556872674 3.318685061066411; 64.46909295833065 6.608562271480034 -172.13389562598897], [-14.52368120122216 -1.235954312954385 64.46909295833065; -1.235954312954385 -2.035302556872674 6.608562271480034; 38.77607627451885 3.318685061066411 -172.13389562598894], [14.52368120122216 1.235954312954385 -38.77607627451885; 1.235954312954385 2.035302556872674 -3.318685061066411; -38.77607627451885 -3.318685061066411 103.52656119792073], [0.3718632693467352, 0.9416718969129919, -2.17980663290745], [-0.3718632693467352, -0.9416718969129919, 1.0017168651608286]), ObsEdge(11, 58, [5.344513549135928, -1.0782605922298467, 1.3852962697609383], [4.427086038275064, -1.6088460708562173, 13.325936879637348], [4.427758172741126, 0.31720215585292566], [5.317012965096577, 0.7744737609198799], [7.974217436254067 0.22153948250414296 -35.13094965286112; 0.22153948250414307 1.079198107579458 -1.5999395436876402; -35.13094965286112 -1.5999395436876398 155.13454673639592], [-7.974217436254067 -0.22153948250414296 42.32709310145225; -0.22153948250414307 -1.079198107579458 0.9662684645072073; 35.13094965286112 1.5999395436876398 -186.35293704289518], [-7.974217436254067 -0.22153948250414296 35.13094965286112; -0.22153948250414307 -1.079198107579458 1.5999395436876402; 42.32709310145225 0.9662684645072068 -186.35293704289515], [7.974217436254067 0.22153948250414296 -42.32709310145225; 0.22153948250414307 1.079198107579458 -0.9662684645072073; -42.32709310145225 -0.9662684645072068 224.71289432139514], [-1.033833574441442, 0.3934382451998782, 4.309153590607868], [1.033833574441442, -0.3934382451998782, -5.570067496349654]), ObsEdge(11, 59, [5.344513549135928, -1.0782605922298467, 1.3852962697609383], [4.732458123309273, -1.2178834050969158, 13.614736747380439], [4.427758172741126, 0.31720215585292566], [5.051169656416052, 0.5300385797622542], [8.61366394651952 0.4604555723827534 -38.07666474952809; 0.4604555723827535 1.162875864355356 -2.6972962447353552; -38.07666474952809 -2.697296244735355 168.7025764635511], [-8.61366394651952 -0.4604555723827534 43.52551435838135; -0.4604555723827535 -1.162875864355356 2.3704622371960573; 38.07666474952809 2.697296244735355 -192.42978628514095], [-8.61366394651952 -0.4604555723827534 38.07666474952809; -0.4604555723827535 -1.162875864355356 2.6972962447353552; 43.52551435838135 2.370462237196057 -192.42978628514098], [8.61366394651952 0.4604555723827534 -43.52551435838135; 0.4604555723827535 1.162875864355356 -2.3704622371960573; -43.52551435838135 -2.370462237196057 219.93949295664711], [-0.3542113081124827, 0.5752236804823019, 1.2203097403538412], [0.3542113081124827, -0.5752236804823019, -1.767023275202731]), ObsEdge(11, 57, [5.344513549135928, -1.0782605922298467, 1.3852962697609383], [3.9622813898062157, -1.9536619080991915, 13.091283894058448], [4.427758172741126, 0.31720215585292566], [5.281389130684098, 0.9111907249243695], [7.535857515277777 -0.16300658028069018 -32.98320852787278; -0.16300658028069012 1.0945375474891865 0.07907263672988382; -32.98320852787278 0.07907263672988404 144.73094448646214], [-7.535857515277777 0.16300658028069018 39.55492355293635; 0.16300658028069012 -1.0945375474891865 -1.6293646407729832; 32.98320852787278 -0.07907263672988404 -172.67548156105752], [-7.535857515277777 0.16300658028069018 32.98320852787278; 0.16300658028069012 -1.0945375474891865 -0.07907263672988382; 39.55492355293635 -1.6293646407729834 -172.67548156105752], [7.535857515277777 -0.16300658028069018 -39.55492355293635; -0.16300658028069012 1.0945375474891865 1.6293646407729832; -39.55492355293635 1.6293646407729834 208.16839502646886], [-0.6848715147957918, -0.019291005068763523, 3.0174008462284605], [0.6848715147957918, 0.019291005068763523, -3.5706305971689103]), ObsEdge(11, 14, [5.344513549135928, -1.0782605922298467, 1.3852962697609383], [5.102769834034747, 0.5805443992703713, 2.0796301518588844], [4.427758172741126, 0.31720215585292566], [3.189622840312952, -0.3619251830988841], [13.209460219248532 1.5836840743115452 -58.90262556812874; 1.5836840743115455 1.9315609103602256 -8.07457009438441; -58.90262556812874 -8.074570094384407 263.2429915937148], [-13.209460219248532 -1.5836840743115452 42.41877195146156; -1.5836840743115455 -1.9315609103602256 5.898788083776295; 58.90262556812874 8.074570094384407 -189.62341962281383], [-13.209460219248532 -1.5836840743115452 58.90262556812874; -1.5836840743115455 -1.9315609103602256 8.07457009438441; 42.41877195146156 5.898788083776294 -189.62341962281383], [13.209460219248532 1.5836840743115452 -42.41877195146156; 1.5836840743115455 1.9315609103602256 -5.898788083776295; -42.41877195146156 -5.898788083776294 136.59661778241835], [-1.007489170916079, 0.6188345400483858, 4.062458040428082], [1.007489170916079, -0.6188345400483858, -2.889962042162628]), ObsEdge(11, 35, [5.344513549135928, -1.0782605922298467, 1.3852962697609383], [4.950778087522472, -1.2675812383306717, 7.43746499197356], [4.427758172741126, 0.31720215585292566], [5.418176512189296, 0.4684371222507365], [8.035800004977114 0.5876881652599983 -35.6141620413972; 0.5876881652599986 1.0928316071872113 -3.215044651591279; -35.6141620413972 -3.215044651591278 158.1946855712426], [-8.035800004977114 -0.5876881652599983 43.64596151070101; -0.5876881652599986 -1.0928316071872113 3.487198379859088; 35.6141620413972 3.215044651591278 -193.6078167388859], [-8.035800004977114 -0.5876881652599983 35.6141620413972; -0.5876881652599986 -1.0928316071872113 3.215044651591279; 43.64596151070101 3.4871983798590866 -193.6078167388859], [8.035800004977114 0.5876881652599983 -43.64596151070101; 0.5876881652599986 1.0928316071872113 -3.487198379859088; -43.64596151070101 -3.4871983798590866 237.14340736831412], [-0.2620080126870236, 0.8544636878626292, 0.6532243161335085], [0.2620080126870236, -0.8544636878626292, -1.177427754395762]), ObsEdge(11, 37, [5.344513549135928, -1.0782605922298467, 1.3852962697609383], [5.1675977980385825, -0.21481459668957412, 7.942879330473212], [4.427758172741126, 0.31720215585292566], [4.3336773542990485, 0.032505909936618727], [10.273581386917147 1.1390266247403777 -45.757290222495264; 1.139026624740378 1.4742281960950958 -5.85686393950451; -45.757290222495264 -5.8568639395045095 204.25317766023687], [-10.273581386917147 -1.1390266247403777 44.79248403090778; -1.139026624740378 -1.4742281960950958 5.673564840111313; 45.757290222495264 5.8568639395045095 -199.91166366371692], [-10.273581386917147 -1.1390266247403777 45.757290222495264; -1.139026624740378 -1.4742281960950958 5.85686393950451; 44.79248403090778 5.673564840111312 -199.9116636637169], [10.273581386917147 1.1390266247403777 -44.79248403090778; 1.139026624740378 1.4742281960950958 -5.673564840111313; -44.79248403090778 -5.673564840111312 195.6650784556323], [-0.3521135292566854, 1.0067144615061707, 0.9602067964410619], [0.3521135292566854, -1.0067144615061707, -0.9863583252181289]), ObsEdge(11, 13, [5.344513549135928, -1.0782605922298467, 1.3852962697609383], [5.361353784208236, -0.07689533950698435, 1.8077748614749958], [4.427758172741126, 0.31720215585292566], [3.813523454935971, -0.05704745594805961], [11.434361078925507 1.5249842652043641 -51.07685081113807; 1.5249842652043644 1.728810630795103 -7.699021076080179; -51.07685081113807 -7.699021076080178 228.67406766656737], [-11.434361078925507 -1.5249842652043641 43.94200650005037; -1.5249842652043644 -1.728810630795103 6.901546825268703; 51.07685081113807 7.699021076080178 -196.89258983929076], [-11.434361078925507 -1.5249842652043641 51.07685081113807; -1.5249842652043644 -1.728810630795103 7.699021076080179; 43.94200650005037 6.901546825268702 -196.89258983929076], [11.434361078925507 1.5249842652043641 -43.94200650005037; 1.5249842652043644 1.728810630795103 -6.901546825268703; -43.94200650005037 -6.901546825268702 169.57869717983291], [-0.40751794901720195, 0.5007681299446739, 1.497587575026424], [0.40751794901720195, -0.5007681299446739, -1.1872285729960987]), ObsEdge(11, 40, [5.344513549135928, -1.0782605922298467, 1.3852962697609383], [4.502097779110482, 1.504812118424246, 8.553093305106216], [4.427758172741126, 0.31720215585292566], [2.1615161866293904, -0.8009200445886308], [15.478950022942 1.1732618479159973 -68.62570907597457; 1.1732618479159975 2.2200977391092853 -6.44083028832487; -68.62570907597457 -6.440830288324869 304.97166463000383], [-15.478950022942 -1.1732618479159973 33.027012835838825; -1.1732618479159975 -2.2200977391092853 2.035180783616537; 68.62570907597457 6.440830288324869 -146.1525749301796], [-15.478950022942 -1.1732618479159973 68.62570907597457; -1.1732618479159975 -2.2200977391092853 6.44083028832487; 33.027012835838825 2.0351807836165365 -146.15257493017964], [15.478950022942 1.1732618479159973 -33.027012835838825; 1.1732618479159975 2.2200977391092853 -2.035180783616537; -33.027012835838825 -2.0351807836165365 70.57168423879422], [-0.2353044468879586, 0.7152513935706745, 0.6169578154072286], [0.2353044468879586, -0.7152513935706745, -0.6631075445573354]), ObsEdge(11, 60, [5.344513549135928, -1.0782605922298467, 1.3852962697609383], [4.954723163841478, -0.6824981324382656, 13.872331427005856], [4.427758172741126, 0.31720215585292566], [4.183785981627734, 0.312789401280402], [10.573129869078276 0.8503360956879386 -46.90427001089005; 0.8503360956879388 1.4556017111669455 -4.578851428630286; -46.90427001089005 -4.578851428630285 208.5446315449606], [-10.573129869078276 -0.8503360956879386 44.355397131668184; -0.8503360956879388 -1.4556017111669455 3.8454582204550545; 46.90427001089005 4.578851428630285 -196.93013664266917], [-10.573129869078276 -0.8503360956879386 46.90427001089005; -0.8503360956879388 -1.4556017111669455 4.578851428630286; 44.355397131668184 3.8454582204550536 -196.9301366426692], [10.573129869078276 0.8503360956879386 -44.355397131668184; 0.8503360956879388 1.4556017111669455 -3.8454582204550545; -44.355397131668184 -3.8454582204550536 186.13137352390513], [0.06368290160996365, 0.2622084333001952, -0.43199444794732217], [-0.06368290160996365, -0.2622084333001952, 0.3187157490404963])  …  ObsEdge(24, 53, [0.8451411102565213, -0.1766593292300586, 4.587977216361805], [1.7577715648262484, -1.885513251974964, 12.068213103414232], [3.0347270125767944, 0.47739555199730815], [1.2284749049689676, -0.95087291579268], [32.66863559598471 9.275363904147753 102.75873796303337; 9.275363904147758 7.8722251741009 34.671503369526846; 102.75873796303337 34.67150336952683 328.99202025898904], [-32.66863559598471 -9.275363904147753 -41.2194864784175; -9.275363904147758 -7.8722251741009 -12.4848526053461; -102.75873796303337 -34.67150336952683 -130.4754130774754], [-32.66863559598471 -9.275363904147753 -102.75873796303337; -9.275363904147758 -7.8722251741009 -34.671503369526846; -41.2194864784175 -12.484852605346093 -130.4754130774754], [32.66863559598471 9.275363904147753 41.2194864784175; 9.275363904147758 7.8722251741009 12.4848526053461; 41.2194864784175 12.484852605346093 52.125123763891644], [-0.3313371721711278, -0.5163725308440572, -1.4852508262978217], [0.3313371721711278, 0.5163725308440572, 0.4810771016132849]), ObsEdge(24, 28, [0.8451411102565213, -0.1766593292300586, 4.587977216361805], [1.5800435960690293, -2.081228753632846, 5.663747384393903], [3.0347270125767944, 0.47739555199730815], [1.249281027393896, -0.6372540008300266], [33.342626822202696 10.355817300800613 105.81151675698268; 10.355817300800616 8.487062989595076 38.39325431868117; 105.81151675698268 38.393254318681166 341.589679289481], [-33.342626822202696 -10.355817300800613 -43.613488698852386; -10.355817300800616 -8.487062989595076 -15.580217116711538; -105.81151675698268 -38.393254318681166 -140.53998172146044], [-33.342626822202696 -10.355817300800613 -105.81151675698268; -10.355817300800616 -8.487062989595076 -38.39325431868117; -43.613488698852386 -15.580217116711534 -140.53998172146044], [33.342626822202696 10.355817300800613 43.613488698852386; 10.355817300800616 8.487062989595076 15.580217116711538; 43.613488698852386 15.580217116711534 57.833429941868516], [-0.14480653634386753, -1.3368447924555085, -1.8148416406231123], [0.14480653634386753, 1.3368447924555085, 0.6880535954324083]), ObsEdge(24, 23, [0.8451411102565213, -0.1766593292300586, 4.587977216361805], [1.0679934906706463, 0.6015750933063572, 4.287991707148683], [3.0347270125767944, 0.47739555199730815], [4.127658965344061, 0.653130033060803], [13.947336470383146 3.3493938824428664 43.23060177523181; 3.349393882442864 2.88488183213354 12.564345155897977; 43.23060177523181 12.564345155897982 136.28570533917204], [-13.947336470383146 -3.3493938824428664 -59.20517762060498; -3.349393882442864 -2.88488183213354 -16.165090614574428; -43.23060177523181 -12.564345155897982 -185.55281240805584], [-13.947336470383146 -3.3493938824428664 -43.23060177523181; -3.349393882442864 -2.88488183213354 -12.564345155897977; -59.20517762060498 -16.16509061457444 -185.55281240805584], [13.947336470383146 3.3493938824428664 59.20517762060498; 3.349393882442864 2.88488183213354 16.165090614574428; 59.20517762060498 16.16509061457444 253.14304553128687], [0.20894645458564454, -0.7701696557772526, -0.21298643840476217], [-0.20894645458564454, 0.7701696557772526, -0.1191795542285563]), ObsEdge(24, 27, [0.8451411102565213, -0.1766593292300586, 4.587977216361805], [1.2047620084311577, -1.7175263575880395, 5.360540739950651], [3.0347270125767944, 0.47739555199730815], [1.6090708612500921, -0.17349847865494925], [29.345409787475962 9.97740179720934 94.03195639230758; 9.977401797209344 8.313908017146078 37.13401262593377; 94.03195639230758 37.134012625933764 306.7248688109217], [-29.345409787475962 -9.97740179720934 -49.3361783330494; -9.977401797209344 -8.313908017146078 -20.39355468859074; -94.03195639230758 -37.134012625933764 -161.88572430021765], [-29.345409787475962 -9.97740179720934 -94.03195639230758; -9.977401797209344 -8.313908017146078 -37.13401262593377; -49.3361783330494 -20.393554688590733 -161.88572430021762], [29.345409787475962 9.97740179720934 49.3361783330494; 9.977401797209344 8.313908017146078 20.39355468859074; 49.3361783330494 20.393554688590733 85.60674187540813], [0.1057715345746928, -0.5764574669037645, -0.3035656632364381], [-0.1057715345746928, 0.5764574669037645, 0.2725440731236026]), ObsEdge(53, 28, [1.7577715648262484, -1.885513251974964, 12.068213103414232], [1.5800435960690293, -2.081228753632846, 5.663747384393903], [1.2284749049689676, -0.95087291579268], [1.249281027393896, -0.6372540008300266], [117.55147761020766 22.494680636671504 146.6963789268001; 22.494680636671493 21.77465338794787 30.678686705270618; 146.6963789268001 30.678686705270632 183.4562490827193], [-117.55147761020766 -22.494680636671504 -148.35231737499296; -22.494680636671493 -21.77465338794787 -35.13190092856516; -146.6963789268001 -30.678686705270632 -186.13996063236627], [-117.55147761020766 -22.494680636671504 -146.6963789268001; -22.494680636671493 -21.77465338794787 -30.678686705270618; -148.35231737499296 -35.13190092856517 -186.13996063236624], [117.55147761020766 22.494680636671504 148.35231737499296; 22.494680636671493 21.77465338794787 35.13190092856516; 148.35231737499296 35.13190092856517 189.8263461340401], [3.2398600526768897, -2.253751835600424, 3.61431893489333], [-3.2398600526768897, 2.253751835600424, -2.9795538816653524]), ObsEdge(53, 23, [1.7577715648262484, -1.885513251974964, 12.068213103414232], [1.0679934906706463, 0.6015750933063572, 4.287991707148683], [1.2284749049689676, -0.95087291579268], [4.127658965344061, 0.653130033060803], [20.551399914485422 3.981569770609104 25.654061089952386; 3.981569770609103 3.643651345621875 5.398736774857755; 25.654061089952386 5.398736774857756 32.08760380290682], [-20.551399914485422 -3.981569770609104 -86.34618294276162; -3.981569770609103 -3.643651345621875 -19.416681184241355; -25.654061089952386 -5.398736774857756 -108.18601146908593], [-20.551399914485422 -3.981569770609104 -25.654061089952386; -3.981569770609103 -3.643651345621875 -5.398736774857755; -86.34618294276162 -19.41668118424136 -108.18601146908593], [20.551399914485422 3.981569770609104 86.34618294276162; 3.981569770609103 3.643651345621875 19.416681184241355; 86.34618294276162 19.41668118424136 365.2972424764504], [0.7429796296501527, -0.7570458672714422, 0.7930095843972342], [-0.7429796296501527, 0.7570458672714422, -2.2783569501783827]), ObsEdge(53, 27, [1.7577715648262484, -1.885513251974964, 12.068213103414232], [1.2047620084311577, -1.7175263575880395, 5.360540739950651], [1.2284749049689676, -0.95087291579268], [1.6090708612500921, -0.17349847865494925], [73.68432627864571 22.00077132108649 93.1320008117093; 22.000771321086493 20.71381420393234 29.918128896150684; 93.1320008117093 29.91812889615068 118.02748881859237], [-73.68432627864571 -22.00077132108649 -121.6355064890934; -22.000771321086493 -20.71381420393234 -46.720095753747714; -93.1320008117093 -29.91812889615068 -155.29120071148282], [-73.68432627864571 -22.00077132108649 -93.1320008117093; -22.000771321086493 -20.71381420393234 -29.918128896150684; -121.6355064890934 -46.72009575374771 -155.29120071148282], [73.68432627864571 22.00077132108649 121.6355064890934; 22.000771321086493 20.71381420393234 46.720095753747714; 121.6355064890934 46.72009575374771 208.44119702627478], [1.4797393313062577, -0.1780626435613224, 1.7777929397087946], [-1.4797393313062577, 0.1780626435613224, -1.9868420693497764]), ObsEdge(28, 23, [1.5800435960690293, -2.081228753632846, 5.663747384393903], [1.0679934906706463, 0.6015750933063572, 4.287991707148683], [1.249281027393896, -0.6372540008300266], [4.127658965344061, 0.653130033060803], [20.40524757690589 4.244626150601633 25.883016243454428; 4.244626150601628 3.764797620916451 6.496437893128632; 25.883016243454428 6.496437893128637 33.26063416518521], [-20.40524757690589 -4.244626150601633 -86.00482797221112; -4.244626150601628 -3.764797620916451 -20.58759102783575; -25.883016243454428 -6.496437893128637 -110.13380613448462], [-20.40524757690589 -4.244626150601633 -25.883016243454428; -4.244626150601628 -3.764797620916451 -6.496437893128632; -86.00482797221112 -20.587591027835767 -110.13380613448462], [20.40524757690589 4.244626150601633 86.00482797221112; 4.244626150601628 3.764797620916451 20.58759102783575; 86.00482797221112 20.587591027835767 365.02082119617876], [0.1398111595927901, -0.40086013492496386, 0.011392201519586864], [-0.1398111595927901, 0.40086013492496386, -0.18688921841174455]), ObsEdge(28, 27, [1.5800435960690293, -2.081228753632846, 5.663747384393903], [1.2047620084311577, -1.7175263575880395, 5.360540739950651], [1.249281027393896, -0.6372540008300266], [1.6090708612500921, -0.17349847865494925], [79.56433531379253 29.5642321410825 105.94632180496511; 29.564232141082492 25.36538842387392 44.91761123919912; 105.94632180496511 44.91761123919913 143.2184480468281], [-79.56433531379253 -29.5642321410825 -135.6130391474867; -29.564232141082492 -25.36538842387392 -60.96558455436995; -105.94632180496511 -44.91761123919913 -184.66145583089178], [-79.56433531379253 -29.5642321410825 -105.94632180496511; -29.564232141082492 -25.36538842387392 -44.91761123919912; -135.61303914748666 -60.965584554369954 -184.66145583089175], [79.56433531379253 29.5642321410825 135.6130391474867; 29.564232141082492 25.36538842387392 60.96558455436995; 135.61303914748666 60.965584554369954 238.92174695555207], [1.509063848631465, 2.2959744529177457, 2.679215480429461], [-1.509063848631465, -2.2959744529177457, -3.8482025501243]), ObsEdge(23, 27, [1.0679934906706463, 0.6015750933063572, 4.287991707148683], [1.2047620084311577, -1.7175263575880395, 5.360540739950651], [4.127658965344061, 0.653130033060803], [1.6090708612500921, -0.17349847865494925], [18.35355512819496 4.192396098830331 77.70782915635002; 4.192396098830334 3.7319048876574925 20.346833318367743; 77.70782915635002 20.346833318367732 331.44029419912505], [-18.35355512819496 -4.192396098830331 -29.35048785201721; -4.192396098830334 -3.7319048876574925 -8.744535339917201; -77.70782915635002 -20.346833318367732 -126.17760810030035], [-18.35355512819496 -4.192396098830331 -77.70782915635002; -4.192396098830334 -3.7319048876574925 -20.346833318367743; -29.350487852017213 -8.744535339917196 -126.17760810030036], [18.35355512819496 4.192396098830331 29.35048785201721; 4.192396098830334 3.7319048876574925 8.744535339917201; 29.350487852017213 8.744535339917196 48.43680366905051], [-0.03881280131151943, 0.7397976484639528, 0.536357846418654], [0.03881280131151943, -0.7397976484639528, -0.4884941026058187])], Dict{Any,Any}(0 => Any[(11, (0, [4.427758172741126, 0.31720215585292566])), (39, (0, [2.669037708543687, -0.47510317987422784])), (58, (0, [5.317012965096577, 0.7744737609198799])), (59, (0, [5.051169656416052, 0.5300385797622542])), (57, (0, [5.281389130684098, 0.9111907249243695])), (14, (0, [3.189622840312952, -0.3619251830988841])), (35, (0, [5.418176512189296, 0.4684371222507365])), (37, (0, [4.3336773542990485, 0.032505909936618727])), (13, (0, [3.813523454935971, -0.05704745594805961])), (40, (0, [2.1615161866293904, -0.8009200445886308])), (60, (0, [4.183785981627734, 0.312789401280402])), (34, (0, [5.433237940286872, 0.6509452282681905])), (61, (0, [3.7023577368334855, 0.15006540532201393])), (38, (0, [3.3170410614709804, -0.24089361047890503])), (36, (0, [5.087874939386217, 0.28586245546715544])), (12, (0, [4.682670839370947, 0.158880216795361])), (62, (0, [3.4131418302846646, -0.1719687518454453]))],4 => Any[(55, (4, [2.3482505600985166, 0.43609407815288975])), (29, (4, [3.3192587452522773, 0.8445091561428734])), (58, (4, [1.0134738095956617, -0.2640147517684929])), (59, (4, [0.5336164832583566, -0.9915253035916173])), (8, (4, [1.4794933755287607, 0.37346697024468795])), (31, (4, [3.0505496603956113, 0.48391892882606136])), (33, (4, [1.4994552570258222, 0.08374132438315093])), (52, (4, [4.193214186533094, 0.9316697484265315])), (4, (4, [3.232248668214678, 0.9271014551531122])), (30, (4, [3.4908267108237094, 0.6264343693875785])), (54, (4, [3.0111060609267106, 0.5063626402117835])), (32, (4, [2.1063635216263097, 0.3446163044643431])), (7, (4, [2.1657212363632343, 0.48638373235810123])), (9, (4, [0.8507845802495075, 0.26118117584811934])), (34, (4, [0.7510652938137373, -0.11284810821911521])), (6, (4, [2.418356984546763, 0.6427574539377225])), (53, (4, [3.844661631406257, 0.7083254030067536])), (5, (4, [3.1223218843249145, 0.7833447600661643])), (56, (4, [2.1320771786926365, 0.2779334126502667]))],2 => Any[(55, (2, [4.02006482744642, -0.01429017256180026])), (29, (2, [5.344882883386335, 0.435461524684284])), (58, (2, [2.8841134928216343, -0.9730918769269762])), (8, (2, [3.5143330018934233, -0.6614724653001077])), (57, (2, [4.335586215823274, -0.6146342526111865])), (33, (2, [3.662654442441314, -0.6659493242835036])), (4, (2, [5.037807413414936, 0.545404831243263])), (54, (2, [5.293585470693822, 0.18837651438903644])), (32, (2, [3.982227727683513, -0.31516165691214376])), (7, (2, [4.40620114607918, -0.2494064185464252])), (9, (2, [2.7584434767665913, -0.9591613208446697])), (6, (2, [5.212526690828949, 0.06402378662030073])), (5, (2, [4.628287225342843, 0.32673702259584736])), (56, (2, [4.268056967045918, -0.18530966283304617]))],3 => Any[(11, (3, [3.0255009135406996, -0.7439619564642478])), (55, (3, [5.186776606224997, 0.6206888031044536])), (58, (3, [3.5873056871121882, -0.1956041929845472])), (59, (3, [3.684082928078415, -0.48445265928130493])), (8, (3, [4.903331212094983, 0.13966398869488744])), (31, (3, [5.650169678449999, 0.48168435824790323])), (33, (3, [4.555789648883457, 0.04443672110534898])), (35, (3, [3.4258697217431777, -0.5476666550678457])), (32, (3, [3.697820634953883, 0.31980706046393226])), (9, (3, [4.096210875422859, -0.11972696537912124])), (60, (3, [2.8260772146179765, -0.8472163875980898])), (34, (3, [4.10343883961623, -0.1645416186353466])), (36, (3, [3.1982060606155263, -0.9954818553174871])), (10, (3, [3.2465331163557565, -0.32794434615412393])), (6, (3, [5.751780875305774, 0.6850325286394866])), (56, (3, [4.678594530604646, 0.3514917385985484]))],5 => Any[(39, (5, [2.697325181645512, 0.7645119839622813])), (42, (5, [1.2941513425613926, 0.36157988506960154])), (14, (5, [2.8044774439244584, 0.5872561835091143])), (18, (5, [1.3342353714637385, -0.042655902597234174])), (17, (5, [1.6082604196396098, 0.19407252916792656])), (37, (5, [3.803319078635624, 0.8244765715080262])), (13, (5, [4.015055883254801, 0.7417132344986459])), (40, (5, [2.389782785287215, 0.6624246006188639])), (43, (5, [0.6757868120147524, 0.21734411509501278])), (61, (5, [3.317343991397896, 0.9449055743661436])), (38, (5, [3.237057260254542, 0.7623375130733009])), (36, (5, [3.71004670098503, 0.9953595533618814])), (12, (5, [3.7013296061423007, 0.9331715523478108])), (16, (5, [1.7188831038888823, 0.2502250893338339])), (62, (5, [3.0039374252755846, 0.8591207161219937])), (41, (5, [1.951039642150513, 0.5471313698010548])), (15, (5, [2.3971017736901357, 0.42648535312460967]))],1 => Any[(2, (1, [1.2405093561308513, -0.1938124669511002])), (46, (1, [4.4101502416240645, 0.8942066928388466])), (25, (1, [2.3568584599731883, 0.2578942695790927])), (52, (1, [1.6726514125872785, -0.3203185166046807])), (49, (1, [3.0035385270815675, 0.4035186193824411])), (1, (1, [1.8830012918756684, -0.0009103655212740827])), (47, (1, [3.8927085158442876, 0.741104395977381])), (50, (1, [3.0342288947787335, 0.12975794170022997])), (3, (1, [0.908050589781653, -0.7160964278375662])), (48, (1, [3.6742067543892314, 0.5565128188602548])), (21, (1, [4.831075314724718, 1.0093703366692282])), (51, (1, [2.11565817882669, -0.032402719312410504])), (22, (1, [4.300106285643873, 0.7935363786374193])), (24, (1, [3.0347270125767944, 0.47739555199730815])), (53, (1, [1.2284749049689676, -0.95087291579268])), (28, (1, [1.249281027393896, -0.6372540008300266])), (23, (1, [4.127658965344061, 0.653130033060803])), (27, (1, [1.6090708612500921, -0.17349847865494925]))]))"
      ]
     },
     "execution_count": 24,
     "metadata": {},
     "output_type": "execute_result"
    }
   ],
   "source": [
    "_, zlist_landmark = make_edges(hat_xs, zlist)"
   ]
  },
  {
   "cell_type": "code",
   "execution_count": 25,
   "metadata": {},
   "outputs": [],
   "source": [
    "mutable struct MapEdge\n",
    "    x\n",
    "    z\n",
    "    m\n",
    "    Omega\n",
    "    xi\n",
    "end"
   ]
  },
  {
   "cell_type": "code",
   "execution_count": 26,
   "metadata": {},
   "outputs": [
    {
     "data": {
      "text/plain": [
       "MapEdge_ (generic function with 2 methods)"
      ]
     },
     "execution_count": 26,
     "metadata": {},
     "output_type": "execute_result"
    }
   ],
   "source": [
    "function MapEdge_(t, z, head_t, head_z, xs, sensor_noise_rate=[0.14, 0.05])\n",
    "    self = MapEdge(ntuple(x->nothing, fieldcount(MapEdge))...)\n",
    "    self.x = xs[t]\n",
    "    self.z = z\n",
    "    self.m = self.x[1:2] + [\n",
    "        z[1]*cos(self.x[3] + z[2]),\n",
    "        z[1]*sin(self.x[3] + z[2])]\n",
    "    \n",
    "    Q1 = Diagonal([(self.z[1]*sensor_noise_rate[1])^2, \n",
    "            sensor_noise_rate[2]^2])\n",
    "    s1 = sin(self.x[3] + self.z[2])\n",
    "    c1 = cos(self.x[3] + self.z[2])\n",
    "    R = [-c1 self.z[1]*s1;\n",
    "            -s1 -self.z[1]*c1]\n",
    "    self.Omega = R * Q1 * R'\n",
    "    self.xi = self.Omega * self.m\n",
    "    return self\n",
    "end"
   ]
  },
  {
   "cell_type": "code",
   "execution_count": 27,
   "metadata": {},
   "outputs": [
    {
     "data": {
      "text/plain": [
       "draw_landmarks (generic function with 1 method)"
      ]
     },
     "execution_count": 27,
     "metadata": {},
     "output_type": "execute_result"
    }
   ],
   "source": [
    "function draw_landmarks(ms, ax)\n",
    "    ax.scatter([m[1] for m in values(ms)], [m[2] for m in values(ms)], s=100, \n",
    "        marker=\"*\", color=\"blue\", zorder=100)\n",
    "end"
   ]
  },
  {
   "cell_type": "code",
   "execution_count": 28,
   "metadata": {},
   "outputs": [
    {
     "data": {
      "text/plain": [
       "draw (generic function with 10 methods)"
      ]
     },
     "execution_count": 28,
     "metadata": {},
     "output_type": "execute_result"
    }
   ],
   "source": [
    "function draw(xs, zlist, edges, ms=[])\n",
    "    ax = make_ax()\n",
    "    draw_observations(xs, zlist, ax)\n",
    "    draw_trajectory(xs, ax)\n",
    "    draw_landmarks(ms, ax)\n",
    "end"
   ]
  },
  {
   "cell_type": "code",
   "execution_count": 29,
   "metadata": {
    "scrolled": true
   },
   "outputs": [],
   "source": [
    "ms = []\n",
    "for landmark_id in keys(zlist_landmark)\n",
    "    edges = []\n",
    "    head_z = zlist_landmark[landmark_id][1]\n",
    "    for z in zlist_landmark[landmark_id]\n",
    "        push!(edges, MapEdge_(z[1], z[2][2], head_z[1], head_z[2][2], hat_xs))\n",
    "    end\n",
    "    Omega = zeros(2,2)\n",
    "    xi = zeros(2)\n",
    "    for e in edges\n",
    "        Omega += e.Omega\n",
    "        xi += e.xi\n",
    "    end\n",
    "    push!(ms, inv(Omega)*xi)\n",
    "end"
   ]
  },
  {
   "cell_type": "code",
   "execution_count": 30,
   "metadata": {
    "scrolled": false
   },
   "outputs": [
    {
     "data": {
      "image/png": "[encoded data removed]",
      "text/plain": [
       "Figure(PyObject <Figure size 640x480 with 1 Axes>)"
      ]
     },
     "metadata": {},
     "output_type": "display_data"
    },
    {
     "data": {
      "text/plain": [
       "PyObject <matplotlib.collections.PathCollection object at 0x7f970c4599a0>"
      ]
     },
     "execution_count": 30,
     "metadata": {},
     "output_type": "execute_result"
    }
   ],
   "source": [
    "draw(hat_xs, zlist, glob_edges, ms)"
   ]
  },
  {
   "cell_type": "code",
   "execution_count": null,
   "metadata": {},
   "outputs": [],
   "source": []
  }
 ],
 "metadata": {
  "kernelspec": {
   "display_name": "Julia 1.5.3",
   "language": "julia",
   "name": "julia-1.5"
  },
  "language_info": {
   "file_extension": ".jl",
   "mimetype": "application/julia",
   "name": "julia",
   "version": "1.5.3"
  }
 },
 "nbformat": 4,
 "nbformat_minor": 4
}
