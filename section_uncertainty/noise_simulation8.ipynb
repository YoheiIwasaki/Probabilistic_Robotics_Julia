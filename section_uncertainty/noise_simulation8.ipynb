{
 "cells": [
  {
   "cell_type": "code",
   "execution_count": 1,
   "metadata": {},
   "outputs": [],
   "source": [
    "include(\"../scripts/ideal_robot.jl\")"
   ]
  },
  {
   "cell_type": "code",
   "execution_count": 2,
   "metadata": {},
   "outputs": [],
   "source": [
    "using Distributions\n",
    "using Random"
   ]
  },
  {
   "cell_type": "code",
   "execution_count": 3,
   "metadata": {},
   "outputs": [],
   "source": [
    "mutable struct Camera <: AbstractCamera\n",
    "    map\n",
    "    lastdata\n",
    "    distance_range\n",
    "    direction_range\n",
    "    distance_noise_rate\n",
    "    direction_noise\n",
    "    distance_bias_rate_std\n",
    "    direction_bias\n",
    "end"
   ]
  },
  {
   "cell_type": "code",
   "execution_count": 4,
   "metadata": {},
   "outputs": [
    {
     "data": {
      "text/plain": [
       "Camera"
      ]
     },
     "execution_count": 4,
     "metadata": {},
     "output_type": "execute_result"
    }
   ],
   "source": [
    "function Camera(env_map, distance_range=(0.5,6.0), direction_range=(-pi/3, pi/3),\n",
    "                distance_noise_rate=0.1, direction_noise=pi/90,\n",
    "                distance_bias_rate_stddev=0.1, direction_bias_stddev=pi/90)\n",
    "    self = Camera(ntuple(x->nothing, fieldcount(Camera))...)\n",
    "    self.map = env_map\n",
    "    self.lastdata = []\n",
    "    self.distance_range = distance_range\n",
    "    self.direction_range  = direction_range\n",
    "    self.distance_noise_rate = distance_noise_rate\n",
    "    self.direction_noise = direction_noise\n",
    "    self.distance_bias_rate_std = rand(Normal(0, distance_bias_rate_stddev))\n",
    "    self.direction_bias = rand(Normal(0, direction_bias_stddev))\n",
    "    return self\n",
    "end"
   ]
  },
  {
   "cell_type": "code",
   "execution_count": 5,
   "metadata": {},
   "outputs": [
    {
     "data": {
      "text/plain": [
       "noise (generic function with 1 method)"
      ]
     },
     "execution_count": 5,
     "metadata": {},
     "output_type": "execute_result"
    }
   ],
   "source": [
    "function noise(self::Camera, relpos)\n",
    "    ell = rand(Normal(relpos[1], abs(relpos[1])*self.distance_noise_rate))\n",
    "    phi = rand(Normal(relpos[2],  self.direction_noise))\n",
    "    return [ell, phi]\n",
    "end"
   ]
  },
  {
   "cell_type": "code",
   "execution_count": 21,
   "metadata": {},
   "outputs": [
    {
     "data": {
      "text/plain": [
       "bias (generic function with 2 methods)"
      ]
     },
     "execution_count": 21,
     "metadata": {},
     "output_type": "execute_result"
    }
   ],
   "source": [
    "function bias(self::Camera, relpos)\n",
    "    return relpos + [relpos[1]*self.distance_bias_rate_std, self.direction_bias]\n",
    "end"
   ]
  },
  {
   "cell_type": "code",
   "execution_count": 22,
   "metadata": {},
   "outputs": [
    {
     "data": {
      "text/plain": [
       "data (generic function with 2 methods)"
      ]
     },
     "execution_count": 22,
     "metadata": {},
     "output_type": "execute_result"
    }
   ],
   "source": [
    "function data(self::Camera, cam_pose)\n",
    "    observed = []\n",
    "    for lm in self.map.landmarks\n",
    "        z = observation_function(self, cam_pose, lm.pos)\n",
    "        if visible(self, z)\n",
    "            z = bias(self, z)\n",
    "            z = noise(self, z)\n",
    "            push!(observed, (z, lm.id))\n",
    "        end\n",
    "    end\n",
    "    self.lastdata = observed\n",
    "    return observed\n",
    "end"
   ]
  },
  {
   "cell_type": "code",
   "execution_count": 23,
   "metadata": {},
   "outputs": [
    {
     "data": {
      "text/plain": [
       "one_step (generic function with 3 methods)"
      ]
     },
     "execution_count": 23,
     "metadata": {},
     "output_type": "execute_result"
    }
   ],
   "source": [
    "mutable struct Robot <: AbstractRobot\n",
    "    pose\n",
    "    r\n",
    "    color\n",
    "    agent\n",
    "    poses\n",
    "    sensor\n",
    "    noise_pdf\n",
    "    distance_until_noise\n",
    "    theta_noise\n",
    "    bias_rate_nu\n",
    "    bias_rate_omega\n",
    "    stuck_pdf\n",
    "    escape_pdf\n",
    "    time_until_stuck\n",
    "    time_until_escape\n",
    "    is_stuck\n",
    "    kidnap_pdf\n",
    "    time_until_kidnap\n",
    "    kidnap_dist\n",
    "end\n",
    "\n",
    "function Robot(pose, agent, sensor, color, noise_per_meter = 5, noise_std=pi/60,\n",
    "    bias_rate_stds=(0.1,0.1), expected_stuck_time=1e100, expected_escape_time = 1e-100,\n",
    "    expected_kidnap_time=1e100, kidnap_range_x=(-5.0, 5.0), kidnap_range_y=(-5.0, 5.0))\n",
    "    rbt = Robot(ntuple(x->nothing, fieldcount(Robot))...)\n",
    "    rbt.pose = pose\n",
    "    rbt.r = 0.2\n",
    "    rbt.agent = agent\n",
    "    rbt.sensor = sensor\n",
    "    rbt.poses = [pose]\n",
    "    rbt.color = color\n",
    "    rbt.noise_pdf = Exponential(1.0/(1e-100 + noise_per_meter))\n",
    "    rbt.distance_until_noise = rand(rbt.noise_pdf)\n",
    "    rbt.theta_noise = Normal(0, noise_std)\n",
    "    rbt.bias_rate_nu = rand(Normal(1, bias_rate_stds[1]))\n",
    "    rbt.bias_rate_omega = rand(Normal(1, bias_rate_stds[2]))\n",
    "    rbt.stuck_pdf = Exponential(expected_stuck_time)\n",
    "    rbt.escape_pdf = Exponential(expected_escape_time)\n",
    "    rbt.time_until_stuck = rand(rbt.stuck_pdf)\n",
    "    rbt.time_until_escape = rand(rbt.escape_pdf)\n",
    "    rbt.is_stuck = false\n",
    "    rbt.kidnap_pdf = Exponential(expected_kidnap_time)\n",
    "    rbt.time_until_kidnap = rand(rbt.kidnap_pdf)\n",
    "    rx = kidnap_range_x\n",
    "    ry = kidnap_range_y\n",
    "    rbt.kidnap_dist = (Uniform(rx[1], rx[2]), Uniform(ry[1], ry[2]), Uniform(0, 2*pi))\n",
    "    return rbt\n",
    "end\n",
    "\n",
    "function noise(self::Robot, pose, nu, omega, time_interval)\n",
    "    self.distance_until_noise -= abs(nu)*time_interval + self.r*abs(omega)*time_interval\n",
    "    if self.distance_until_noise <= 0.0\n",
    "        self.distance_until_noise += rand(self.noise_pdf)\n",
    "        pose[3] += rand(self.theta_noise)\n",
    "    end\n",
    "    return pose\n",
    "end\n",
    "\n",
    "function bias(self::Robot, nu, omega)\n",
    "    return nu*self.bias_rate_nu, omega*self.bias_rate_omega\n",
    "end\n",
    "\n",
    "function stuck(self::Robot, nu, omega, time_interval)\n",
    "    if self.is_stuck\n",
    "        self.time_until_escape -= time_interval\n",
    "        if self.time_until_escape <= 0.0\n",
    "            self.time_until_escape += rand(self.escape_pdf)\n",
    "            self.is_stuck = false\n",
    "        end\n",
    "    else\n",
    "        self.time_until_stuck -= time_interval\n",
    "        if self.time_until_stuck <= 0.0\n",
    "            self.time_until_stuck += rand(self.stuck_pdf)\n",
    "            self.is_stuck = true\n",
    "        end\n",
    "    end\n",
    "    return nu*(!self.is_stuck), omega*(!self.is_stuck)\n",
    "end\n",
    "\n",
    "function kidnap(self::Robot, pose, time_interval)\n",
    "    self.time_until_kidnap -= time_interval\n",
    "    if self.time_until_kidnap <= 0.0\n",
    "        self.time_until_kidnap += rand(self.kidnap_pdf)\n",
    "        return [rand(self.kidnap_dist[1]), rand(self.kidnap_dist[2]), rand(self.kidnap_dist[3])]\n",
    "    else\n",
    "        return pose\n",
    "    end\n",
    "end\n",
    "\n",
    "function one_step(self::Robot, time_interval)\n",
    "    if isnothing(self.agent)\n",
    "        return\n",
    "    end\n",
    "    obs = nothing\n",
    "    if !isnothing(self.sensor)\n",
    "        obs = data(self.sensor, self.pose)\n",
    "    end\n",
    "    nu, omega = decision(self.agent, obs)\n",
    "    nu, omega = bias(self, nu, omega)\n",
    "    nu, omega = stuck(self, nu, omega, time_interval)\n",
    "    self.pose = state_transition(self, nu, omega, time_interval)\n",
    "    self.pose = noise(self, self.pose, nu, omega, time_interval)\n",
    "    self.pose = kidnap(self, self.pose, time_interval)\n",
    "end"
   ]
  },
  {
   "cell_type": "code",
   "execution_count": 25,
   "metadata": {},
   "outputs": [
    {
     "data": {
      "image/png": "[encoded data removed]",
      "text/plain": [
       "Figure(PyObject <Figure size 640x480 with 1 Axes>)"
      ]
     },
     "metadata": {},
     "output_type": "display_data"
    }
   ],
   "source": [
    "world = World(30, 1.0)\n",
    "m = Map()\n",
    "append_landmark(m, Landmark([-4.0,2.0]))\n",
    "append_landmark(m, Landmark([3.0,-3.0]))\n",
    "append_landmark(m, Landmark([3.0,3.0]))\n",
    "append_landmark(m, Landmark([3.0,-2.0]))\n",
    "append_landmark(m, Landmark([3.0, 0.0]))\n",
    "append_landmark(m, Landmark([3.0, 1.0]))\n",
    "append(world, m)\n",
    "\n",
    "straight = Agent(0.2, 0.0)\n",
    "r = Robot([0.0, 0.0, 0.0], straight, Camera(m), \"black\")\n",
    "append(world, r)\n",
    "draw(world)"
   ]
  },
  {
   "cell_type": "code",
   "execution_count": 26,
   "metadata": {},
   "outputs": [
    {
     "data": {
      "text/html": [
       "<video controls src=\"data:video/x-m4v;base64,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\">"
      ]
     },
     "metadata": {},
     "output_type": "display_data"
    }
   ],
   "source": [
    "showanim(\"test.mp4\")"
   ]
  },
  {
   "cell_type": "code",
   "execution_count": null,
   "metadata": {},
   "outputs": [],
   "source": []
  }
 ],
 "metadata": {
  "kernelspec": {
   "display_name": "Julia 1.5.3",
   "language": "julia",
   "name": "julia-1.5"
  },
  "language_info": {
   "file_extension": ".jl",
   "mimetype": "application/julia",
   "name": "julia",
   "version": "1.5.3"
  }
 },
 "nbformat": 4,
 "nbformat_minor": 4
}
