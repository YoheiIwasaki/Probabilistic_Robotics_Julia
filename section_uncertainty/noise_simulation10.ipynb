{
 "cells": [
  {
   "cell_type": "code",
   "execution_count": 1,
   "metadata": {},
   "outputs": [],
   "source": [
    "include(\"../scripts/ideal_robot.jl\")"
   ]
  },
  {
   "cell_type": "code",
   "execution_count": 2,
   "metadata": {},
   "outputs": [],
   "source": [
    "using Distributions\n",
    "using Random"
   ]
  },
  {
   "cell_type": "code",
   "execution_count": 3,
   "metadata": {},
   "outputs": [],
   "source": [
    "mutable struct Camera <: AbstractCamera\n",
    "    map\n",
    "    lastdata\n",
    "    distance_range\n",
    "    direction_range\n",
    "    distance_noise_rate\n",
    "    direction_noise\n",
    "    distance_bias_rate_std\n",
    "    direction_bias\n",
    "    phantom_dist\n",
    "    phantom_prob\n",
    "    oversight_prob\n",
    "end"
   ]
  },
  {
   "cell_type": "code",
   "execution_count": 4,
   "metadata": {},
   "outputs": [
    {
     "data": {
      "text/plain": [
       "Camera_ (generic function with 1 method)"
      ]
     },
     "execution_count": 4,
     "metadata": {},
     "output_type": "execute_result"
    }
   ],
   "source": [
    "function Camera_(env_map; distance_range=(0.5,6.0), direction_range=(-pi/3, pi/3),\n",
    "                distance_noise_rate=0.1, direction_noise=pi/90,\n",
    "                distance_bias_rate_stddev=0.1, direction_bias_stddev=pi/90,\n",
    "                phantom_prob=0.0, phantom_range_x = (-5.0, 5.0), phantom_range_y = (-5.0, 5.0),\n",
    "                oversight_prob=0.1)\n",
    "    self = Camera(ntuple(x->nothing, fieldcount(Camera))...)\n",
    "    self.map = env_map\n",
    "    self.lastdata = []\n",
    "    self.distance_range = distance_range\n",
    "    self.direction_range  = direction_range\n",
    "    self.distance_noise_rate = distance_noise_rate\n",
    "    self.direction_noise = direction_noise\n",
    "    self.distance_bias_rate_std = rand(Normal(0, distance_bias_rate_stddev))\n",
    "    self.direction_bias = rand(Normal(0, direction_bias_stddev))\n",
    "    rx = phantom_range_x\n",
    "    ry = phantom_range_y\n",
    "    self.phantom_dist = (Uniform(rx[1], rx[2]), Uniform(ry[1], ry[2]))\n",
    "    self.phantom_prob = phantom_prob\n",
    "    self.oversight_prob = oversight_prob\n",
    "    return self\n",
    "end"
   ]
  },
  {
   "cell_type": "code",
   "execution_count": 5,
   "metadata": {},
   "outputs": [
    {
     "data": {
      "text/plain": [
       "noise (generic function with 1 method)"
      ]
     },
     "execution_count": 5,
     "metadata": {},
     "output_type": "execute_result"
    }
   ],
   "source": [
    "function noise(self::Camera, relpos)\n",
    "    ell = rand(Normal(relpos[1], abs(relpos[1])*self.distance_noise_rate))\n",
    "    phi = rand(Normal(relpos[2],  self.direction_noise))\n",
    "    return [ell, phi]\n",
    "end"
   ]
  },
  {
   "cell_type": "code",
   "execution_count": 6,
   "metadata": {},
   "outputs": [
    {
     "data": {
      "text/plain": [
       "bias (generic function with 1 method)"
      ]
     },
     "execution_count": 6,
     "metadata": {},
     "output_type": "execute_result"
    }
   ],
   "source": [
    "function bias(self::Camera, relpos)\n",
    "    return relpos + [relpos[1]*self.distance_bias_rate_std, self.direction_bias]\n",
    "end"
   ]
  },
  {
   "cell_type": "code",
   "execution_count": 7,
   "metadata": {},
   "outputs": [
    {
     "data": {
      "text/plain": [
       "phantom (generic function with 1 method)"
      ]
     },
     "execution_count": 7,
     "metadata": {},
     "output_type": "execute_result"
    }
   ],
   "source": [
    "function phantom(self::Camera, cam_pose, relpos)\n",
    "    if rand(Uniform()) < self.phantom_prob\n",
    "        pos = [rand(self.phantom_dist[1]), rand(self.phantom_dist[2])]\n",
    "        return relative_polar_pos(self, cam_pose, pos)\n",
    "    else\n",
    "        return relpos\n",
    "    end\n",
    "end"
   ]
  },
  {
   "cell_type": "code",
   "execution_count": 8,
   "metadata": {},
   "outputs": [
    {
     "data": {
      "text/plain": [
       "oversight (generic function with 1 method)"
      ]
     },
     "execution_count": 8,
     "metadata": {},
     "output_type": "execute_result"
    }
   ],
   "source": [
    "function oversight(self::Camera, relpos)\n",
    "    if rand(Uniform()) < self.oversight_prob\n",
    "        return nothing\n",
    "    else\n",
    "        return relpos\n",
    "    end\n",
    "end"
   ]
  },
  {
   "cell_type": "code",
   "execution_count": 12,
   "metadata": {},
   "outputs": [
    {
     "data": {
      "text/plain": [
       "data (generic function with 2 methods)"
      ]
     },
     "execution_count": 12,
     "metadata": {},
     "output_type": "execute_result"
    }
   ],
   "source": [
    "function data(self::Camera, cam_pose)\n",
    "    observed = []\n",
    "    for lm in self.map.landmarks\n",
    "        z = relative_polar_pos(self, cam_pose, lm.pos)\n",
    "        z = phantom(self, cam_pose, z)\n",
    "        z = oversight(self, z)\n",
    "        if visible(self, z)\n",
    "            z = bias(self, z)\n",
    "            z = noise(self, z)\n",
    "            push!(observed, (z, lm.id))\n",
    "        end\n",
    "    end\n",
    "    self.lastdata = observed\n",
    "    return observed\n",
    "end"
   ]
  },
  {
   "cell_type": "code",
   "execution_count": 13,
   "metadata": {},
   "outputs": [
    {
     "data": {
      "text/plain": [
       "one_step (generic function with 3 methods)"
      ]
     },
     "execution_count": 13,
     "metadata": {},
     "output_type": "execute_result"
    }
   ],
   "source": [
    "mutable struct Robot <: AbstractRobot\n",
    "    pose\n",
    "    r\n",
    "    color\n",
    "    agent\n",
    "    poses\n",
    "    sensor\n",
    "    noise_pdf\n",
    "    distance_until_noise\n",
    "    theta_noise\n",
    "    bias_rate_nu\n",
    "    bias_rate_omega\n",
    "    stuck_pdf\n",
    "    escape_pdf\n",
    "    time_until_stuck\n",
    "    time_until_escape\n",
    "    is_stuck\n",
    "    kidnap_pdf\n",
    "    time_until_kidnap\n",
    "    kidnap_dist\n",
    "end\n",
    "\n",
    "function Robot(pose, agent, sensor, color, noise_per_meter = 5, noise_std=pi/60,\n",
    "    bias_rate_stds=(0.1,0.1), expected_stuck_time=1e100, expected_escape_time = 1e-100,\n",
    "    expected_kidnap_time=1e100, kidnap_range_x=(-5.0, 5.0), kidnap_range_y=(-5.0, 5.0))\n",
    "    rbt = Robot(ntuple(x->nothing, fieldcount(Robot))...)\n",
    "    rbt.pose = pose\n",
    "    rbt.r = 0.2\n",
    "    rbt.agent = agent\n",
    "    rbt.sensor = sensor\n",
    "    rbt.poses = [pose]\n",
    "    rbt.color = color\n",
    "    rbt.noise_pdf = Exponential(1.0/(1e-100 + noise_per_meter))\n",
    "    rbt.distance_until_noise = rand(rbt.noise_pdf)\n",
    "    rbt.theta_noise = Normal(0, noise_std)\n",
    "    rbt.bias_rate_nu = rand(Normal(1, bias_rate_stds[1]))\n",
    "    rbt.bias_rate_omega = rand(Normal(1, bias_rate_stds[2]))\n",
    "    rbt.stuck_pdf = Exponential(expected_stuck_time)\n",
    "    rbt.escape_pdf = Exponential(expected_escape_time)\n",
    "    rbt.time_until_stuck = rand(rbt.stuck_pdf)\n",
    "    rbt.time_until_escape = rand(rbt.escape_pdf)\n",
    "    rbt.is_stuck = false\n",
    "    rbt.kidnap_pdf = Exponential(expected_kidnap_time)\n",
    "    rbt.time_until_kidnap = rand(rbt.kidnap_pdf)\n",
    "    rx = kidnap_range_x\n",
    "    ry = kidnap_range_y\n",
    "    rbt.kidnap_dist = (Uniform(rx[1], rx[2]), Uniform(ry[1], ry[2]), Uniform(0, 2*pi))\n",
    "    return rbt\n",
    "end\n",
    "\n",
    "function noise(self::Robot, pose, nu, omega, time_interval)\n",
    "    self.distance_until_noise -= abs(nu)*time_interval + self.r*abs(omega)*time_interval\n",
    "    if self.distance_until_noise <= 0.0\n",
    "        self.distance_until_noise += rand(self.noise_pdf)\n",
    "        pose[3] += rand(self.theta_noise)\n",
    "    end\n",
    "    return pose\n",
    "end\n",
    "\n",
    "function bias(self::Robot, nu, omega)\n",
    "    return nu*self.bias_rate_nu, omega*self.bias_rate_omega\n",
    "end\n",
    "\n",
    "function stuck(self::Robot, nu, omega, time_interval)\n",
    "    if self.is_stuck\n",
    "        self.time_until_escape -= time_interval\n",
    "        if self.time_until_escape <= 0.0\n",
    "            self.time_until_escape += rand(self.escape_pdf)\n",
    "            self.is_stuck = false\n",
    "        end\n",
    "    else\n",
    "        self.time_until_stuck -= time_interval\n",
    "        if self.time_until_stuck <= 0.0\n",
    "            self.time_until_stuck += rand(self.stuck_pdf)\n",
    "            self.is_stuck = true\n",
    "        end\n",
    "    end\n",
    "    return nu*(!self.is_stuck), omega*(!self.is_stuck)\n",
    "end\n",
    "\n",
    "function kidnap(self::Robot, pose, time_interval)\n",
    "    self.time_until_kidnap -= time_interval\n",
    "    if self.time_until_kidnap <= 0.0\n",
    "        self.time_until_kidnap += rand(self.kidnap_pdf)\n",
    "        return [rand(self.kidnap_dist[1]), rand(self.kidnap_dist[2]), rand(self.kidnap_dist[3])]\n",
    "    else\n",
    "        return pose\n",
    "    end\n",
    "end\n",
    "\n",
    "function one_step(self::Robot, time_interval)\n",
    "    if isnothing(self.agent)\n",
    "        return\n",
    "    end\n",
    "    obs = nothing\n",
    "    if !isnothing(self.sensor)\n",
    "        obs = data(self.sensor, self.pose)\n",
    "    end\n",
    "    nu, omega = decision(self.agent, obs)\n",
    "    nu, omega = bias(self, nu, omega)\n",
    "    nu, omega = stuck(self, nu, omega, time_interval)\n",
    "    self.pose = state_transition(self, nu, omega, time_interval)\n",
    "    self.pose = noise(self, self.pose, nu, omega, time_interval)\n",
    "    self.pose = kidnap(self, self.pose, time_interval)\n",
    "end"
   ]
  },
  {
   "cell_type": "code",
   "execution_count": 14,
   "metadata": {},
   "outputs": [
    {
     "data": {
      "image/png": "[encoded data removed]",
      "text/plain": [
       "Figure(PyObject <Figure size 640x480 with 1 Axes>)"
      ]
     },
     "metadata": {},
     "output_type": "display_data"
    }
   ],
   "source": [
    "world = World(30, 1.0)\n",
    "m = Map()\n",
    "append_landmark(m, Landmark([-4.0,2.0]))\n",
    "append_landmark(m, Landmark([2.0,-3.0]))\n",
    "append_landmark(m, Landmark([3.0,3.0]))\n",
    "append(world, m)\n",
    "\n",
    "circling = Agent(0.2, 10.0/180*pi)\n",
    "r = Robot([0.0, 0.0, 0.0], circling, Camera_(m, oversight_prob=0.1), \"black\")\n",
    "append(world, r)\n",
    "draw(world)"
   ]
  },
  {
   "cell_type": "code",
   "execution_count": 15,
   "metadata": {},
   "outputs": [
    {
     "data": {
      "text/html": [
       "<video controls src=\"data:video/x-m4v;base64,AAAAIGZ0eXBpc29tAAACAGlzb21pc28yYXZjMW1wNDEAAAAIZnJlZQAAYcdtZGF0AAACoAYF//+c3EXpvebZSLeWLNgg2SPu73gyNjQgLSBjb3JlIDE1NyAtIEguMjY0L01QRUctNCBBVkMgY29kZWMgLSBDb3B5bGVmdCAyMDAzLTIwMTggLSBodHRwOi8vd3d3LnZpZGVvbGFuLm9yZy94MjY0Lmh0bWwgLSBvcHRpb25zOiBjYWJhYz0xIHJlZj0zIGRlYmxvY2s9MTowOjAgYW5hbHlzZT0weDM6MHgxMTMgbWU9aGV4IHN1Ym1lPTcgcHN5PTEgcHN5X3JkPTEuMDA6MC4wMCBtaXhlZF9yZWY9MSBtZV9yYW5nZT0xNiBjaHJvbWFfbWU9MSB0cmVsbGlzPTEgOHg4ZGN0PTEgY3FtPTAgZGVhZHpvbmU9MjEsMTEgZmFzdF9wc2tpcD0xIGNocm9tYV9xcF9vZmZzZXQ9LTIgdGhyZWFkcz0xMiBsb29rYWhlYWRfdGhyZWFkcz0yIHNsaWNlZF90aHJlYWRzPTAgbnI9MCBkZWNpbWF0ZT0xIGludGVybGFjZWQ9MCBibHVyYXlfY29tcGF0PTAgY29uc3RyYWluZWRfaW50cmE9MCBiZnJhbWVzPTMgYl9weXJhbWlkPTIgYl9hZGFwdD0xIGJfYmlhcz0wIGRpcmVjdD0xIHdlaWdodGI9MSBvcGVuX2dvcD0wIHdlaWdodHA9MiBrZXlpbnQ9MjUwIGtleWludF9taW49MSBzY2VuZWN1dD00MCBpbnRyYV9yZWZyZXNoPTAgcmNfbG9va2FoZWFkPTQwIHJjPWNyZiBtYnRyZWU9MSBjcmY9MjMuMCBxY29tcD0wLjYwIHFwbWluPTAgcXBtYXg9NjkgcXBzdGVwPTQgaXBfcmF0aW89MS40MCBhcT0xOjEuMDAAgAAAFvNliIQAF//+99S3zLLtU2+2C6j3op4mX0N1JQGblsTtOoAAAAMAAAMAAB68FzgCX4kK868AAAMAyoAXqEn/CmOPiA7BC5NJlvfhKIWPSXi/zA6JYDLoQAMQkginty7NGv2twoUk3+x++sOjYLO23GkLnX3zZEYn6a9vQcRQLf67K7SBvVrJ/o4DfjcfmL80ItpTpOBk9UoqIRYyXX9Jp26SG/qkhzXvDYJnUDUkXMWTV9xgIkId/B0DL63tzWtJoDT3qBLshsubVeON8CDX6ibsLgVVQ4A0D7tGbVkDzT/KsUAH7fA8ber7HvEJfThyzrLkSWNw9QjQzXk0jYHioNxDFOC0u5P/6flbarG27qxKpcR1g3jAe/uyNQkdibir9L1oZNoxCL9nTz5Do7WCxbfdwBz786P6Gt3+a9qFmQoe2Qlbs6zkxnOY8FmvubMXtnqJ20rtvpHrl79t6nq8q+9ZGR6BdRh00t3Aigy2K6jkGX8xF2NbE0107yMuMhNJ8nLf3bEUDA1W0TIui6TwnLCPxsZoeNH9a4AHuu+fRe2d9XIIXx50n+Od5FnEb6C9gPt3e826oHE1AgcXxvRCBxQI/BeMobygLn0j9VWXolTLRr1nefL0lQJDHRd0bMQ2bwJ+rzm8Mp/b24dtpJKsQryCKzCJcKad8rXWcKOAUajWn2P0NKgXGBFwI0M+idp/QrLQJJggEup5GqdX9LpivTz0Tg/GtPHRN/r0yThMt621zn7a4ylSl42LRaw5MezwM/+4GZwzEqm3AEN61OX4+ROEd9aArigTp3XWPCo1M3arBFgwglcnHb1e8ZbqIj4YaLbonxrArOWHmfSfBqXWPde/WRktmyHhQ5zaphFSjYU0Lns11vXjU1ONMVKVbNEfaKST3u+nzCLmQVjsoOK4fNxLvubsCygriI+/cKxxNVwhwMxig92FhVnxjeW0Qawhd7VT1zV28fRz3/DtwAEYAEMPhuaPHs+eUmorS8OmkrKb/BFyL/+uIgBi9KTpelcn4ZADCZ5v4oynHm5NxE59pKbJ9JAsOPBdsd2kCu71nJq/EQYHSrbPdz4PH+mJYSEYOMqie4UU1QQJ/8DR6ND9jmSeOTLo4sh6JMZTDsgmMjiZqxotT4a/hxHfEupEYr4JwU4Vxzm/7S98Zg8N9S7JPyWDhPU3xZQklMgfm/wYdLHCTtRfKP7NdF12xWJtkKno7Kpra6QfW6uS5NohOTrHYi1QKJpwt4N6q1NFTZEINe5g3roZ3hBuhm45FVeZthTHPMarOUDfW4LgqacaabU+lIw6K0Kafl/pGLQ5S4xUfHpIxAxd3dvo+wd0w9UsWWLyGTQe6iptBTdFO3cd37VoNJIBSyrnVCZlOgQo+3mCLnlBHG8i5fwZp8RlVRWJQVv6BQarerxO8aBRS7QLzlkASjaG5nHHRRU4V+oHhagdcHTjZQthHRsjQmM4TRMsSP8CVDXj0XKLE/d+HriiK5btArXGx1z3At7+LEEVyikZ3l68tPYqB4eNNoFKp9fexxRLHKP2c0r5NfU7K4dZrOqHkw4IfN+R0cJ3O+xs0L5fZtdL4dec05980J5hxwzaSemtp95rmM9p6ELm85iBEqItAgpHAk/lBfZnZTP3UOkV+hq7wfnqySOxOotG0JK4a3yTZ1pr6HIT2KS5tBHVYJP2oL6cxR50WKaFdIYzITMk+4ahlRgbweNKIrSpliOrQa690icnHY63KxcaorOFdPbUfILigRNiRXfEHz/yNmPXD7m/ptEvoarxnIqtYWQfpnNcpLK0uHoyATCYQrpebnu6tZohGjedibG7fN6KBy6lEb4e6PwIt4UyMVlLlOQD37WJO178b48TeRVbclKlPo17wEBd9CRsHK2DUIqDoJZ2c206eZ1jUK3pjVaLBBtnHiRPoX1LeXOmheovHvm2M9IgQwX931fFcF0hvgU6hKKWIHMKbJX0X/IJ868zkakN5GQ5Qx0bEiqScps+0QfG4rNN2d1YaCrLZEGg4nXIU3oyVLTe5pRJTcS0zEQbfXIYFc4t3jBITieAM59uOawTKn+Mhs7yyk7zlFD4X5/pEsXUmq9l2s6nawhA7wpGW3WJs8ZbCfPgSoqz5K9KAwCMXYpuokZvkTgZVwn53MqnJ5QCHnQFrY61Va/aptss/P7oNOYw9LYIEUubbU1GTqR1cSoc+HEmCMTJYLC6c5QQoUipyiAsCaVNtI7f917lAFU239DFwMe0CnXI/lR9OQNgCfBe/vEQXkeV27qkLy3xjreKqxqg00aKfMsMMKrf3SNobda9p/ebphfxniAbshFHwhcjVGiKIivilNCpXmZYtAkoMVPGNlSpCST3gFYEH8ekRfF0tOQ4o9mQ3uct8Vkfb7cHA+rzEq2HVkMUeVgxG3zU0hpX+0FJsW4y1Vcgklluuy90c1TtOe7b5Kf3cLBW7CYftO6CvQvoK3e1J2sW5BvFdO/mqWk45xk5OoP4WqFMf2I15zyBvkQVuywNXDuKl2skOhw3GEMFObD9KEufp7SOZR4aMDywzqvKQt7abcTHE8jdRx497eXflfBvkLUhfLxmiNro/kUzxxeC4Cyt3Tfr8M8MQm+XaZgRb3ql59BKDhK47UrE8no3DN6272MJz2I8RHsXNHvte80xgYn/rJp0OUI4WPVmdayC8tGSbOfqdmfDdB/9B+OgnOSYthBZyzaBqVwv/C7kLbzJdRxj3dVC1AsmoVnPDxMXzT95KrIKS90+/7Ejv+gcjq0w/0QO68qoYcKseZ5uz6UPKIBjs9mbV2WcReIbhSKo0yXPwHu6DIKLYKQpil8Svl5yZ50m/H/ZYz0uy5ozEcDowaczJ3BoO5fvnZFVRgUoAa/JR+tKqikIZca1IoXP/2dTPmMvdOz+uAhwTRcEfoR8bBy5wNyi8mnSo1zlIOruB/9c7XmA/yfjPTZJOFq+/HSpJDwsgGE4jtj1o+kDqaf22UsBBhi+qMLkASY7bwZN6hs2YURogCTZSmQZIoAn83mI6e+7Vsqden+T/NXvjhd+sFrn3QtJNmptps+MlDDWADgWAuBmIy4v72i3Orior0ZpM/I0xUIkqSH5U7bk5f/ZGPG37yS7jIcdpdQ22YH+FRThlwSna8TJa3ffsM2apJuH3JSkVOk4ZMJ1xmVFqE/2lasHu/R1X7eMFp2WzPkH0EYXXrEu1W7Z/3f5E/djPFfo3B75KgtpftiV+Ye6DcpW8yhrR9f5geVZo8AieXsiIi6xyLN2s2HBjv1wKR8Bw4aafZGEOEAdWF4bln7DLEZJ7kYAkGZiiJ9gJ51R7kd1+5YWxQAflreoqSymJq9RhWurI9z3oySFeC8T4Nzrtqh3ZjeOo5QYQtiNII9DRqQPLocqNCZ3MSa2yszmG+LpcQKS2dT0xkl6pPrWzf50rJIerV7wD2powIuUy3JI0gf1svOi443MH6t2N7x9keAGDBVYa+kZcdZyZMINIJFk+zUOnIO86RYs4SS/DB2FJ1evzI6+6F/9iIBdi4qDjftvsplF82xGAwA2QRYepzDhcowuzJ/eavR/k2EkMEv80c5kESNZ+DDI8nlgi+rUr7KQxhKUYePS/bfwp/CGFv5sj54oy4A6EAtRcfLSGIk3jjRT+0euwaLSeC4RFm3au1yUaxGDgDetqej2ay6DfK4oJt9PcuQrPZNmk1BWopj1XINIm9OiXLMs6pr/l8bBEMgnD+k1afQIiUFWyc9xuPulNbG2A1uv/tXJvXDaQCGTH83PCGSmiyaxrmzDYCzc1/XO4VugZKRuAjEOjqf89OdjOyqc2KuAgA66Sxcom9c8tRcurLPxItYTfSe4QVFhJmHRTPrlb08iSC57z7NtKsL+z3yzgB50xQ6/zIf02QePJ6N3iQxpLID78sJm5xjDTpU9d7sujY4JM27JkhI+munmOZCyT46kk+lRQyehOY/MCMLGQk/++obQtAHW3ZNG+2nAs5SB4kYEd3ldUAaV2EaYfRY8c8TCLFD9p+UwOEKW6Mq+P1hAyNAQ0elOl1U/tu+fvLii77XRqHMACu3uznG9fyOG1H14dM+7j+q2Hvg6/zv2qTTqwZ518dFbZj5oUbOckTvxORyuqaq87m6W10kFOnfL6VsHgc6YrJJhjj2At0koXxA/b5aOIwJLe5iRZ9h/QIN8yOuc+F7V5+pCrck/Ju5Y/a39Y7lfHXO92T23OhwDOXkbBIILSUBbyvlWEaKSN1V9m9vSPWS2YwJcOuqZMiJYfYG+y0bPbCT+by5mTnd9k/ZH0xNEfLSHbtnsPIutTH6OWUfmpMvt96obf05tZ8FS/H7iGSr91nRhTub6Nv7jYKf+1tQgbyQnHJ2efoPcMwF6Me76ZFWXsrzevbc3HbUBDBejh3y7zC8jGYxqwAFd/w3riNCiFaA0FxP/57SjAwrQCv0Wsaw9ojCBY68dkKH2Ep5HWen0rybLVVjLM3LDz+1LiPzQIJkJClE5LyXUPqRBLKdiCe/Q9VgADGFJeo5DK4MknvjEmgiK1uyXNp38nu4TDL1F8xrvX7RfXAwAJG6wdbVhNE2P65Fbjyk51QnHkUO8oWAF7B7O42UzBPiV/TDQGlYer95ZQznw20wmLtfhYYADQPb6Tgp81DlyJPgl7mFQFfAca8hYb9ARhnQ1/c2na0fK/NMjDOT2gF8vcE/0LrUwZCDdHTeoKTo3SvixPH7ygGht72vBBuaubYE/KduhTgC/QIk2fD7C1l0/CyKZDtFdzzReMZnGJqIUnkN2L1RC7Mj6NffcOhZWV0ly8HBgDWTlkau64R1VkcUhd0stxUSyFDrk0KyetaYRqWKf4SK+s8POkGUdGQRXdi7+c0tq/GHHg/k0aVkFxv6AM56v6O0BFVIESql5qCepddAf+ca+V1hPuO8SFTNlTArNHK0uAWEdhe7CzHvrqqHt3TGvOG/b9O0wZ8cE8F+RkPwfRpDQPE/YYR0W15IMM4Z0+B5rFyKd0PdJabsn7jVa3ZVV6kOUN/7nKuQKFJn5Vfn7sS0O1AyF1+dzx/ynOmystW5chOeZmNyxvByN0OciDAh/ex7jI18yyblRH0UlvEbgmmNI1DQVs6zbxweYfeMRAGOcjJaWwIPYKEI52PuB5otSOIZ2ZiISf84CecjLBqUV+he4w9MIhZge6D38bfoOy6mANQNmJFbl3L5vw99Yyiq8fQqSbEng8fg/0PZzQnVd3X5dT6xZzGmkOAACVY2plD/SpHQvHADhnErciGhn6y8JZxZmhIjSO7jpk+kCdHLeMpGZmaKnE9a+aCLmXQh6sWB6xjYQmcNk+2XcV3g5BjK5u/KiiFLRjZIyhclsYTWWdAYlkze5Hh/B0OaKlstTHw6azI4vBnsaAjwGlZe18uT9LAV5a7cX1VH05S2JtwZyDolAkm/BXIo3VCsAPaXDjiIf+cuoSwc0JpHXu+dzCUoUWyeO8Yenq/Q/yRyKvyLCQrAovORgUt1lUFJ1/xAd8TI4Xehpd32DbcJnz8ywlrhbj+Cnexecfly72hz35p+z7lyncbpmBJa9ZAuTKHS0/wplfAsz9SS8yCPrMYaWrUz7aFh7qymrzcnboMI4YM1CimK/41MeYu8/nt8syKEQ9ZlIPA3kNXvY/O5E27XhBjYN8MAiizvyNUvkduug8oA3/a+f1PLeJ4xeiUsjGP/4iiNlIO2JyMKMlD2CLLKYebjVoSXJv+5sFXWWCGQzSVQAPm4eWMUqLAPEaW/kttbYeZqfnYbUOrCaCNKjsUGHEJiAEqn2K5k31/qiBTE80YGyj01sUIIYi/ZuJSo5QpbKjVGF5me0RQ4RR7mt/CVJbmDQUK1n/ketjuiidseQi91cnHFQeVmguRW674T73A5TaRtmGwiW/+TXqsIhwzkVRVE2crbmtNFfROYhcv1wkG9VrGQXrvmH3ONE2ekAiq2Y4ZQ8xl0MGsdy6pf9i4au7kN4tkoYrgH+NH9s85kas15vr+K7HvHLHbrnGqA35N84Fti5Ft7x5zhG9W1k2U0+rxpWAAAFt8W6DgVvj98s+3oyi8t27XHlYbu5tYHNNtOQWkQKKwYhZ7xeH579bLrIafghdW88FpqqUvMAPOf7H6clUGqiPl2VDqZF9U4XUXjRvLdie/ikPCBj0v5bJsbKrIDGYLNQerFJesbJ5izwwUcEzCLm1vEg0/xh3jbi946HprZfk/Im/FIX/5vtrnv62C9ltStDB40/7J7KfHQFllvp/V4nmqZ7ukouJU6hxHl9uXHH9bfJ5gYjAAAENplSFEy6mO/thqJS6elFv0OOK5xEHgW6tnalO9xO+uZsAEj//2x4bOYF12kfEzvtM8G5i0y1+53UEjhfcs6Nfex+2mfJ6bPTqYXr8KhoBGU0DqpKVt8UcL8AcAWh6iJUSQL4CTmH/cwk6byBroNKzX6+CxwcMk0skfauXFaY5T2Cbl90PcsEu73A7xYPTPV8vI/DzazDQiPB/M5yXo2AUnJVsQhH+n9uQ1awPwx1XTOwE9IAJpsoPjzSkRUX++2Qs/436Cq+8//v7YBbeMtimsOhAnQ/+EqPpQJ4+Y01U4bZ8nq/gl/zlmOB5Y/7ncxdtmi1x0KE/xyWQ1D6DW38jtp2NM6bs8vK59WS2DAHRU47Q7F0Xp94yuFTpJkqe2a1h+g5+oA1KweLPifOK/NAxJW5d9piuFv++gDQgHF375OW8psmqPPWBY5COwIbtK3uiKcDsgetqiBtIbeXst6k+B8I1XyoX3a4LOpgPss+dJ3NnoVOSkLHbR5f5pZshfkTWIOYcI8hFSSci9Sj2MT60R6mHD/d/SXmbQnqLDGeULGQyLtpIs5VG3Lk7hxTqzmIGZRZwDoBRhDS+AIVLmLFLpoxLVOi2s/g/eq0RSPsgzQQ4u1oM6NVdQrUIFegVKf4hTSMgJNN9zmqAdTHuPBIsvlmZq59E3lZ1tiCq2MkoSpexoRtePOwX2LL+iW6pI9meY3qxjPkDY6/GmAjX4b7SMeOFFA9mIjvRq2rkrk21uSCY/mXP4I/dNyw9IdYC1byQRbOPddZ2Jy/fzzGWovr+L6EWGh2Z5iSE0F77C9vtIyK6o6h0gr5pDzVGdhpdCJkRzYIi+pu8H0l/NQWEyPC+nJGp72UyjNJ+ecnkkvvJimn/tuDWyQR3Fj/CP8GO7qXKVKtiLQWl/KqikR0z9qGgSvdInEzmWkTT8GMrWCcEKFxsTvhuVFKrRuJqi6AiZnmxRTN6ZWaGOjJmELoJ8MJ51RepdCgE/vm0AY36cB2lKtH6AV27CPnnwXBxfHhx52EweVinX2CLbxAdT1u5EhObWZQfsAEYqOacssrn2Wlzt8d73Aoz7Wp56GSyC300+6qK6gkPyEslrIV8ICE5mCiWI6CgZqa+WCYc3h1Qw2EMdlXy9B5GhkACpy57c/QpoN8sn0EmtZRc2JE2QqtzcrG1GQiXDykvIamVus4aRnDzhJJ8sxGa0MjIFFmAT5Q/bRpmC/LtfP2cEAjLBiq80MbtSSrtcQ8sOEsaCLUTqrMT0W1wFesFp6kl1SZBjr3KYwU1VuXfgVg5lxnE0Uxhf8Hv+znJiAIIUyhjMhLdfhuUvnandEqeOOw6ehr2HAabhyb2hFlC2o9BUp04JNeJ9J6/r8xOT02iS/npnzUMsRk6tC7ASIuNEk4jvs73zEX7vhaGk2Fpx6BN8fNH+QvEPskVZowcgcnzYCWUuEkOHENEtTOohRdD1vquBkpRRkRzkSsTSSdwcmkAtGbUrohsRxoO7iEapQWnNw1fHRDEoZPD8/8Eb7iPmXBn0uBCevEO3XhRyNtQXZu5dx8DJ+Bv1CYrukfAAAE1kGaI2xBf/7aplgAMpvr5oA3G1d9wvxVrizjOQTM6pPDVioPq2EoX7fQwXPAZOsFwsgnFq5SAyYiaSOSyQHbdS7r7gaJa0PyfuYCIQ18Rwgwg+Tz+iMUj/VAFqtZUwE14e6GVcfehTznDIIKXn8szKBt+hNluajLjIFhRCUkqp6qBMvVqM8/2EkFfeUcB4mymv2oNpCPq8Xnt8q4P5tvbHH42iIof6wbiTeY/8ak2G0+jPIr5CgDv/HnJ06KslcvUP/94iDqrd4gAeIso3P6VGeQ8Uh+fy5eIYP34k1jvYtG8xrPfALS7IgDMTwy+xLuLnndRdqT71Ap0Oj2Hd3GS9mlmCWkw+hgxP8nVSYwy+N9bgNWRuAVNSl+V28tnwU3h+0Gy0wLv2c39vX9vJm9//+8ZRSWjIy/Pou/tmLCBM/rK5PS1dR+at4tpeAJa595rW6glrIfiqnR0Nmi1dX6Mq1R7SjiCbCNvKXtaknCiBiLqyiYIAB+kthXTtRx+XJ3oni/CZxIASSD1Em1GUWwJZ1Uwevvn0FafZ2ABUlYo5Ho0LlOUJ0qW2uVahxOvwSvT8lAYhx+KUD71IyvC5sr+oCphRkmXP/zmmXk/tYI+0i3flU6eIX/E7Qbkxh1/tom0Efw8B4CZ7IefAFq/rUz/9ODdtzPaj2UvlGrJAgWF0IWeGpgdr2oyTETOwk3zK5DVa2eKAg7+JgD9EavXERESxR9YdkE0djlPSW45k9skvYN7gUckhC4i08P/+vlSKYi9Tr9jtlquF8E7/bRPJ6FGiMtZMzD2TY9GXBWv6mWemu+lYEgPpBJa1UNRYz5yvUvMg2spmRPL3l0TV4UrJVTzeI9aXeyEoTrWiWpTcAjI13dTaYcZXBiUVvLJvm0t09rmwCBns/s1sKmarrRzjdZe60ghvDfDSQiiLw29HYBagGgPgVM5LIUd0tndvgUt9sTYhjYJiCcHkY1a2V/VO+/YMOSS9+i5fCy1g17YtfCjOn//r7vylJpJf7bERziNPwkpQG3OzAjfvCWjLNfjcnFfgs++k6j3bv7naMHTwBbew0li6RbuWPyO1+tIge8TgEtjQaFBJWIxFoi68ktwxIHsmdXjeLDmChuCp2jg2tVZRQVEdXPXP36qUSnXjJSWzzrulS/xfFzeKcslHDfiv3dH4TkR91xIgCIczNAP0C5q0tXX7J39zFe311o9ymZEUesUCurAxjcHplRZhCf2S4mDMd/XJtge5a2KBBcXFUB5PT1hBN0Rhx2oIWWh6f5Bjnyw8BCmV+wg+oqktlOHiMnW426qmFb1O4VmQ+NWSvLn05tBiIY+1JlXWW51cSn+syy/U53tedQpaWI86b+ck9rY6TYCllF7xTf855jQusowL8IvPOz+4v9CI+niMQ9VURMeYcqkBlbGsnQ8JelBblMXsnKsclbp18As2uo2bRvMET2lDoTuSqI6fPhZUOfvYzAb5oXZ34D7h1uKCJqD2RrZnVlYHBu/7rWS8dO94XTTB6hKZspeH6qUcCVPaFYvZGmag58nypVuGtRUYZCaosjJA1uNp2/2ONnTeHO0Qk6w94OeTpBlxLJ5OC1/5nqPxmlUHstAB0p4ii28p5kEztZmR6h9Zf+8uHEBT/xbQSFak6Hu6f+VuIwAAADtEGeQXiCvwAAIZIquv8c19jSIAEwVZGpS0k/hvrmHtFB/Q/76ug8v4hpPOjYMl0bg5awn223EhKgZ7IupUrMTcNWMay4ZUGQO60PUYRcgJj06iM/NaMEyf8jDB+ewKPqJ22w2kvq2f/gMBJbjK+YCT6bRkdx8TpMQPo13WFAy1KJU81ymRVQJCJ8vSq5+Eo8QYsXArz5h9I8/GWzuOhZNpYlYWfbSPzVCh7oTr3V0WfT1f7uclv6ZF9WIzEl9FVZ92qHqWM5MAZbsFGqUOh6VXPKD98yAOt5mUP3ZqQ/+xz35cwA6TmcxyjfyqPZPygRtS5RrbBETPpIjzf6ritH1dnNpW1ArgCTrPZfL88JgfnlXruseUCcRBpCn2OR+13v7XNmGXYnLG1eEzBdPH2zZn66af93QbgJomWEvy7MFNCrnrHEvuiKODLZOy8brG+Ga0FzFoVMJWFDceBDbm+WavHQw74mUjYk6vSnDLUOTM4yeAvniLPmW8JOkTQFfICcd2lThWmiItQjv5IWvkVUiGHNnhaGyXul9ncYJSgboojkbc0GjaLMv9onFxifMOYCAats7JcRV2snHGp9NfV6SYEbhecHdCt+PWJVKbcB2efX5nrsRaXsWwzfmliNWpPIA5ANbMA32/iwkyfmlXUnqoSMmzb5T65jXVNjk1zrKJ2eFDwTF8odKSBpDoinBajD7E/IUYbD0z6ES+XnSL2rxtjnWnjThCOn0sudXmap5yFGQQ6cJCNAFMA6ZgZyfeYlcmsGfX4rq5VJB0fqts25zbs05iUH4gSBE+XeuW3NdVT0WQlLngLmkYx7T4jwgX4aQbnII4cpHQy5tGgXn7E+0BpHKOKvPIZyctE/Ta8pFcEZA5E6ph3fphRWTtdwCmRXSwz3N6dq2KmLnXnTQgsQitLnBcRQI80cevpEaopCS7LSmyOXGa6WgMPkFM+tBxuLRzrWasYNsdweKW+KvJ8Kahyq/ZLf/d0uOIZJG70JR+z/2cuBr0hOP3q4sfWgdxW1s3iZSxTSpR0M7B3pwUiJWJCmLvDCQztci/wJt9Q71pq85tUIqWWK7FykBuKf0+g+5KwXYejSAr5nRzF55G7E7VJYl5sLjsAtGPUgbyA0K5BCo+lpWPizGulKNWQCE5u0gIdcVnnovG/BGL1Rb3WCQeM7aLG17QZJBbW1xe1gifk9rxGz6fGrSAHcc9K5s3KO+1Wmcje9c6LEXyhIuYzxuShJHmqVdBpTVhDyK1xG41ivE7laPQAAAeUBnmJqQV8AACAxy9zJMCgAQmdb6Fe6XphqSJom0GrGrDLCrOBZPtr4jdexjIrRHBh9kjKW9gZcynRaBsFfDmG3xvkvBCC47D4aSUcWvfEUsz1GR+Msp8VwBJEMTQxV9r5kOQSKDO9FZZM/vx+hStrx6X4muPo6JpIkHXB/fOq4Ve2iDors4f36tf52OvGKvzQb1xO9z4f+smddHQTKl8/wAd9QbdCjS459T0uGpd2PxMdmKlnsOYRtybJM9JA9iZWBmZZyEi/sgBWeWN5krdGUblyw9yla7mqIsUwHiwOXNuF+UHd2Gb00iHf+/ozsM1u0qoeshtHWwhq4i+XkbXN7o9XwmZL4wFA/G5jN9PBm3AD/b961QdL10qqaCNe9LNU16lX7PoecHX8WC/OzauHyMs1txN3rD9lVz/cqtIE6TQFgDz+0hdBiiTuJzKhYu1mUXTBUyKpo8hGNCBY3zI53IWIxHHq/d/SCRKC8iF2dgjiKdaMOsc8dCyc4mJ6JOBeJhsWkthSynDWT98LKq6MPA35HLpsplJnH3Ev0KcUZ4upEjbmAFqogfikgCVX1suBrbhPpc5FQgWMPjpCx2Cl8jf+jCxtjQTJUcIB8iSV1tptxlLTSUQadgJPNiqn84sLK6JOzgAAAA6ZBmmdJqEFomUwIL//+2qZYADFcce2gAhSgRxKG654Pd+z+j+e5dfyreOgoqvkPYIsreXWoqKPtk9+udyvpbJzqVRJYLW9TVS7oIt7Y8ciekFUcp8E4zGlhKsEKphVzdYXyOqpke7muaQtq9EIleVqnFvXoiXOANJB7qc/n+oiMG5oZOpej+PkOQjsp9+rIKQVugP9YHO5tJ0qUT2LcD7l16B+STV4u2AcOXziBOXR7HwMV/ZGgt1vDOCOpumsfwhZIw5kmnamXBUrneMWou/TbW8CR6nvQ5wGyLjuMyFT1Og1f0m4uMZfCvReyK1a6GJRThIJEQmtCYDylfIQvYx/qBNo5A84f8Mae3kqE8yb3gMYmsP6BSMx+sraGgHXRVuivfFfD33G7WSlX/SrAVRo4frtP7tWZo/yXNVSQHi9oX4P2qLBZJ1NGiXHDjRxV9bA+I9GAaEhucOvz2R605+m4YPWy9fM6JdRllTTmqsUfUrbxD8kKN2DsrvUeC1EOvbFXpHfejHylDCsPb5hs/2EInbV9mqrH2bIoem5t8j3pi0i72KG4Y/2ckRPmxMMmIRqfr1ETgSGCYDff2JpGiUYW4bMI9vc+NtdfKOVSvMmEOolt2aWEFU323i+J2vbzC6ASlBHmqdZRXWHSpbk5kmDwQELiRE/v4GWx8nvspapKjYQ6B10BN2VOTCtkilCiIT8VdOPBi9EdVgZDFEeBNrKqzbDSZLSyieiMGxOs3PyuSTqdbfI8Vyx3dm6Y9ZfyJwLjW9YPIlEDhspndtf7SuOXKTA1AClHpxEzbPfzrIgLWnce6Ge6siKIt56+Y/ddzk1dfsm/Gplt4jZ/yRIKUo/yY8Ar0Flokt2jNhkdM2sI1+QHbGfYpRmsJN9zxRzRCFY37da8wBXHdxHlilZTKqzlka8W1Nw01pW8saB9VBeJyt8IwwjH5HB6044z4YoybJfEBw9aLB5SQF2PoF94uR9HRhuF0aXo74thW5avvby+cCJsaIPNJx085TpjZba4siXtVV71u03tr96wgeaoN/PPTSXKeFrq8o1nS+pN3C7g2JsC9zMmtrk43FUJWsGxRC4hf3mbcwmNo3d3TWDSvX97FT8HEByUEeah3KRCq2a+0kjTWckxd8MLP9F8E4ChVO4lrQKplx3vVngmN3HRy3a5UOUKearJs0btwzDSTReukVchiJjbOo4NSxpZQydcCmXI1oCp32S3MsoK11OdcIjmtRfd2cZ9AAABzEGehUURLBb/AAAVQvQO3EEbOgAJp6XwHjsyio9ieA00Mpbn8d55EzDlCy73O7HDQbiLWpGq7VWDhfCaW9C/DShVpQZM0WWTzFuV8ys7ouoiqzFxxYNR8kODilKPQ2mTcq9fG8IWy/d57q+X7IFx9lKIlp+IfLP7tUWsAHQPm1pJA2vNrmk4XLB7IMSJ6PUJJLJLEq36Yb7/bkIvdNLtK9P9O9CsUnVtzwm8E3R6ZsgJgaBvRWSnhBpl5ZsjeTqmMaXWa0+nZjMiZKVZSWuY55amXbhc8uKcV5Hcur/94u33uHlr1hw/WE45rVkuiyEUbC/ZdM+GwLJCrn81Se8b53tY/drGRz8CE452pd2ZrEjzQYE2q2na5BcFECEN5An2tvQLhDfohNjNm9gHDKftepSGJKB/XGr4dVVMi97dawiM1NCa0Angj1SSBUSMb6OAf98SagqAaAwAHVJ9iRFeIrg9W3wOiNnT989dFxrHKeqClCV4iwGYdvW4NrWPTanrpHTQa+RTNAyULB+gczT+772VCX1l+kz9r527/hXTcK93jZTOsS+KtQjNg5tSXMPLuGV4ohShHfPaixG8RccYIiGdnDxv1dwwbr7XUZ8AAAIDAZ6kdEFfAAAh3rQAJ3UzqspCXlQ4yKiNkTFrBZyiqrhjHZhRB93AMRjx7rBWmyCMmgg1IiFt//s0iGRHElSv0y29+TRZoHLVr9WeP8wMeBXam4hd2DqrJr65cvYphsktaCtDYjcMMnL0J5nX1hYomiYLRmB8oETd4F5Cc0Zb8FZxLPYzsRNS+6i8PFPtFvQyr3nq50WdX89ONtpe8o1io1fO3sLFOEbuNJFpAEMn/b87lFo9MGy4fnZwHobFQy+e6FEM+1YJ9/GhqFbzMG+4K5OOiP+lt0atoxC+IC13RWiFhJ2Ous2IB+EV7LOpgOXxH/0wBgG3+rPV8y8wAYfZuGZaa6qS7+wdcXDx+nzHW/yIvY4+6/HNvRxe+Vv8+012aiuQYCPlXHMEjX+BJ4HsZw740CEP/kvLq8FD5/MUx/389oYI+TFcnE5drPtSLUd1BkGPacyA4C9g4TOiHQZ5gmEOv8ndubwtgK5BzoJKJqsLPwTwrfYxYFbk6FPCi3XYfOG96sFLPVo7I+zcQYhNhiDqxHC3yqT8+SKjk1GLd0zN7QBVYXzjBjT2mxYAACuboMFGu6MPl4JlW11wfRwSAU3DwZ/Xw/lCCuXOH73Y7sXP9L8Sicae9l9dDSl4IuqGzDtpk8N6vgFMNt4Je75r5tffXOdq4Z0V4FpxVQ5szwBAAdMAAAG4AZ6makFfAAAgixoCWQAIT47h23+uwv68nE8Uv3J+mLZ0Xq06xk9GnwJKBU28+rXSVoraquMu7WhbneCeeTLSb/EPZi5/UTQaeX7+pF5Cc0kgvlbmJKRqSS9y5QKv5phroRXM59F8ocQl5rfY8L9mfKVCcJXLVrXu3XMKks9p+rmsO52vCw28HsgFvzKWGwGECKmOzERTUJvy2ycTycLb05/8DKeOxE+ehaSw25a04kEtmKs2DUuoQ6Bfg6MdZXZaoYkGjaWwP7SaXcdtY+2PRW3kivrP9A3Rw8BmSelHPrL8blcuR9NovK50y1pugKEgcAFPwvWO4lbWu2+nQeYIEMU1uDH22OPy7VeE6xN9pCMb/jCLzlw7ApXgTpbnffBSPketBSERz6xqTIQ5NQFr5LL+E6ZnArzhYdthuZeeqPGLdlAErWvi/Ch5aztIbw3xS4WyFpzu0xWISdOSPnJPeONkpihELh3emHo1bqSOMniQxo41iiRPAMSntKKbm+98dtCMJlkdWm3UvbM3DhlyPXdYjfGpQfFmIFht8QGDiJRR3mDU9sJUQY9Xi22aCloqnn0/rkYyPmEAAAR0QZqqSahBbJlMCC///tqmWAAxV3c/+3ITCxAASn/kIXpkwNYBD1Oe4Z7CcbrmGiZpvrNxnFbvvgX6BAmMxrhY+CaVfzpMc/5fipGrkRIbzuSDTrDDHccweYGBMB+aoYM8vmNSeka77cAUhcT+QqeVVo9H2nm5QzK5FK9qyKCP3Ih7acUlfOYAzLjmMR+Atv4vjYlXk82PnLzjz2R6opeLQe895UO+jih57nRpO1tThKlcN1SONzHpcYC8p3uLhzy6MObA6blKNYUMFkwmrgtRYvWvd5mDf3nLoIYHFq3JP3AjvhrO8boWLwzSg6xn9prOtwa5wynuUjYZk6Xp9Ati023rLM2I706g5dnmqjthpMGsOSXI6CnZXxrkBL2AKmxvkoJBPg2G5DfV0Ehj/ihG7aycYvj2uWlU2ey7tw3To/5/8gf1/aOoIQn4tlGpv+IsW6S0XguytiN8Q0FZCdguzTHmI87tjNe7lNThPotl4XBC9L+lRkL3iVknBA9cAyr2TmpqL2GxFI7wYRHQZ2WZ45tmj3kRZE7YW7BhCyUV9sTOuLdayTdPekuQX7lmxTcUFaC2V1uyfrdgX56FL68+SHhPGuYv9O6A62DDINNryEty0c6kAZ2uN6krliW2Yfw0DQEpKzaA2MiBiM2k+A06SbciAwiwsgKAmTOVhTAYPVL6EZx7ieHs2AT+zzISumxQvkXrphpSYxvJkSr/D6ez/rpLAZlsOxYkVEY6m+43pb5rZrzdbdvIzGBPU4M29kOhrBgHb1bHFnFMJVHY+KMNkCwCAqeXkoc1xYiubSVKg/1RGA0YrasZU7T9GeeK4+wjrJeUibGua2ubsLf/mVImh9fEVvE5H+LHYoNWgS3mjRISFsm9gePR5rx1Cf5nckx73wVtF6PkooK85Cj3FWplgzNGKxLIR5bY1rcKvS2Ly3b9GCG9FQTknjaYm6khowfy1zSKEdZGDvlVE6dKuJvrLT3HZn2aVdWSqaZH6tSIKpyfyXYKrQReJGJ4izJICsrYj5D1unMvWGH/8fZ7ID5MghFNJV7sdufD7ZCojWELsj3fiATzGAcbeOBIOhSe8kbDo/dYK7Jw0djISneGuw/ogZRXnCMi6jREkdRPhdBlBeUHMADrcz9Ahm5J51mULHNZUTMrO1ag5fSgXxfJ1T9jspQArHePHu5JGOb1gZTTENJG8d7EOoBh9UCzL/PA4FTKV6Y5DxxPEH7qp1WHOc6xuUKVUeEoMYuHlGqBQA+U9q0ExQIUwQFNsRB7PYC6mW9Mbx1RDEFbf5ihHWvMMUwxT+82F2PJ68EuNbQHM4ERwQe2iJDJcvJXiWl9bvIx9LLHFPG/vR19d8FW+gmd2bQxtSxRLG7jUsF/NPnNDEVWnjJdLnuM8HZ7StP4zmVyHRYtGFC/gQ8IU1idKcGWxKhQRyguuP0eHqtWxcEFJqb5l4/QTbeGUXJx/SF2R+I2YQlVNhnMHV40oQcg1o0d6EJ+K0Z9isn1V3QC3tjvuHH4xLAyjRswAAABOEGeyEUVLBX/AAAgMQU1N/eF8sgATTwd9t8BAqIzsd/es6y4L+zMLe8YzCc8GKCJsdMGB6/DNDUEKtZrj51+hfM8WGnjj5CimBMPxxMZ3rMnUJAwraIyGkymMITYCWCOMVMzy+s8MI65bpQbA3bdKhqv62mfHDYr3FYRW8zvWksw/i6nhQvdd4BlA6Yf/pgAzSdwDBcL6JrUVVFNvSJOnZnlIUiZF6Zy5GuHPpUEV8GWrAbddXJxLyza8mhM8MXFO+gKFvoZF+B7r+I/rt5OixagCSvfQRzLOOnTX6ZKja3EJ3HTeRx8eajzjZxQP/rYQMVEEfe6qjGIELSrA8RYxJuTPXes/dgppyh2K8VEJX96eA1yPsZ1kXvPy32Kw9LteCx7SP8Gf8YO7DyhijIU9qtcEzEPMOqDAgAAAhwBnulqQV8AACBu3rN0I5PAB/kktEnohhPncbpuFnj5fFw+yRpQyPt8iU71QL3Sx+u0hTeYJtwcYH0ViigNHwykdQCbOOk+4GpwCDanqbvNIK0gOvPHR77Px4EAu//jlwDPqcOLAN4+gZWAUEoZFNhfbtxMa8hNZDg3l/3pRYQTHdXJN82oETP2wV0demfCzq3pG7r8eKfPbg4VB0oCq5At9TWhdV5LwRPznWQVzdhN4BZ0vXaY1v0SWFQqtfJpVnmj1QQbd1yOp/jieKXXAc6P/qM08leZEFbEcDcgCt3ouDcncAkOTw8vI4GFCqpKcTQ7caDfYAtOiQDuYjCqYT9a4YWwWT6xSQp7toYrx/1od9ek+1qezDd9mcssHnr/aG/JERotTblh58HEw4Rut31mvNkbD1BjIGcAuFjGtMJ5j2JCRhvGnGAkMTpDZr2RDYCCoZ230GtMN+uCEwHFF7YfoEBpm0rfaXCszZDi5HGHG0t+PTwUUfxWnxoHpp6yc4PT5+Sih3uuCCoMC3Rnfc1z9MBGlQ5dpw4KlfGkc0y4UaPvUjmouCmg34pM1IXuNnACq6CDMy1dthtIn/1MdmL55d2g3kW1jrWwB+YhBXwMCCRXs2bqjec51isNEdRy21Je35s37zTkK/M9ZmwIvZUFMo7QF3a6uAbDWvuquBvYkQKxJm7mzTrD7w7k4r7q5E10x27MsCHvjigAHpEAAAGgQZrsSahBbJlMFEwX//7aplgAMX9tWwAEq6fEvzmpG6PfajA5VM36Kd9uOpUgrUt1NQUeRo66JwntuADTIL2C250vuYUmw4kQafVM9RBIWRY9qgX8EJ2VEg5c2kdRlnACzrQs4R/511bEj+UoaTWLQTB5eF/UNNEwJg8Ts4fLggP8tNlLY2koQlWLn5eYiBu/KjL7rws13RLNa0FzcmWE+ThQX5WJ3EMucUvGnuG8mN7OpVcppL48xk/Kj98yVmlvXHZVNpaSpWymg7QKjJjorX5S7fMi71H4mOOpUrtGAhriwOLeKyxD9GoVkECUtNEd4hXB5fyaC59ntrYOfFLO/w4bbRTw5tFDnJ+kKvQr/dx2bEv51LO8luK3Iz5YWBI3DkEQqTXp7BrFIS4XH+G6YfSD4BSTBHZap8omYuNke+wUef9l3ilNq0keAQPJQ7AqMGVt3Wa1R9qRqcAP8ntOcRbsfkCfb27xXcP4p6JMkMq0zhDn14Y2aZOpPBt9Iopw56DIRIs+M/ou9A9lBgDDcFAumhaqYX3Rm8l7QIAADfgAAAFcAZ8LakFfAAAgeZaCTsACE+BrDuJQVa46eBd/7Zi6VIhVDGW19DmHhrC4WXOREObBs+txB9iUSRJ6+yDAhcEomlhv2vhbnoCJw4pSSiwHFqBgcL7pU7evWuCYY6M4NccwmEMohxzO5bEb2ILn+g6mt16HgexonNoOmNbn6s442iaWPOwjfgsh0MvCa2qT5vjx24f7k9qxkzy31le7TY2S7mP7Ab+cnE6ia91+Lzu5SSjhIi+DcxeXmPEnyHQAt+MGVtkUZiBsTfQLRXX2sGa+uahgniZtFNfZI764umvSB0nYfQzFJvPrwQsSDCrCH8jxBtCSi+5d3gvNa1Gadl6odniZos2HYt+70mrfCxVboJtyks78bbVK3FRk2+llgC9SSCKFuuiLxqAXUanj+2JOperbTYTZIUVgx5VkqTCE5h9eY+bs+OQCxO+2a9tOOupfung84HUTfB/tAAg4AAACukGbDknhClJlMFLBf/7aplgAMXmmBfKpACXqT/W3bOVfIcOO9rawsCh8JOoG1OnfS3Y5GedsEI92HdJ4M3SVdrJFQXNzu6zllEOZq9xvBOhnq0s7Ztqfi0SzgDAb6A8LYeyB9XIbf21Bbpr/h9ePGE6OauuVAIMYYdi28lEeXcIajhDp+vv5cNtMc1LxWgrDhELYt/RIVnHcLLqS+GpzrUK2pimPGqRypInw9dWs5t0FLSaPa0q+w9KYYkcyixyS69VhewVO+9QyLn9m3Ay2KNFUeaDFg7uneI6PhyauLe/qihUZ1aLc8o3Gr0W2iAvm1MHmHj6ZSRyEwXlPwpVwpauC8SfWELMLcCGfeFyKH8aD1ndcVKNDUVQYnfjjhDN6sj3vJCgbNgiYH8Jc0A053g3ItcBmdMMalDhfFADOcMMs7S/7qpIKVqrpw3kCdqApwuKkt01jwIWQ9OyWJAKNGs5Nf1IYTLlCbyc/Fiu6AfkJVX3Ugm6aeYohN59YcORoFYQeRt3U0Y4RL5R6dF741nzvz7CKkDrY/OC716Qxf3ngKLWBggNCqYwojvTEXy9qBVn9SCqG4mdXAQ7+0k+1EKOCh1cfsrD+7D19vWLq8ZY7u5Kjr3vz151ZVwSlS/z7xSHdx6U2vti+0xBp+H53ZaDlZyFR4Y5vln59ixXdU3fUyatEIIFCPfUe9FEqz4DufFLyLowtVSE6JU1DcA+RMJvh6yyuWJft4H1w/6AjW9Vfz7vAybLVp+hHdBFIQpD7kt3nUF4bS2rIz2+uibu3Z8gZJS3ag4wzVu4j+xEEzegSpmWIgvUt2hVMSgDCh5aGn2xzRE9unBOxDs3FArReHiQqMcTmzO0kSdFnM6xDuqhaJLdZ3Q5yb3BmFCdPFYd4AXSQ3vluiI6yPu/I75tS8Ap2Jp9kdK0QAAGpAAABhwGfLWpBXwAAIDSSKSR0m0ACEVotYbFMmi6Ch6PVQsZjqdA4HMPcuozGuIGhOc8DcN1CrtGHmED8PDWKdeq5YRwQt3eJTcynicxNbZOX8nj8kYyybq6wQZbDewzAT1HEBvsibxesSgRets9vKnQ4SnvTSYO4f8PXGUQhIDPX4+PuIzd4PO/t943wCziBVVSV8mcsoOIrKXkGVdLzypQwq8LA9PFVopjjQhcIu4ebNyt/qVN7kZf5tC4iqL6vWxHPuijXLco20zo2rBWuGzP5uWrBJWtqueXpj/mKrmHD8OWTVXZ87nBLT4KUn5HO4e0kNto9ppRXzMHug79nBWK9B3tSWEiMiTKKO8GPGRw++QXK4NzlKKNj8ZooTgwVebj5QJOBDd5LC/VWyinIIcSIP5p80Yb3jmnKoWVTnI3loxrj5itCRAbUaLkAwcFcadIb4EE2gn5IxTIbhWbSuI1zfLZm3BacQfCyWU8D540AnCRw8tt9ZN5iAFLpLt1JYf4mBoTQ8bwAA9MAAAJ5QZsySeEOiZTAgv/+2qZYADFW6Zrx2kAJbvOBJabgokbhEtZt50pe8gIcBnud4MsrVzL0LY+DgOJiOApx8IfbZT0k0iaK5qYqy3WmW6J6uwU4sgt7xkFMmK6MjvT+2obdFf8NE+4BtcQZ+EfeFHPM58Qa3PYRhY4fwYrME45F4r94btP2R+bza2ohu3TZoqveT5uNk2QJ6/yiaEpMXiZHqsszXmfECALT1eflXx7/eBN/7xnYZDwRjK1Wo31+WOxvWGr6AnB4MoHvtYamucm3JXD3a/r+rZvzRdQeIwH13uq8HfXuQ8ggsrBbW0R6b06UvlNf/c12ILc0wHFXDtMsA7/5CNWikaFmyqi1DGk3eopT2PAaEdqdmZyZ0pnAYe6XcFdoFAclrg3j2OCfT++e3NCWIX/Knm36sh/GtcAhFujMtZs960NcFFAXGZWVfA5pK4SIx9w8gZZzQTXlOhHa3u9r7LXx9aLJAttZ3r9E7W9WM8lQL7E5WLgDSUgVNVmVjA61iWbrN0dLepRQuZXUk+B9RLTBokCsWQbPWvbJZW938LRx7VD3W3KxxOV+W739OT0Y57bHz9pw7cJ3fRMDcjvOBhxhMzeNevYxAUckCAnmfulMV9IT+vnUIO63/gZtaNeAiTeDa4v3Ma3owwQKa2GIHdHKTDZt80gMpYQbjCG8mqAMVzBcPR9YOsL5AMNIVgnmQrwT1qcL7uF4qoMSdtAOAc+xG7vNMop21xtRKPNg2c8ojRldMieUN7ibQ1NTyKCtnvPxoNQfou03mJXtJQ/GAKwu/jZXwYP5UeZF2cwJaTiW5PilpwMv/6PwMKYKICVuNKAAAAVtAAABL0GfUEUVPBb/AAAVSUWmRhyAIAAc4fujVJmHMTBtkLdv87T/RLMvkYFwoNS7qKVm/rEi5cVPctFgiYUDedlNnGxWqc8mzD6G4dqfOt/cobjllNQ3WvH+i5OoIsswVvZ9GMI3WiDEcFQu73CGLChtTT84nH4RYEmCXd00AsruhFCUf0KlMNjBnFPFzkGThiPsVwyrWlp6WS/vaO1sE2Cz4z+dqSnckLuylMMrGlIoKBvtwI2b6fMdMXVbU6dMOx8xBlXCcknMoeyO+jtNBvsyV/yAqj/3MbPboiL+TDOLnqMhsL3qbIk9ODPRzM+IupfzA8e9oE6mOCwGoW8R0JiVvJRF+OSdcOzEGvwafaUmfO7pVzRgdRVFwCBI3ZVTfg/ruzZaN3zu+CTrmpf9eAACXgAAAPkBn290QV8AACA0rP1gYs/TgBA/Iu2n4ADQ6B4xoDg2DAzTBWcc9qpPmCAo49pEHfFclivHvGQTYv5P23Fwn14aK1XaaFWmb+SF3/wM97sN4S4r3SIo3GkbM3guk8/YjVzK2bXtXhxVilq8rTnPCzFp/BNCAi+6DMvZTsvjrGflcMczQGoYL8GkRmWg/YA1BGRyKtmaJXkvzTU2zJFs6kn8t+6ro7GEwRDAbeO5/wwrXzXjqwekaX01+yEvaX9qD6+La4mJbyCZkaPQtX0r4lRuLkdTE8p8+1V4x9zsInzbZH5zUyAfLGZNrs8INOC05Dk72zFuQgAAK2AAAAEsAZ9xakFfAAAgMqJGEyZntjznACB+ReW/ZpTyDQVaD2utNrrMPf7KASbXAk6LyRvE/KmdORDFj6Eq10ZpKDHajXs7/9qRhU+SEvmNoGwRSoWTiL1QWgYcBD2f9IjLefWoUVf60IyOKCfV2TCgqkfldxdoDyY9hNKh94Umv/tcRLIW2NUzmA975AAJy6c6nHCcLywEPFK3NxN0AvFye1NRwU43MJ9bkvyVMHafLCqdIfTFf0uWl0Gbo86n9CTqK5fAeEpL/hKX8X7KRta4s0eALFYgQlYsPSRorYCpxOfIvqAr0mnVwSUEXpnPrd4IYD0XREnxGNDataebCTBUgF3lVu8/s6mWuV/7kIQX+YMsJQNxEYq6AW4cM9wsXJ4cacw/2GqbWVl4+UAAABdxAAADfUGbc0moQWiZTAgv//7aplgAMX7FtQAQn1iWfASitZtnjw+p8f3K0Zt2AkmAkRhdB0Dt8S5s3J8KozpoAKnQjlZUEnCHxsFp6s6lVdRW82rCa35aq/TA1BN7sEQnMpmyUp29tQ2vWzu08GlH+Imw3oP283HEIbruMI7z+w7N1P0pF/1RJjyfNoGcsnC8yUBKsAvEozkWc2T+KrmzLdkuh0/3jHVMsfMfaSxLI9eEWY/lUqkCGcXyj0Z0lWhH/m1PHRi3fLTtwTqlHk98xR73D7UcfPcSuxKczY4549zDBwaJddekspmHpVrbhCej4pxzyJiHOb2cJy8yTjhesxIgecWI1U+fexJ+U3OqXX9Xqads+hpIEGF8z8TkgBajbNy33lspaPaMQXk/aodNoq8oF+h6Vv0SYBN0v1Zc5ARAup9ofuYF5UfC99mEX79rBc25RLhu5ehe5zKkFgcPUzxiMTo81rV/kcQrmYWk1XMJHNMYTzEjQ0XZOhWde1iia8oth3ofhZKG+eWrlV+8ulwXMeZWm+8WASA1IypV47NLQh7xWUkvCrtlX/6cluDsgW344Kmk/+MEmDajBnaHzCJmRWxSMYjJK99Aewn8K58ntMeSPdwi/LhcicRcWjU6KnsP6PooVcNsscwzFuuONGAcBU1Zk+a6kYMEi9CqLl6vyVAHxgJUEXH7CZj4wbn+/ob++ncAQCcpfsmP1sQtPzfEek6lMVvW0Sd8ijIxc2sHqTSnC+SUr+LzXwsgAllegsDvqatgwGWGUaykgnyO/KPVxT1fUPDypy63ZD3h0YjHcykLUWqPT2PVd3z9CZr+hvXIzTmVhN1gjPeO+ZVFo48JyjH5kDH+qUOf75H02EgcayRPdWWnUmBraJk01Jm5RPmOJbVSFAUVEH97LrIMmIJDbctlNRq5Wy8CrARxOYAg4wW5Y9sJfrZBAEuq7yVZ73nlRle+OZ31HHqz/ggQoYcDw8r+3zf5IS8G0WmC/FBQOAxW+UBWaKolSCshcyX0OLGjM6HnoiarFaDafN4n1ifoQm1x0aaG0jNtBpEsy88nQokQ9dwx1jAn93z5T7Ew/YPOrvk+OFecTzhfMak4e9pEPA8HSpBlw9LY7axoRGfSlwePqY3CMQhF4kHFOwNRWxe9t1kxYskK5QLOBW/TEwvjGmJDT1KBUIKHaejc5iHdAAADLEGblEnhClJlMCC///7aplgAMY/rmwAJBs+LWsh0/SYZFfuROjGnb9F6Fmviryl9Cz9SH1E8bCLIskQk7sn6yplxskIOTZeu/KBACU1Da+rTZltdTFKhWCa/41x5ps0IIk3XIPD/s0tofCSC0VYAVIW8C5h0Uy+Sn/sLQaexZxpQAkInWN2hwKEPk/zpJy6sDcss7kzV4cw3iSFObMYBaUDhnFkQZf9PCL9zbykdH5Hy8tbHEzPyBBbKlhWNQW5EKNEnxlETua61e5Y5iyrEYoOpACzPx+GQc/0GhSU8neAvGQCldwnXVgEJT3ECTqOBlLQTBnqcmXPSdZYXeMEQaBjjiaIBmn99qZ9ptdDDzPdN1g1xUisBVayKZ4BGNyJNryK0NRG+b10fC2Ta7aPuavSAMuvzLwoTlTIma8qJ147TTnokfU7pVhxeAiMoXlPsaN4laCuE1Qf+kHAmtAVnVqA3L7OqSYvUBq67IGPmej2AJmylexk7ihEmDFFnFAOD5Lkox56H73ZSz3AHz1bBU4LotNbgt/RqgjkwVift1Iyqx9XiZp5f6E8XlgPBfm+o9W9FnhzaoD4AAz5bFXkf5Grb8f5DClEcOMYgsJM+yrUpfOpQ3bUx96QGG6pujbb3SyKniHJp39qpzVGuTaD2kIEusm4HPtdM4VCL27l8slKzxK32COLkwEgB2w7J9+IOY+F236+fZIjW6M6aVZuXLw5+H3q19RHLiGceWNPnhkOifQfqXKkBtOA9sdioFINlZuGUEgkTXYQ1yDnU6inpMLdEeWyyItUzA1OmPZVzcplthmfNcK/kz5S/dMtXeX71C1cVOfeRkbaMe6TKyT8/nbjSJoxe4yuUnDPHF1BZhLrpMUnwpmg8zh1lBoNblhS0REtqlaqW1MEDFLKOq6xJBVsgkI2vlHJ3wVkO/pFsKipdrwAT6WoPgdz0iTUeHwmA81lORRHRjPL7/58z0g6VLkf64ToQ1EWfUMMbPkaFuB2PYVoX/3GUF+PwvGPaRJtb20q+4TJT/RdIIVz90s+qe2oCoZsLZnJ9o/8Gb04KqygmY/VFCHt/hku8b4BAAAADaUGbuEnhDomUwIL//tqmWAAxf00uYACXqpRBBVIDMUilm5gnVoy82Ts6qggiwn1ssGjobpkXxmThGaAL+T7So1egGaZ5Wiono5NTSJjMAj/PWNKp4dS8o4mGiRVbmrWjTbaU3gjzv21mPN/++SuiAQJTqh2YXMKovb5+HAobpOJAX4shrAlgouGCK8UbiWgZgrB08tBf3bAe7WKqRISnq2KQ7Z5xcOYczUueyjF5IoO+j8nLFixbAp5V19O8bDHC2Qo8/mYlMPLWfaZ/h5X3UkTWoV+RxJlwVznjtmaVmH/Pe4GT9W0KGJFSaK5BwT0T0hVxRLpMt++HMQKRBQEOXefriLo0YVaiHmLufb2/C3/BMf4/elSO0SG83yIYfUMc5MvzLnM02bGIdvaX+Wvqv1uQmT5yLKtVxCWVYUIZ2Gx6Fvmo6TcRKhuvwdELKDIOVP6t2YraTbr1jDbAq40KqfsZGi2SxV+laSsPFiSqDcSM2kYe2jAVyNvgiSlJSUk6wKnMoKm+B+3GkdqFwfdI9CBEOsGuvkCbzHSoofxx8ex+epnQb0fHm4yZHKmxMt6+WZMBgeD/7gZ2klrdxzzfcOe2icUk8O4TBbAkvXSiWZGy47Z6E5+17ekLTAc1XN4OxT+XyV5isCONqfk/CjCiYq9GZoVx2QWoUOqoLiIeHOP669uF6Prw+y/c5hpYHDk92GthTiK+/QMOP31Y7Xm/+3rCTYkBbLytWnNohewoTzVfzn7OKSYdllaWDQIcWEnMlI3beKvZuuxorVpA5vNtEqLR15vuHD99Yzl1A+LBfEIpcjn4W4sbnwVhBTCpitYSfh6PAwcX5aU0Tz2cJaDwWwR3qAUxHsAukqoUj+XNiSB0IbBzifbyhA+9Y4o7U5sVHaa79Y5ronj6ZBpUrdm0UnhilSBgCexBnpVHPxMNrZT3C/EAyEl8R2ADBv3YCm3U9Z6Oue4rXa5Ct45FTpFeCh5+nR8kZe+VQyRAzqVJ/snlDlEpiy//VL9ncSa5vG2neOlGaLLc2EPijYwkWFPPK0biwwkWdXPOuGZXioOo/yCU+ILRjQ7Xy8maGUsqSS187Sdnx8+XgNaingJddKlF6i8b4P3UlLPZezF/aoAGtcdn1MwRvbfpGfb+P0alCM1J7nIWVT3eT6AloQAAAmtBn9ZFETwW/wAAFUo7MzwRUH64AHqzlJb1sYCn3vc7V5GmJei6qeBest5PyJGQ2pG7mB2FldUKvUkoYdxvNcVoVazFeTGupgTlPd0Xrh/+Htxo9KMMUv5Gcmqb5TmaofUhI8enE7ZiK85vMno01sGO4yUHQvTk7a7LbubopPLFkMWQngv+VWtZNlnNAV7CipmLsdLpFzhweqKN2LXj+fTSu9MuTq3d/xibkMbpJZIygBWGM0Cyk9WDHIudqf7Qhb0u/AZoHYU3jH7QYt6Ck+2LvkVyQVoNMzOXoyuBwdliE53Z2RS1qDudJzCDvdWE224a5CI4XvoHsouFvZg+O1gXSubtNVbhJ/s140FcEQM77nR3LqOaQaakcFc9Hbh4sKmcBkhl6Zt0M3L0hCC7vuQlkIG4hh+ywM76orRRloFUVuRM/YHG4RPjw45OapOPxXNSurSaKnA2jW611FPFzrDBleYoFUH8e0FZyxcdmw4QSWvUD1KRw3lQdKiEwVnJDtVAgRynMCTE9lZVa5Lf97mRF7OEHYJd8h6jLfg6tnMOnAXIEYcSH0bBl8AML/L2+LVjW/UelPT1b/0FHsJ+6Ghydr7ejgozlEtfUicPhgrOhfZgShOAA9I7qOYxlTaiSPKkHVl0z/bo4RAMPeLsyfv80eLw275gtBKKbuQ+6zF2nNj7KuVpi+Kv52vzJYOLXLRpRE/4bJDnk0vqojn3NeoxoREBCAVxAv6vmXxBESTaLxdS83gdwPYmbvpoO/XG/c2adYF4QGv3vquCblopQBQYVUP0c/3MGHzm2DJuz90Akzz9YUCQgAA8az2gAAABbgGf9XRBXwAAIN60ACE+BrAz00N/OzEr78xLJqxUJqzz46iTDdmK9tD3TKfLOAWOf/sToo8qKboQWxAhhvoYtC04IfcYiXfE9aZ8v6UJjtK4eH6SoKEEt1mTjcriGzhAW16zv8stzixRQuvSXpUqEZ2KqGBoTykO7iId7P1pZjpOaFNDbNSFpMtyNz2oGrOEyRXVlHbCLyzWZd2a5Q0j856OYfNdGC8j2uqJbW3h9NOEebyAzTddsWxTT5OnbyI7Gk4BiYWNLJ36zntU2/3aLqo7hyTJlPxUkbWCDDnwWJQJFR8Y3QnccqXZ8skTT/8umkySHMav4JI6erSEGyLD8Zf5mtDXjk83LxixetYIfeibt4t4bjUcL3GRHt+UjJa9HbEDsv//A82i2m/sEMgzV617mD6j39PhmiGJQhcUe3yN6BurVb6/dDxVgwe8vH1t/70ztGarqEHRoF11nTYgukEJEg1KEi6VQvnXQAAQMQAAAjEBn/dqQV8AACA0kikkdJtAAhPCNMaBpeGDhft51c+tf6WmtCVBwkDyzZFKgvOcCaF5//4lmvqwUwZ7QvtVIFA8DeySmmpurS56nLUkwNFx9Ikh+L3OOHsGMQb8cyDdW/r44O/AiWs0jZ1+ZN3sV+bUDgYx2pKOBgdOL2+j8IcOvcUzXnMyZPb16AnbUhO4yzHKip+eZ8Sn+CLZUS5FX5qmwHIrYy0WJaAI43GNxhBHC1n5PcHECyrU9oAk8/T2a+35x49jJz+WzNncA8j/3hGpOPRE0+YuuSm8gOQi8hhn+vkeZEL7TOq8/Xz2LTB+PQxFgFwW2YVIioxmKR9cHUVdtdrxST0Zxbbk9HkkBXboQcVLqlU6y1qMyQhtrxZ4uVS18P25e1jZb77GZ+GxTIxig9a8qKIWuvq+rq110Qtm4dlY5vWPpjSqftglnAorePYyFzndsF3tU/Go9ZkYZVPCjIsqNjK2tkiUMMeDGl6xlqm6e2eXxhoYhBtYoemMuzjWstdGUD/YBrIOpJik0iWXsLgA1poo/ijn+Qd0hKsw6Gn7XyDzbNcDTLwlR0rdT+w36NHejqa6kst6BjvAfERsyiv/FyPe1I7dsKwSFmg8O7iKRtNb4p+nq6XvMrJ61Jf9kGCPEbdtROBTQZwBUmHRdOLQ0dPssJkONDspjXtp+xWyfXi9AkIw3EWbn0B0l+VIQSIkkHjhN8/iQL4L9ruECpr5+7KwnEUCPzOwAFGICLkAAAWRQZv8SahBaJlMCC///tqmWAAxVuma8dpAB+qChJSqFs1620ggEfshsA1QOs0XLYbGQ6bgXJ4QXSkVNx1BcBCK+jHpitKc7HENo4BDODAr8XDAtqhmXxB/ed19tRR6h/3pogLLV/xJbhkCNO+zwFxHuL9fVW4RahmP+PpOMKcaoHEiMvMjT48cyLHvM5z8m52No7zQEY427QIHCSbsgWqZrBkmc37W8CTIktsmtYBaV5bT9aSc/jL1yecooHvVUKbny9jFAq6/z6Bb/mdq4ggLfaSJVQPi9YHME9gong0wOGK4fqyS684xs+E21c5J8WP/hAEok6IDjHd7vALGCK5cYSHesaQ7ZkhASxJr863orKLkALnhOXP46CyXwwclGMQTBNOYsDirg5K05vHz041qO4dxSDBMkrsUGZWG+5gW2aZLP1PnRnNiaj3fo+Waki4IRmkbsNbSoutbksfcLO5Wh0ivVYyDwdnD89S5/vjDGuoMVNrcym+JGLpYHoax/2MsLYuG5VORNZiUOMxuVARZPbfCIv727LSaIdH+tfCA7/z/g+92hLMSas7OdeRBNAujzjFfJI6EgUe6Y7h+BrZrx/N7sZPRAODevKD8KuLVhEiIZNQQZ54ZYHNH5Gye+o5ZJaOtqb7fI150U0ri2My1rWIBCYqOpEUVmismDrwi5sNZO0HTch+cKTkgHQQ6iS1pUhWshv2BuWV37uNKd9PtUx1GOdUn0QKS94dFnQkvzW3yHL1G/GrIvJ8vI+faNUSfYwlsX0kYbGAwalj5wCJuj8K3OibbPgdZF7g/9q2rTfeG/Fqf8be1nN6lu5kjmvdkwtf+97Uc+IhgSW0MiydAWPd4Sr31E/xZ86oTTRJhc2gpf9XOh98cfJQrtFhE+d+whBIKdvVncj+gIlxzXXbdrAafKhgxqN5M4MIOrZDp+1w0kHdZeWqRG5ws5uvHPM648SULR5wEqIhPJg1RDlWSv2Is7dzkujiW7zsvCUvzShwkb8vggecBZ20uibb4hnOlu+Cmor0l9UNLiQMxRC0G4FFRuM6kNF3rrejKxo7i+rFYPOuL3WMK0ZBwqLYcUxhbPJTDIb58OpryU/npaNlnzmj1cP0dBDlXq+zeBAlwG62461UPovkMjwkAeioNeOUtmvOLrP8SZmjl/I4K3JKC1I3Yo5mo6dZCh2DoysehRH/JQVcR/wFZ1b9RWSSmyUnG2NjADoZ2mK8QhICmrEX2danQgBhSKLHDnkEdijf/8hG45bAoJhF9MKW/RYtO4Bll5c8QisRgWm/woSqsNVSGgvZlBh6e53EiGPeA/urf4/yE5D7oNY3OMeRTUE7PfUEHtPQTvsEzB0Of3MYg4ftfzccx7ZXF7p9Bb/sN+ZdtadZMwxMlxGFdwcTIWmrP95Uw7Oc3nZNj8V58UvxY/HR1oGNLgQNyCmblH4xOek/fUPcZoG1EGBpycNGhCtO2cqJhq6PNep3PggGPTLrGAfgx/lq4c/xoMOIi/PHg/C5px3rNbGaTLwPlreJk0chIhhkeSAm3rATrGOKQUwRKwqQZqg8PQN6ECoBYOWcDFCC2vIwOLSmUESn58kOTiZIbltpPO87Fr8qTzov9R0aBOoVdEwDvYa7rtWeOOTx6iFfyjqI2f/2hBV9xhLRiJl945i5tSZ8D6IgAvYixt7ne2oi1rB/cK5v+2ahetXaZdVcgZTsv+ft6VZZjQ97A6atPHuISurqGxhL+WpMOicJ1uj/cs8Rqyu8Q6074j4L/60kMDTMHF2ipdcn9VXkItuSYx3s1oKbOPUg4uDyFS9YDm+SDfN75Z4WAuZ/lU66DMdu3bcltK7vctmAQqlWZ9/6JQWPKT5mA5RXcCNM+AjTLI5/hHnMdEwDCmEdSBODNAgMa1tz4AAAB1kGeGkURLBb/AAAVSUWmRhyAIAAc4fujVJmHMTBtkLdv89JzT7n7tVigUGpd0dDHO5kkI5/hG0EIOJ6JGvsw4wJWqc8mtsxB5PWPLiUIc2NW+ovmHFodThm0LWtFGdrpzWDGIDon7QwZrdpo2n+473navSmwjfni+9MsYYwoKG0fjoor2vn/oKtB19c1B8moQA6GAi2Ycn3SI3oWRh+XGlI/JW0VuRcNxhXYooDbPPA5TlNFvkhB7knsvGeLYA0mukIxtF548vzgXdmTTwecTu2pRcdoVChHt4FKl31nnhY0dfANKetfMAYdaZdg4GJirpC1Z7VRarUJepRwM5DLlwF2ney5Mv29gyHYOn0ndfUi4vONqDxBVU9h7WQGhLBLQfbKiSwY64ZWXYya1nS2J4ztWLYZeXxId8QOGPKkOMz6EBL6VdfwNofheT/lBQXdPXd4am+dcHJAF0ts6RgaN4d7uusCxRJWl2wBzMGKFhtjS0wjZp0uzy9KAYJI2TlEOr6gn2ITssMGWkqubS4U6h3f1ByKYH4zlF7mDRUOmBlR5BLRPS46qe9Svf/yvEfiXnoeWlADiAi79OW0bhfHWJC65OcAayFHcgUblqIR+yAgAZ47JEzBAAABXgGeOXRBXwAAIDSs/WBiz9OAED8i7PeSDXxkeMaA7jjef1OaMZh/83MEAkCJ4GKlm9Jkp+8ZBIrU5Kr5Xc9rbLhcp01fGYSbuOYBuPL7e7S1GwOkSRr+rLl/MS6+7p0KT5lB+XcmozO2CWlaLdIcrDI/8N3yFGL7BFrRwZ+6ruQanSg8ZEBJLFDaPB53IhYANR7a6NC0ZLeYINzLVRJD+9kljQPTm3R4uY7oetdMhplOwEM8DujwNsoRwuwnfvrQXXJLfBNZcgSmLARdsSyt+DhBk++InDWDyfYOUDU1PAUPNWKXMANgprR8KWUvnAvLG2Lzw4kGJjV3Jn6DNX0K1eSfnyW/S7B4m1i9G9Cxncj612sJVbkqGGOOopOkdph6u2qincWL++UtDFqx7lrp9BjdR9kshYIVt/CgwxG7RVblQaOamoq3rcF5nHWKchByO6pO3rIngrtbzPmAAAGhAAACCQGeO2pBXwAAIDKiVIfWRrdoAEJ5CjXszTVabYG1wOdYv2VnrCKWiLD7S2zy4bxBhrZqL0o/a5Znumvoz5vcLloNKM0932WT5lFVpSJUgpbeJu8dVQp4K//fEUvsCl69tU1EnE79UPbsD6c4jGsYJGH9Q1YnNt418CA/DWyXrs35iqLE5+QX8A7oLv/Wb978bJjluA2EWpevCc+0CeDDkkU6Uj3fhLfJtxiJKO10qd+mtCdS9/DUn9oqyazkayADT2JMCfrxAJqDglPK2IKHFJDl0tgEtvp3d2Bjycf4tUekgZLw7giOTXU3n8tvqSn9EKUJsVb5ofa8cYkrCsmGaX4tCYSiuha4DLWzvshYqh59CR/hPTSE8T6f+8SGkuJcDxTuRCBqhxCxGnVwQrBOJ6fGN2MSAKSDXT74pJZKpeLbp8LrRWQ197KetW+fgvC0Tqf5DZsL9dsADc6DZkm4hxeO0BL26mWLwVgH+1YVVhpMakho2wTSs6N82KD+4f8b7Rau23W/VyLvEsYSYBkePIfV2kQQmNghm9LercKepizn0DTkLSUd6EeHFSZSFtu22LnsZa9YUydeSLH32BHI/EcP1zhkBBAB/61wVD7LBgTUpilrwsLv/VtxvvCZ261f2Wk8P07L4YMbMSmIkRxuYTp8SQIGyc5YtGScRO6YGqjYxpAtEKS39d1tAAACIkGaPUmoQWyZTAgt//7WpVAAMX2wWgAb1cnBInb9J9HvrevtFT+DOLozmLzOKigEM5NPQdVvirZwtOF8QNYXWk/mU7z5jWM+Ns2tcuAllI2tifsam3lxTBFHA7yjE98N7ue27egFKPiprDTFo4jc1xa9p2UCj7BGKEbI9JQR/O2lXgqqNVsbp1xd7epV7dwtMmBH60qIw0O3VMQx/HFuR4tsTYdBJ13ufmcAHG39zo51fsRj2rZ1WFIQXiDyEDZPHAl1/MVDbsg3iUGgVDP7RaAzkhCOXVFvNqDirJ+eM3zW5kdw3EDoK72HmDP8XnS+/oCJSH9OKlHx83tlLETeoBHpx5h0vNYH/F+eoQOAbkPxy2mX9NNQm08EhxLZo/WPZWvKcwYRJb/9EfQnMbmtjAO0tyDf8uAhfLIRKcjezu3LIigmxYU+3RBEjHzUfxx6DKcx1udRsgdocxaxV7zkdiVN5KEJsmSEpGsLF7TKwewJw2aG4PbXWsf1lftHRZG5S3piBJhiPf7Ak4BeENIJNVkYH27x/OFItCHZ/hIO7hDgD1s4PE2gJsPMYP1F8vcBmX/uBu1FT4oFewcUlKUklZJ2Iif8OEhVCx8Dx4e+FA8qxkkC91vOM/e0VRbEKsTxaRQrVPZ1J60ooksylBHkyjPH7Vpu2QghStF+q0czkuSrxdgN9nQaqkl08rQHO1398mY2sl47fGFF4fYcgaV7Drsr3QAAAjJBml5J4QpSZTAgr//+1qVQADGP0MpABrFjObKITqBgJHtbhg+XOA8FVObKYeDk2jA20j86wmk8ZcRQNG4swvf1z6VBdHp0hV7E8ErgmJcKfuUMvx34gRYNvmQWyAbX8UryvgpTdTLk3R/PJ1RMsEW9vPKpE1WpNW+GXECi7Vgdt9WBqnPd0/Ge0eehDw6Fq0GeSd3rGksnC7fHMDKee+dZtbruRD7ZD1XzIzG2D51DIacNx2CVbqE5gGhSpqEzDqFPIFQlPme+Hnbdx53BjFgWmN+aUvZ/ESvfqjAFPxWRagtb7K8fPMiZbwJtS457q+zy8gZiILddpHGQhdEZroklH89wTtXYa/EfOHzhakOTTu5vJaVxw3OSsQdzGb3BbaDv1dWfN7SMTkqwXjlVCZlWcM+Y/DVe706v5L3eDwVdT+/9CGxL8RY/lfz06iQJL0xNbkBUmYrqpGd8KBo5umzb1mjukCu7m026kpNNIq2iy9d75w5fYZTPL/q1wseMFkViRLmlISm+V6SceLJSnsiE/2y3n1cSTHG8045oCDaSmisk5dBvfVoO3wvj497il8aGqa+9P6r6NnucWTJ7TLV5j0HPq9s7eV+toOS8bw+ZQflQN4EhCqcGWM75uD4bX8JBYztqzvHjXFr8ckPrkv83+olMMPh94fRU+SxtLI1P09NaGYxKw34pDAHlVzepR+DvAL+J8pcqg1Sz9VHy+hfPkwuPO6rzkzOAX91mL0SjJkCAAAAEZm1vb3YAAABsbXZoZAAAAAAAAAAAAAAAAAAAA+gAAHkYAAEAAAEAAAAAAAAAAAAAAAABAAAAAAAAAAAAAAAAAAAAAQAAAAAAAAAAAAAAAAAAQAAAAAAAAAAAAAAAAAAAAAAAAAAAAAAAAAAAAAAAAAIAAAOQdHJhawAAAFx0a2hkAAAAAwAAAAAAAAAAAAAAAQAAAAAAAHkYAAAAAAAAAAAAAAAAAAAAAAABAAAAAAAAAAAAAAAAAAAAAQAAAAAAAAAAAAAAAAAAQAAAAAKAAAAB4AAAAAAAJGVkdHMAAAAcZWxzdAAAAAAAAAABAAB5GAAAgAAAAQAAAAADCG1kaWEAAAAgbWRoZAAAAAAAAAAAAAAAAAAAQAAAB8AAVcQAAAAAAC1oZGxyAAAAAAAAAAB2aWRlAAAAAAAAAAAAAAAAVmlkZW9IYW5kbGVyAAAAArNtaW5mAAAAFHZtaGQAAAABAAAAAAAAAAAAAAAkZGluZgAAABxkcmVmAAAAAAAAAAEAAAAMdXJsIAAAAAEAAAJzc3RibAAAAJdzdHNkAAAAAAAAAAEAAACHYXZjMQAAAAAAAAABAAAAAAAAAAAAAAAAAAAAAAKAAeAASAAAAEgAAAAAAAAAAQAAAAAAAAAAAAAAAAAAAAAAAAAAAAAAAAAAAAAAAAAAABj//wAAADFhdmNDAWQAFv/hABhnZAAWrNlAoD2hAAADAAEAAAMAAg8WLZYBAAZo6+PLIsAAAAAYc3R0cwAAAAAAAAABAAAAHwAAQAAAAAAUc3RzcwAAAAAAAAABAAAAAQAAAOhjdHRzAAAAAAAAABsAAAABAACAAAAAAAEAAQAAAAAAAgAAQAAAAAABAAFAAAAAAAEAAIAAAAAAAQAAAAAAAAABAABAAAAAAAEAAQAAAAAAAgAAQAAAAAABAADAAAAAAAEAAEAAAAAAAQAAwAAAAAABAABAAAAAAAEAAUAAAAAAAQAAgAAAAAABAAAAAAAAAAEAAEAAAAAAAgAAgAAAAAABAAFAAAAAAAEAAIAAAAAAAQAAAAAAAAABAABAAAAAAAEAAUAAAAAAAQAAgAAAAAABAAAAAAAAAAEAAEAAAAAAAgAAgAAAAAAcc3RzYwAAAAAAAAABAAAAAQAAAB8AAAABAAAAkHN0c3oAAAAAAAAAAAAAAB8AABmbAAAE2gAAA7gAAAHpAAADqgAAAdAAAAIHAAABvAAABHgAAAE8AAACIAAAAaQAAAFgAAACvgAAAYsAAAJ9AAABMwAAAP0AAAEwAAADgQAAAzAAAANtAAACbwAAAXIAAAI1AAAFlQAAAdoAAAFiAAACDQAAAiYAAAI2AAAAFHN0Y28AAAAAAAAAAQAAADAAAABidWR0YQAAAFptZXRhAAAAAAAAACFoZGxyAAAAAAAAAABtZGlyYXBwbAAAAAAAAAAAAAAAAC1pbHN0AAAAJal0b28AAAAdZGF0YQAAAAEAAAAATGF2ZjU4LjI5LjEwMA==\">"
      ]
     },
     "metadata": {},
     "output_type": "display_data"
    }
   ],
   "source": [
    "showanim(\"test.mp4\")"
   ]
  },
  {
   "cell_type": "code",
   "execution_count": null,
   "metadata": {},
   "outputs": [],
   "source": []
  }
 ],
 "metadata": {
  "kernelspec": {
   "display_name": "Julia 1.5.3",
   "language": "julia",
   "name": "julia-1.5"
  },
  "language_info": {
   "file_extension": ".jl",
   "mimetype": "application/julia",
   "name": "julia",
   "version": "1.5.3"
  }
 },
 "nbformat": 4,
 "nbformat_minor": 4
}
