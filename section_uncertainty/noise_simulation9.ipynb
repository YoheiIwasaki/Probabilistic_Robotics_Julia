{
 "cells": [
  {
   "cell_type": "code",
   "execution_count": 1,
   "metadata": {},
   "outputs": [],
   "source": [
    "include(\"../scripts/ideal_robot.jl\")"
   ]
  },
  {
   "cell_type": "code",
   "execution_count": 2,
   "metadata": {},
   "outputs": [],
   "source": [
    "using Distributions\n",
    "using Random"
   ]
  },
  {
   "cell_type": "code",
   "execution_count": 7,
   "metadata": {},
   "outputs": [],
   "source": [
    "mutable struct Camera <: AbstractCamera\n",
    "    map\n",
    "    lastdata\n",
    "    distance_range\n",
    "    direction_range\n",
    "    distance_noise_rate\n",
    "    direction_noise\n",
    "    distance_bias_rate_std\n",
    "    direction_bias\n",
    "    phantom_dist\n",
    "    phantom_prob\n",
    "end"
   ]
  },
  {
   "cell_type": "code",
   "execution_count": 31,
   "metadata": {},
   "outputs": [
    {
     "data": {
      "text/plain": [
       "Camera_ (generic function with 11 methods)"
      ]
     },
     "execution_count": 31,
     "metadata": {},
     "output_type": "execute_result"
    }
   ],
   "source": [
    "function Camera_(env_map; distance_range=(0.5,6.0), direction_range=(-pi/3, pi/3),\n",
    "                distance_noise_rate=0.1, direction_noise=pi/90,\n",
    "                distance_bias_rate_stddev=0.1, direction_bias_stddev=pi/90,\n",
    "                phantom_prob=0.0, phantom_range_x = (-5.0, 5.0), phantom_range_y = (-5.0, 5.0))\n",
    "    self = Camera(ntuple(x->nothing, fieldcount(Camera))...)\n",
    "    self.map = env_map\n",
    "    self.lastdata = []\n",
    "    self.distance_range = distance_range\n",
    "    self.direction_range  = direction_range\n",
    "    self.distance_noise_rate = distance_noise_rate\n",
    "    self.direction_noise = direction_noise\n",
    "    self.distance_bias_rate_std = rand(Normal(0, distance_bias_rate_stddev))\n",
    "    self.direction_bias = rand(Normal(0, direction_bias_stddev))\n",
    "    rx = phantom_range_x\n",
    "    ry = phantom_range_y\n",
    "    self.phantom_dist = (Uniform(rx[1], rx[2]), Uniform(ry[1], ry[2]))\n",
    "    self.phantom_prob = phantom_prob\n",
    "    return self\n",
    "end"
   ]
  },
  {
   "cell_type": "code",
   "execution_count": 24,
   "metadata": {},
   "outputs": [
    {
     "data": {
      "text/plain": [
       "noise (generic function with 1 method)"
      ]
     },
     "execution_count": 24,
     "metadata": {},
     "output_type": "execute_result"
    }
   ],
   "source": [
    "function noise(self::Camera, relpos)\n",
    "    ell = rand(Normal(relpos[1], abs(relpos[1])*self.distance_noise_rate))\n",
    "    phi = rand(Normal(relpos[2],  self.direction_noise))\n",
    "    return [ell, phi]\n",
    "end"
   ]
  },
  {
   "cell_type": "code",
   "execution_count": 25,
   "metadata": {},
   "outputs": [
    {
     "data": {
      "text/plain": [
       "bias (generic function with 1 method)"
      ]
     },
     "execution_count": 25,
     "metadata": {},
     "output_type": "execute_result"
    }
   ],
   "source": [
    "function bias(self::Camera, relpos)\n",
    "    return relpos + [relpos[1]*self.distance_bias_rate_std, self.direction_bias]\n",
    "end"
   ]
  },
  {
   "cell_type": "code",
   "execution_count": 26,
   "metadata": {},
   "outputs": [
    {
     "data": {
      "text/plain": [
       "phantom (generic function with 1 method)"
      ]
     },
     "execution_count": 26,
     "metadata": {},
     "output_type": "execute_result"
    }
   ],
   "source": [
    "function phantom(self::Camera, cam_pose, relpos)\n",
    "    if rand(Uniform()) < self.phantom_prob\n",
    "        pos = [rand(self.phantom_dist[1]), rand(self.phantom_dist[2])]\n",
    "        return relative_polar_pos(self, cam_pose, pos)\n",
    "    else\n",
    "        return relpos\n",
    "    end\n",
    "end"
   ]
  },
  {
   "cell_type": "code",
   "execution_count": 27,
   "metadata": {},
   "outputs": [
    {
     "data": {
      "text/plain": [
       "data (generic function with 2 methods)"
      ]
     },
     "execution_count": 27,
     "metadata": {},
     "output_type": "execute_result"
    }
   ],
   "source": [
    "function data(self::Camera, cam_pose)\n",
    "    observed = []\n",
    "    for lm in self.map.landmarks\n",
    "        z = relative_polar_pos(self, cam_pose, lm.pos)\n",
    "        z = phantom(self, cam_pose, z)\n",
    "        if visible(self, z)\n",
    "            z = bias(self, z)\n",
    "            z = noise(self, z)\n",
    "            push!(observed, (z, lm.id))\n",
    "        end\n",
    "    end\n",
    "    self.lastdata = observed\n",
    "    return observed\n",
    "end"
   ]
  },
  {
   "cell_type": "code",
   "execution_count": 28,
   "metadata": {},
   "outputs": [
    {
     "data": {
      "text/plain": [
       "one_step (generic function with 3 methods)"
      ]
     },
     "execution_count": 28,
     "metadata": {},
     "output_type": "execute_result"
    }
   ],
   "source": [
    "mutable struct Robot <: AbstractRobot\n",
    "    pose\n",
    "    r\n",
    "    color\n",
    "    agent\n",
    "    poses\n",
    "    sensor\n",
    "    noise_pdf\n",
    "    distance_until_noise\n",
    "    theta_noise\n",
    "    bias_rate_nu\n",
    "    bias_rate_omega\n",
    "    stuck_pdf\n",
    "    escape_pdf\n",
    "    time_until_stuck\n",
    "    time_until_escape\n",
    "    is_stuck\n",
    "    kidnap_pdf\n",
    "    time_until_kidnap\n",
    "    kidnap_dist\n",
    "end\n",
    "\n",
    "function Robot(pose, agent, sensor, color, noise_per_meter = 5, noise_std=pi/60,\n",
    "    bias_rate_stds=(0.1,0.1), expected_stuck_time=1e100, expected_escape_time = 1e-100,\n",
    "    expected_kidnap_time=1e100, kidnap_range_x=(-5.0, 5.0), kidnap_range_y=(-5.0, 5.0))\n",
    "    rbt = Robot(ntuple(x->nothing, fieldcount(Robot))...)\n",
    "    rbt.pose = pose\n",
    "    rbt.r = 0.2\n",
    "    rbt.agent = agent\n",
    "    rbt.sensor = sensor\n",
    "    rbt.poses = [pose]\n",
    "    rbt.color = color\n",
    "    rbt.noise_pdf = Exponential(1.0/(1e-100 + noise_per_meter))\n",
    "    rbt.distance_until_noise = rand(rbt.noise_pdf)\n",
    "    rbt.theta_noise = Normal(0, noise_std)\n",
    "    rbt.bias_rate_nu = rand(Normal(1, bias_rate_stds[1]))\n",
    "    rbt.bias_rate_omega = rand(Normal(1, bias_rate_stds[2]))\n",
    "    rbt.stuck_pdf = Exponential(expected_stuck_time)\n",
    "    rbt.escape_pdf = Exponential(expected_escape_time)\n",
    "    rbt.time_until_stuck = rand(rbt.stuck_pdf)\n",
    "    rbt.time_until_escape = rand(rbt.escape_pdf)\n",
    "    rbt.is_stuck = false\n",
    "    rbt.kidnap_pdf = Exponential(expected_kidnap_time)\n",
    "    rbt.time_until_kidnap = rand(rbt.kidnap_pdf)\n",
    "    rx = kidnap_range_x\n",
    "    ry = kidnap_range_y\n",
    "    rbt.kidnap_dist = (Uniform(rx[1], rx[2]), Uniform(ry[1], ry[2]), Uniform(0, 2*pi))\n",
    "    return rbt\n",
    "end\n",
    "\n",
    "function noise(self::Robot, pose, nu, omega, time_interval)\n",
    "    self.distance_until_noise -= abs(nu)*time_interval + self.r*abs(omega)*time_interval\n",
    "    if self.distance_until_noise <= 0.0\n",
    "        self.distance_until_noise += rand(self.noise_pdf)\n",
    "        pose[3] += rand(self.theta_noise)\n",
    "    end\n",
    "    return pose\n",
    "end\n",
    "\n",
    "function bias(self::Robot, nu, omega)\n",
    "    return nu*self.bias_rate_nu, omega*self.bias_rate_omega\n",
    "end\n",
    "\n",
    "function stuck(self::Robot, nu, omega, time_interval)\n",
    "    if self.is_stuck\n",
    "        self.time_until_escape -= time_interval\n",
    "        if self.time_until_escape <= 0.0\n",
    "            self.time_until_escape += rand(self.escape_pdf)\n",
    "            self.is_stuck = false\n",
    "        end\n",
    "    else\n",
    "        self.time_until_stuck -= time_interval\n",
    "        if self.time_until_stuck <= 0.0\n",
    "            self.time_until_stuck += rand(self.stuck_pdf)\n",
    "            self.is_stuck = true\n",
    "        end\n",
    "    end\n",
    "    return nu*(!self.is_stuck), omega*(!self.is_stuck)\n",
    "end\n",
    "\n",
    "function kidnap(self::Robot, pose, time_interval)\n",
    "    self.time_until_kidnap -= time_interval\n",
    "    if self.time_until_kidnap <= 0.0\n",
    "        self.time_until_kidnap += rand(self.kidnap_pdf)\n",
    "        return [rand(self.kidnap_dist[1]), rand(self.kidnap_dist[2]), rand(self.kidnap_dist[3])]\n",
    "    else\n",
    "        return pose\n",
    "    end\n",
    "end\n",
    "\n",
    "function one_step(self::Robot, time_interval)\n",
    "    if isnothing(self.agent)\n",
    "        return\n",
    "    end\n",
    "    obs = nothing\n",
    "    if !isnothing(self.sensor)\n",
    "        obs = data(self.sensor, self.pose)\n",
    "    end\n",
    "    nu, omega = decision(self.agent, obs)\n",
    "    nu, omega = bias(self, nu, omega)\n",
    "    nu, omega = stuck(self, nu, omega, time_interval)\n",
    "    self.pose = state_transition(self, nu, omega, time_interval)\n",
    "    self.pose = noise(self, self.pose, nu, omega, time_interval)\n",
    "    self.pose = kidnap(self, self.pose, time_interval)\n",
    "end"
   ]
  },
  {
   "cell_type": "code",
   "execution_count": 33,
   "metadata": {},
   "outputs": [
    {
     "data": {
      "image/png": "[encoded data removed]",
      "text/plain": [
       "Figure(PyObject <Figure size 640x480 with 1 Axes>)"
      ]
     },
     "metadata": {},
     "output_type": "display_data"
    }
   ],
   "source": [
    "world = World(30, 1.0)\n",
    "m = Map()\n",
    "append_landmark(m, Landmark([-4.0,2.0]))\n",
    "append_landmark(m, Landmark([2.0,-3.0]))\n",
    "append_landmark(m, Landmark([3.0,3.0]))\n",
    "append(world, m)\n",
    "\n",
    "circling = Agent(0.2, 10.0/180*pi)\n",
    "r = Robot([0.0, 0.0, 0.0], circling, Camera_(m, phantom_prob=0.5), \"black\")\n",
    "append(world, r)\n",
    "draw(world)"
   ]
  },
  {
   "cell_type": "code",
   "execution_count": 34,
   "metadata": {},
   "outputs": [
    {
     "data": {
      "text/html": [
       "<video controls src=\"data:video/x-m4v;base64,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\">"
      ]
     },
     "metadata": {},
     "output_type": "display_data"
    }
   ],
   "source": [
    "showanim(\"test.mp4\")"
   ]
  },
  {
   "cell_type": "code",
   "execution_count": null,
   "metadata": {},
   "outputs": [],
   "source": []
  }
 ],
 "metadata": {
  "kernelspec": {
   "display_name": "Julia 1.5.3",
   "language": "julia",
   "name": "julia-1.5"
  },
  "language_info": {
   "file_extension": ".jl",
   "mimetype": "application/julia",
   "name": "julia",
   "version": "1.5.3"
  }
 },
 "nbformat": 4,
 "nbformat_minor": 4
}
