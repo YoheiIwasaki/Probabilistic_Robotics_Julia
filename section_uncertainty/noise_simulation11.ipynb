{
 "cells": [
  {
   "cell_type": "code",
   "execution_count": 1,
   "metadata": {},
   "outputs": [],
   "source": [
    "include(\"../scripts/ideal_robot.jl\")"
   ]
  },
  {
   "cell_type": "code",
   "execution_count": 2,
   "metadata": {},
   "outputs": [],
   "source": [
    "using Distributions\n",
    "using Random"
   ]
  },
  {
   "cell_type": "code",
   "execution_count": 3,
   "metadata": {},
   "outputs": [],
   "source": [
    "mutable struct Camera <: AbstractCamera\n",
    "    map\n",
    "    lastdata\n",
    "    distance_range\n",
    "    direction_range\n",
    "    distance_noise_rate\n",
    "    direction_noise\n",
    "    distance_bias_rate_std\n",
    "    direction_bias\n",
    "    phantom_dist\n",
    "    phantom_prob\n",
    "    oversight_prob\n",
    "    occlusion_prob\n",
    "end"
   ]
  },
  {
   "cell_type": "code",
   "execution_count": 4,
   "metadata": {},
   "outputs": [
    {
     "data": {
      "text/plain": [
       "Camera_ (generic function with 1 method)"
      ]
     },
     "execution_count": 4,
     "metadata": {},
     "output_type": "execute_result"
    }
   ],
   "source": [
    "function Camera_(env_map; distance_range=(0.5,6.0), direction_range=(-pi/3, pi/3),\n",
    "                distance_noise_rate=0.1, direction_noise=pi/90,\n",
    "                distance_bias_rate_stddev=0.1, direction_bias_stddev=pi/90,\n",
    "                phantom_prob=0.0, phantom_range_x = (-5.0, 5.0), phantom_range_y = (-5.0, 5.0),\n",
    "                oversight_prob=0.1, occlusion_prob=0.0)\n",
    "    self = Camera(ntuple(x->nothing, fieldcount(Camera))...)\n",
    "    self.map = env_map\n",
    "    self.lastdata = []\n",
    "    self.distance_range = distance_range\n",
    "    self.direction_range  = direction_range\n",
    "    self.distance_noise_rate = distance_noise_rate\n",
    "    self.direction_noise = direction_noise\n",
    "    self.distance_bias_rate_std = rand(Normal(0, distance_bias_rate_stddev))\n",
    "    self.direction_bias = rand(Normal(0, direction_bias_stddev))\n",
    "    rx = phantom_range_x\n",
    "    ry = phantom_range_y\n",
    "    self.phantom_dist = (Uniform(rx[1], rx[2]), Uniform(ry[1], ry[2]))\n",
    "    self.phantom_prob = phantom_prob\n",
    "    self.oversight_prob = oversight_prob\n",
    "    self.occlusion_prob = occlusion_prob\n",
    "    return self\n",
    "end"
   ]
  },
  {
   "cell_type": "code",
   "execution_count": 5,
   "metadata": {},
   "outputs": [
    {
     "data": {
      "text/plain": [
       "noise (generic function with 1 method)"
      ]
     },
     "execution_count": 5,
     "metadata": {},
     "output_type": "execute_result"
    }
   ],
   "source": [
    "function noise(self::Camera, relpos)\n",
    "    ell = rand(Normal(relpos[1], abs(relpos[1])*self.distance_noise_rate))\n",
    "    phi = rand(Normal(relpos[2],  self.direction_noise))\n",
    "    return [ell, phi]\n",
    "end"
   ]
  },
  {
   "cell_type": "code",
   "execution_count": 6,
   "metadata": {},
   "outputs": [
    {
     "data": {
      "text/plain": [
       "bias (generic function with 1 method)"
      ]
     },
     "execution_count": 6,
     "metadata": {},
     "output_type": "execute_result"
    }
   ],
   "source": [
    "function bias(self::Camera, relpos)\n",
    "    return relpos + [relpos[1]*self.distance_bias_rate_std, self.direction_bias]\n",
    "end"
   ]
  },
  {
   "cell_type": "code",
   "execution_count": 7,
   "metadata": {},
   "outputs": [
    {
     "data": {
      "text/plain": [
       "phantom (generic function with 1 method)"
      ]
     },
     "execution_count": 7,
     "metadata": {},
     "output_type": "execute_result"
    }
   ],
   "source": [
    "function phantom(self::Camera, cam_pose, relpos)\n",
    "    if rand(Uniform()) < self.phantom_prob\n",
    "        pos = [rand(self.phantom_dist[1]), rand(self.phantom_dist[2])]\n",
    "        return relative_polar_pos(self, cam_pose, pos)\n",
    "    else\n",
    "        return relpos\n",
    "    end\n",
    "end"
   ]
  },
  {
   "cell_type": "code",
   "execution_count": 8,
   "metadata": {},
   "outputs": [
    {
     "data": {
      "text/plain": [
       "oversight (generic function with 1 method)"
      ]
     },
     "execution_count": 8,
     "metadata": {},
     "output_type": "execute_result"
    }
   ],
   "source": [
    "function oversight(self::Camera, relpos)\n",
    "    if rand(Uniform()) < self.oversight_prob\n",
    "        return nothing\n",
    "    else\n",
    "        return relpos\n",
    "    end\n",
    "end"
   ]
  },
  {
   "cell_type": "code",
   "execution_count": 9,
   "metadata": {},
   "outputs": [
    {
     "data": {
      "text/plain": [
       "occlusion (generic function with 1 method)"
      ]
     },
     "execution_count": 9,
     "metadata": {},
     "output_type": "execute_result"
    }
   ],
   "source": [
    "function occlusion(self::Camera, relpos)\n",
    "    if rand(Uniform()) < self.occlusion_prob\n",
    "        ell = relpos[1] + rand(Uniform())*(self.distance_range[2] - relpos[1])\n",
    "        phi = relpos[2]\n",
    "        return [ell, phi]\n",
    "    else\n",
    "        return relpos\n",
    "    end\n",
    "end"
   ]
  },
  {
   "cell_type": "code",
   "execution_count": 10,
   "metadata": {},
   "outputs": [
    {
     "data": {
      "text/plain": [
       "data (generic function with 2 methods)"
      ]
     },
     "execution_count": 10,
     "metadata": {},
     "output_type": "execute_result"
    }
   ],
   "source": [
    "function data(self::Camera, cam_pose)\n",
    "    observed = []\n",
    "    for lm in self.map.landmarks\n",
    "        z = relative_polar_pos(self, cam_pose, lm.pos)\n",
    "        z = phantom(self, cam_pose, z)\n",
    "        z = occlusion(self, z)\n",
    "        z = oversight(self, z)\n",
    "        if visible(self, z)\n",
    "            z = bias(self, z)\n",
    "            z = noise(self, z)\n",
    "            push!(observed, (z, lm.id))\n",
    "        end\n",
    "    end\n",
    "    self.lastdata = observed\n",
    "    return observed\n",
    "end"
   ]
  },
  {
   "cell_type": "code",
   "execution_count": 11,
   "metadata": {},
   "outputs": [
    {
     "data": {
      "text/plain": [
       "one_step (generic function with 3 methods)"
      ]
     },
     "execution_count": 11,
     "metadata": {},
     "output_type": "execute_result"
    }
   ],
   "source": [
    "mutable struct Robot <: AbstractRobot\n",
    "    pose\n",
    "    r\n",
    "    color\n",
    "    agent\n",
    "    poses\n",
    "    sensor\n",
    "    noise_pdf\n",
    "    distance_until_noise\n",
    "    theta_noise\n",
    "    bias_rate_nu\n",
    "    bias_rate_omega\n",
    "    stuck_pdf\n",
    "    escape_pdf\n",
    "    time_until_stuck\n",
    "    time_until_escape\n",
    "    is_stuck\n",
    "    kidnap_pdf\n",
    "    time_until_kidnap\n",
    "    kidnap_dist\n",
    "end\n",
    "\n",
    "function Robot(pose, agent, sensor, color, noise_per_meter = 5, noise_std=pi/60,\n",
    "    bias_rate_stds=(0.1,0.1), expected_stuck_time=1e100, expected_escape_time = 1e-100,\n",
    "    expected_kidnap_time=1e100, kidnap_range_x=(-5.0, 5.0), kidnap_range_y=(-5.0, 5.0))\n",
    "    rbt = Robot(ntuple(x->nothing, fieldcount(Robot))...)\n",
    "    rbt.pose = pose\n",
    "    rbt.r = 0.2\n",
    "    rbt.agent = agent\n",
    "    rbt.sensor = sensor\n",
    "    rbt.poses = [pose]\n",
    "    rbt.color = color\n",
    "    rbt.noise_pdf = Exponential(1.0/(1e-100 + noise_per_meter))\n",
    "    rbt.distance_until_noise = rand(rbt.noise_pdf)\n",
    "    rbt.theta_noise = Normal(0, noise_std)\n",
    "    rbt.bias_rate_nu = rand(Normal(1, bias_rate_stds[1]))\n",
    "    rbt.bias_rate_omega = rand(Normal(1, bias_rate_stds[2]))\n",
    "    rbt.stuck_pdf = Exponential(expected_stuck_time)\n",
    "    rbt.escape_pdf = Exponential(expected_escape_time)\n",
    "    rbt.time_until_stuck = rand(rbt.stuck_pdf)\n",
    "    rbt.time_until_escape = rand(rbt.escape_pdf)\n",
    "    rbt.is_stuck = false\n",
    "    rbt.kidnap_pdf = Exponential(expected_kidnap_time)\n",
    "    rbt.time_until_kidnap = rand(rbt.kidnap_pdf)\n",
    "    rx = kidnap_range_x\n",
    "    ry = kidnap_range_y\n",
    "    rbt.kidnap_dist = (Uniform(rx[1], rx[2]), Uniform(ry[1], ry[2]), Uniform(0, 2*pi))\n",
    "    return rbt\n",
    "end\n",
    "\n",
    "function noise(self::Robot, pose, nu, omega, time_interval)\n",
    "    self.distance_until_noise -= abs(nu)*time_interval + self.r*abs(omega)*time_interval\n",
    "    if self.distance_until_noise <= 0.0\n",
    "        self.distance_until_noise += rand(self.noise_pdf)\n",
    "        pose[3] += rand(self.theta_noise)\n",
    "    end\n",
    "    return pose\n",
    "end\n",
    "\n",
    "function bias(self::Robot, nu, omega)\n",
    "    return nu*self.bias_rate_nu, omega*self.bias_rate_omega\n",
    "end\n",
    "\n",
    "function stuck(self::Robot, nu, omega, time_interval)\n",
    "    if self.is_stuck\n",
    "        self.time_until_escape -= time_interval\n",
    "        if self.time_until_escape <= 0.0\n",
    "            self.time_until_escape += rand(self.escape_pdf)\n",
    "            self.is_stuck = false\n",
    "        end\n",
    "    else\n",
    "        self.time_until_stuck -= time_interval\n",
    "        if self.time_until_stuck <= 0.0\n",
    "            self.time_until_stuck += rand(self.stuck_pdf)\n",
    "            self.is_stuck = true\n",
    "        end\n",
    "    end\n",
    "    return nu*(!self.is_stuck), omega*(!self.is_stuck)\n",
    "end\n",
    "\n",
    "function kidnap(self::Robot, pose, time_interval)\n",
    "    self.time_until_kidnap -= time_interval\n",
    "    if self.time_until_kidnap <= 0.0\n",
    "        self.time_until_kidnap += rand(self.kidnap_pdf)\n",
    "        return [rand(self.kidnap_dist[1]), rand(self.kidnap_dist[2]), rand(self.kidnap_dist[3])]\n",
    "    else\n",
    "        return pose\n",
    "    end\n",
    "end\n",
    "\n",
    "function one_step(self::Robot, time_interval)\n",
    "    if isnothing(self.agent)\n",
    "        return\n",
    "    end\n",
    "    obs = nothing\n",
    "    if !isnothing(self.sensor)\n",
    "        obs = data(self.sensor, self.pose)\n",
    "    end\n",
    "    nu, omega = decision(self.agent, obs)\n",
    "    nu, omega = bias(self, nu, omega)\n",
    "    nu, omega = stuck(self, nu, omega, time_interval)\n",
    "    self.pose = state_transition(self, nu, omega, time_interval)\n",
    "    self.pose = noise(self, self.pose, nu, omega, time_interval)\n",
    "    self.pose = kidnap(self, self.pose, time_interval)\n",
    "end"
   ]
  },
  {
   "cell_type": "code",
   "execution_count": 12,
   "metadata": {},
   "outputs": [
    {
     "data": {
      "image/png": "[encoded data removed]",
      "text/plain": [
       "Figure(PyObject <Figure size 640x480 with 1 Axes>)"
      ]
     },
     "metadata": {},
     "output_type": "display_data"
    }
   ],
   "source": [
    "world = World(30, 1.0)\n",
    "m = Map()\n",
    "append_landmark(m, Landmark([-4.0,2.0]))\n",
    "append_landmark(m, Landmark([2.0,-3.0]))\n",
    "append_landmark(m, Landmark([3.0,3.0]))\n",
    "append(world, m)\n",
    "\n",
    "circling = Agent(0.2, 10.0/180*pi)\n",
    "r = Robot([0.0, 0.0, 0.0], circling, Camera_(m, occlusion_prob=0.1), \"black\")\n",
    "append(world, r)\n",
    "draw(world)"
   ]
  },
  {
   "cell_type": "code",
   "execution_count": 13,
   "metadata": {},
   "outputs": [
    {
     "data": {
      "text/html": [
       "<video controls src=\"data:video/x-m4v;base64,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\">"
      ]
     },
     "metadata": {},
     "output_type": "display_data"
    }
   ],
   "source": [
    "showanim(\"test.mp4\")"
   ]
  },
  {
   "cell_type": "code",
   "execution_count": null,
   "metadata": {},
   "outputs": [],
   "source": []
  }
 ],
 "metadata": {
  "kernelspec": {
   "display_name": "Julia 1.5.3",
   "language": "julia",
   "name": "julia-1.5"
  },
  "language_info": {
   "file_extension": ".jl",
   "mimetype": "application/julia",
   "name": "julia",
   "version": "1.5.3"
  }
 },
 "nbformat": 4,
 "nbformat_minor": 4
}
