{
 "cells": [
  {
   "cell_type": "code",
   "execution_count": 1,
   "metadata": {},
   "outputs": [],
   "source": [
    "using CSV\n",
    "using DataFrames"
   ]
  },
  {
   "cell_type": "code",
   "execution_count": 2,
   "metadata": {},
   "outputs": [
    {
     "data": {
      "text/html": [
       "<table class=\"data-frame\"><thead><tr><th></th><th>data</th><th>time</th><th>ir</th><th>lidar</th></tr><tr><th></th><th>Int64</th><th>Int64</th><th>Int64</th><th>Int64</th></tr></thead><tbody><p>58,988 rows × 4 columns</p><tr><th>1</th><td>20180122</td><td>95819</td><td>305</td><td>214</td></tr><tr><th>2</th><td>20180122</td><td>95822</td><td>299</td><td>211</td></tr><tr><th>3</th><td>20180122</td><td>95826</td><td>292</td><td>199</td></tr><tr><th>4</th><td>20180122</td><td>95829</td><td>321</td><td>208</td></tr><tr><th>5</th><td>20180122</td><td>95832</td><td>298</td><td>212</td></tr><tr><th>6</th><td>20180122</td><td>95835</td><td>327</td><td>212</td></tr><tr><th>7</th><td>20180122</td><td>95838</td><td>293</td><td>215</td></tr><tr><th>8</th><td>20180122</td><td>95840</td><td>309</td><td>218</td></tr><tr><th>9</th><td>20180122</td><td>95843</td><td>323</td><td>208</td></tr><tr><th>10</th><td>20180122</td><td>95846</td><td>292</td><td>217</td></tr><tr><th>11</th><td>20180122</td><td>95850</td><td>294</td><td>215</td></tr><tr><th>12</th><td>20180122</td><td>95852</td><td>323</td><td>218</td></tr><tr><th>13</th><td>20180122</td><td>95856</td><td>319</td><td>218</td></tr><tr><th>14</th><td>20180122</td><td>95858</td><td>313</td><td>214</td></tr><tr><th>15</th><td>20180122</td><td>95902</td><td>298</td><td>209</td></tr><tr><th>16</th><td>20180122</td><td>95905</td><td>296</td><td>211</td></tr><tr><th>17</th><td>20180122</td><td>95908</td><td>294</td><td>210</td></tr><tr><th>18</th><td>20180122</td><td>95911</td><td>314</td><td>215</td></tr><tr><th>19</th><td>20180122</td><td>95914</td><td>300</td><td>212</td></tr><tr><th>20</th><td>20180122</td><td>95917</td><td>324</td><td>219</td></tr><tr><th>21</th><td>20180122</td><td>95920</td><td>295</td><td>220</td></tr><tr><th>22</th><td>20180122</td><td>95922</td><td>320</td><td>214</td></tr><tr><th>23</th><td>20180122</td><td>95925</td><td>302</td><td>211</td></tr><tr><th>24</th><td>20180122</td><td>95928</td><td>303</td><td>215</td></tr><tr><th>25</th><td>20180122</td><td>95932</td><td>297</td><td>215</td></tr><tr><th>26</th><td>20180122</td><td>95934</td><td>306</td><td>210</td></tr><tr><th>27</th><td>20180122</td><td>95937</td><td>302</td><td>217</td></tr><tr><th>28</th><td>20180122</td><td>95940</td><td>296</td><td>215</td></tr><tr><th>29</th><td>20180122</td><td>95943</td><td>308</td><td>213</td></tr><tr><th>30</th><td>20180122</td><td>95947</td><td>303</td><td>211</td></tr><tr><th>&vellip;</th><td>&vellip;</td><td>&vellip;</td><td>&vellip;</td><td>&vellip;</td></tr></tbody></table>"
      ],
      "text/latex": [
       "\\begin{tabular}{r|cccc}\n",
       "\t& data & time & ir & lidar\\\\\n",
       "\t\\hline\n",
       "\t& Int64 & Int64 & Int64 & Int64\\\\\n",
       "\t\\hline\n",
       "\t1 & 20180122 & 95819 & 305 & 214 \\\\\n",
       "\t2 & 20180122 & 95822 & 299 & 211 \\\\\n",
       "\t3 & 20180122 & 95826 & 292 & 199 \\\\\n",
       "\t4 & 20180122 & 95829 & 321 & 208 \\\\\n",
       "\t5 & 20180122 & 95832 & 298 & 212 \\\\\n",
       "\t6 & 20180122 & 95835 & 327 & 212 \\\\\n",
       "\t7 & 20180122 & 95838 & 293 & 215 \\\\\n",
       "\t8 & 20180122 & 95840 & 309 & 218 \\\\\n",
       "\t9 & 20180122 & 95843 & 323 & 208 \\\\\n",
       "\t10 & 20180122 & 95846 & 292 & 217 \\\\\n",
       "\t11 & 20180122 & 95850 & 294 & 215 \\\\\n",
       "\t12 & 20180122 & 95852 & 323 & 218 \\\\\n",
       "\t13 & 20180122 & 95856 & 319 & 218 \\\\\n",
       "\t14 & 20180122 & 95858 & 313 & 214 \\\\\n",
       "\t15 & 20180122 & 95902 & 298 & 209 \\\\\n",
       "\t16 & 20180122 & 95905 & 296 & 211 \\\\\n",
       "\t17 & 20180122 & 95908 & 294 & 210 \\\\\n",
       "\t18 & 20180122 & 95911 & 314 & 215 \\\\\n",
       "\t19 & 20180122 & 95914 & 300 & 212 \\\\\n",
       "\t20 & 20180122 & 95917 & 324 & 219 \\\\\n",
       "\t21 & 20180122 & 95920 & 295 & 220 \\\\\n",
       "\t22 & 20180122 & 95922 & 320 & 214 \\\\\n",
       "\t23 & 20180122 & 95925 & 302 & 211 \\\\\n",
       "\t24 & 20180122 & 95928 & 303 & 215 \\\\\n",
       "\t25 & 20180122 & 95932 & 297 & 215 \\\\\n",
       "\t26 & 20180122 & 95934 & 306 & 210 \\\\\n",
       "\t27 & 20180122 & 95937 & 302 & 217 \\\\\n",
       "\t28 & 20180122 & 95940 & 296 & 215 \\\\\n",
       "\t29 & 20180122 & 95943 & 308 & 213 \\\\\n",
       "\t30 & 20180122 & 95947 & 303 & 211 \\\\\n",
       "\t$\\dots$ & $\\dots$ & $\\dots$ & $\\dots$ & $\\dots$ \\\\\n",
       "\\end{tabular}\n"
      ],
      "text/plain": [
       "\u001b[1m58988×4 DataFrame\u001b[0m\n",
       "\u001b[1m   Row \u001b[0m│\u001b[1m data     \u001b[0m\u001b[1m time   \u001b[0m\u001b[1m ir    \u001b[0m\u001b[1m lidar \u001b[0m\n",
       "\u001b[1m       \u001b[0m│\u001b[90m Int64    \u001b[0m\u001b[90m Int64  \u001b[0m\u001b[90m Int64 \u001b[0m\u001b[90m Int64 \u001b[0m\n",
       "───────┼────────────────────────────────\n",
       "     1 │ 20180122   95819    305    214\n",
       "     2 │ 20180122   95822    299    211\n",
       "     3 │ 20180122   95826    292    199\n",
       "     4 │ 20180122   95829    321    208\n",
       "     5 │ 20180122   95832    298    212\n",
       "     6 │ 20180122   95835    327    212\n",
       "     7 │ 20180122   95838    293    215\n",
       "     8 │ 20180122   95840    309    218\n",
       "     9 │ 20180122   95843    323    208\n",
       "    10 │ 20180122   95846    292    217\n",
       "    11 │ 20180122   95850    294    215\n",
       "   ⋮   │    ⋮        ⋮       ⋮      ⋮\n",
       " 58979 │ 20180124  120009    310    206\n",
       " 58980 │ 20180124  120012    330    208\n",
       " 58981 │ 20180124  120015    305    205\n",
       " 58982 │ 20180124  120018    301    202\n",
       " 58983 │ 20180124  120021    320    206\n",
       " 58984 │ 20180124  120023    313    208\n",
       " 58985 │ 20180124  120026    297    200\n",
       " 58986 │ 20180124  120030    323    204\n",
       " 58987 │ 20180124  120033    326    207\n",
       " 58988 │ 20180124  120036    321    208\n",
       "\u001b[36m                      58967 rows omitted\u001b[0m"
      ]
     },
     "execution_count": 2,
     "metadata": {},
     "output_type": "execute_result"
    }
   ],
   "source": [
    "data = DataFrame(CSV.File(\"../data/sensor_data_200.txt\"; \n",
    "        header=[\"data\", \"time\", \"ir\", \"lidar\"]))"
   ]
  },
  {
   "cell_type": "code",
   "execution_count": 3,
   "metadata": {},
   "outputs": [
    {
     "data": {
      "text/plain": [
       "5-element Array{Int64,1}:\n",
       " 214\n",
       " 211\n",
       " 199\n",
       " 208\n",
       " 212"
      ]
     },
     "execution_count": 3,
     "metadata": {},
     "output_type": "execute_result"
    }
   ],
   "source": [
    "data[1:5, \"lidar\"]"
   ]
  },
  {
   "cell_type": "code",
   "execution_count": 4,
   "metadata": {},
   "outputs": [],
   "source": [
    "using PyPlot\n",
    "using Statistics"
   ]
  },
  {
   "cell_type": "code",
   "execution_count": 5,
   "metadata": {},
   "outputs": [
    {
     "data": {
      "image/png": "[encoded data removed]",
      "text/plain": [
       "Figure(PyObject <Figure size 640x480 with 1 Axes>)"
      ]
     },
     "metadata": {},
     "output_type": "display_data"
    }
   ],
   "source": [
    "hist(data[:,\"lidar\"], bins= maximum(data.lidar)-minimum(data.lidar),align=\"left\")\n",
    "grid(\"on\")"
   ]
  },
  {
   "cell_type": "code",
   "execution_count": 6,
   "metadata": {},
   "outputs": [
    {
     "name": "stdout",
     "output_type": "stream",
     "text": [
      "209.73713297619855 209.73713297619855"
     ]
    }
   ],
   "source": [
    "mean1 = sum(data.lidar)/length(data.lidar)\n",
    "mean2 = mean(data.lidar)\n",
    "print(mean1,\" \", mean2)"
   ]
  },
  {
   "cell_type": "code",
   "execution_count": 7,
   "metadata": {},
   "outputs": [
    {
     "data": {
      "image/png": "[encoded data removed]",
      "text/plain": [
       "Figure(PyObject <Figure size 640x480 with 1 Axes>)"
      ]
     },
     "metadata": {},
     "output_type": "display_data"
    }
   ],
   "source": [
    "hist(data[:,\"lidar\"], bins= maximum(data.lidar)-minimum(data.lidar),\n",
    "    align=\"left\",color=\"orange\")\n",
    "vlines(mean1, ymin=0, ymax=5000, color=\"red\")\n",
    "grid(\"on\")"
   ]
  },
  {
   "cell_type": "code",
   "execution_count": 8,
   "metadata": {},
   "outputs": [
    {
     "name": "stdout",
     "output_type": "stream",
     "text": [
      "23.407709770274206\n",
      "23.40810659855451\n",
      "23.40770977027421\n",
      "23.408106598554514\n"
     ]
    }
   ],
   "source": [
    "zs = data.lidar\n",
    "zs_mean = sum(zs)/length(zs)\n",
    "diff_square = [(z-zs_mean)^2 for z in zs]\n",
    "\n",
    "sampling_var = sum(diff_square)/length(zs)\n",
    "unbiased_var = sum(diff_square)/(length(zs)-1)\n",
    "\n",
    "println(sampling_var)\n",
    "println(unbiased_var)\n",
    "\n",
    "statistics_sampling_var = var(zs, corrected=false)\n",
    "statistics_unbiased_var = var(zs)\n",
    "println(statistics_sampling_var)\n",
    "println(statistics_unbiased_var)"
   ]
  },
  {
   "cell_type": "code",
   "execution_count": 9,
   "metadata": {},
   "outputs": [
    {
     "name": "stdout",
     "output_type": "stream",
     "text": [
      "4.838151482774615\n",
      "4.83819249292073\n",
      "4.83819249292073\n"
     ]
    }
   ],
   "source": [
    "stddev1 = sqrt(sampling_var)\n",
    "stddev2 = sqrt(unbiased_var)\n",
    "\n",
    "statistics_stddev = std(data.lidar)\n",
    "\n",
    "println(stddev1)\n",
    "println(stddev2)\n",
    "println(statistics_stddev)"
   ]
  },
  {
   "cell_type": "code",
   "execution_count": 10,
   "metadata": {},
   "outputs": [],
   "source": [
    "using StatsBase"
   ]
  },
  {
   "cell_type": "code",
   "execution_count": 24,
   "metadata": {},
   "outputs": [
    {
     "data": {
      "text/html": [
       "<table class=\"data-frame\"><thead><tr><th></th><th>193</th><th>194</th><th>195</th><th>196</th><th>197</th><th>198</th><th>199</th></tr><tr><th></th><th>Float64</th><th>Float64</th><th>Float64</th><th>Float64</th><th>Float64</th><th>Float64</th><th>Float64</th></tr></thead><tbody><p>2 rows × 35 columns (omitted printing of 28 columns)</p><tr><th>1</th><td>4.0</td><td>10.0</td><td>13.0</td><td>59.0</td><td>84.0</td><td>205.0</td><td>353.0</td></tr><tr><th>2</th><td>6.78104e-5</td><td>0.000169526</td><td>0.000220384</td><td>0.0010002</td><td>0.00142402</td><td>0.00347528</td><td>0.00598427</td></tr></tbody></table>"
      ],
      "text/latex": [
       "\\begin{tabular}{r|cccccccc}\n",
       "\t& 193 & 194 & 195 & 196 & 197 & 198 & 199 & \\\\\n",
       "\t\\hline\n",
       "\t& Float64 & Float64 & Float64 & Float64 & Float64 & Float64 & Float64 & \\\\\n",
       "\t\\hline\n",
       "\t1 & 4.0 & 10.0 & 13.0 & 59.0 & 84.0 & 205.0 & 353.0 & $\\dots$ \\\\\n",
       "\t2 & 6.78104e-5 & 0.000169526 & 0.000220384 & 0.0010002 & 0.00142402 & 0.00347528 & 0.00598427 & $\\dots$ \\\\\n",
       "\\end{tabular}\n"
      ],
      "text/plain": [
       "\u001b[1m2×35 DataFrame\u001b[0m\n",
       "\u001b[1m Row \u001b[0m│\u001b[1m 193        \u001b[0m\u001b[1m 194          \u001b[0m\u001b[1m 195          \u001b[0m\u001b[1m 196        \u001b[0m\u001b[1m 197         \u001b[0m\u001b[1m 198   \u001b[0m ⋯\n",
       "\u001b[1m     \u001b[0m│\u001b[90m Float64    \u001b[0m\u001b[90m Float64      \u001b[0m\u001b[90m Float64      \u001b[0m\u001b[90m Float64    \u001b[0m\u001b[90m Float64     \u001b[0m\u001b[90m Float6\u001b[0m ⋯\n",
       "─────┼──────────────────────────────────────────────────────────────────────────\n",
       "   1 │ 4.0         10.0          13.0          59.0        84.0         205.0  ⋯\n",
       "   2 │ 6.78104e-5   0.000169526   0.000220384   0.0010002   0.00142402    0.00\n",
       "\u001b[36m                                                              30 columns omitted\u001b[0m"
      ]
     },
     "execution_count": 24,
     "metadata": {},
     "output_type": "execute_result"
    }
   ],
   "source": [
    "freqs_dict = countmap(data.lidar)\n",
    "\n",
    "tmp_dict = Dict()\n",
    "for (key, value) in freqs_dict\n",
    "    tmp_dict[string(key)] = [value, value/length(data.lidar)]\n",
    "end\n",
    "freqs = DataFrame(tmp_dict)"
   ]
  },
  {
   "cell_type": "code",
   "execution_count": 45,
   "metadata": {},
   "outputs": [
    {
     "data": {
      "image/png": "[encoded data removed]",
      "text/plain": [
       "Figure(PyObject <Figure size 640x480 with 1 Axes>)"
      ]
     },
     "metadata": {},
     "output_type": "display_data"
    }
   ],
   "source": [
    "for col in names(freqs)\n",
    "    bar(parse(Int, col), freqs[2, col])\n",
    "end"
   ]
  },
  {
   "cell_type": "code",
   "execution_count": 58,
   "metadata": {},
   "outputs": [
    {
     "data": {
      "text/plain": [
       "drawing (generic function with 1 method)"
      ]
     },
     "execution_count": 58,
     "metadata": {},
     "output_type": "execute_result"
    }
   ],
   "source": [
    "function drawing()\n",
    "    s = sample(names(freqs),  Weights(Array(freqs[2, :])))\n",
    "    return parse(Int, s)\n",
    "end"
   ]
  },
  {
   "cell_type": "code",
   "execution_count": 73,
   "metadata": {},
   "outputs": [
    {
     "data": {
      "image/png": "[encoded data removed]",
      "text/plain": [
       "Figure(PyObject <Figure size 640x480 with 1 Axes>)"
      ]
     },
     "metadata": {},
     "output_type": "display_data"
    },
    {
     "data": {
      "text/plain": [
       "([4.0, 14.0, 14.0, 58.0, 82.0, 226.0, 328.0, 637.0, 1117.0, 1564.0  …  1862.0, 1230.0, 758.0, 509.0, 255.0, 126.0, 50.0, 25.0, 0.0, 24.0], [193.0, 194.0, 195.0, 196.0, 197.0, 198.0, 199.0, 200.0, 201.0, 202.0  …  218.0, 219.0, 220.0, 221.0, 222.0, 223.0, 224.0, 225.0, 226.0, 227.0], (PyObject <matplotlib.patches.Rectangle object at 0x7fe203774760>, PyObject <matplotlib.patches.Rectangle object at 0x7fe203774a30>, PyObject <matplotlib.patches.Rectangle object at 0x7fe203774070>, PyObject <matplotlib.patches.Rectangle object at 0x7fe2037fcf10>, PyObject <matplotlib.patches.Rectangle object at 0x7fe2037fcb20>, PyObject <matplotlib.patches.Rectangle object at 0x7fe2037fc2e0>, PyObject <matplotlib.patches.Rectangle object at 0x7fe2037fc640>, PyObject <matplotlib.patches.Rectangle object at 0x7fe2037fce80>, PyObject <matplotlib.patches.Rectangle object at 0x7fe2036b0e80>, PyObject <matplotlib.patches.Rectangle object at 0x7fe2036b0190>, PyObject <matplotlib.patches.Rectangle object at 0x7fe2036b0640>, PyObject <matplotlib.patches.Rectangle object at 0x7fe2036b0b80>, PyObject <matplotlib.patches.Rectangle object at 0x7fe2036b0ac0>, PyObject <matplotlib.patches.Rectangle object at 0x7fe2035b0c10>, PyObject <matplotlib.patches.Rectangle object at 0x7fe203479880>, PyObject <matplotlib.patches.Rectangle object at 0x7fe2035a13d0>, PyObject <matplotlib.patches.Rectangle object at 0x7fe203519f40>, PyObject <matplotlib.patches.Rectangle object at 0x7fe2036226a0>, PyObject <matplotlib.patches.Rectangle object at 0x7fe1e61d80a0>, PyObject <matplotlib.patches.Rectangle object at 0x7fe1e5f441c0>, PyObject <matplotlib.patches.Rectangle object at 0x7fe1e5f44490>, PyObject <matplotlib.patches.Rectangle object at 0x7fe1e5f44760>, PyObject <matplotlib.patches.Rectangle object at 0x7fe1e5f44a30>, PyObject <matplotlib.patches.Rectangle object at 0x7fe1e5f44d00>, PyObject <matplotlib.patches.Rectangle object at 0x7fe1e5f44fd0>, PyObject <matplotlib.patches.Rectangle object at 0x7fe1e61e32e0>, PyObject <matplotlib.patches.Rectangle object at 0x7fe1e61e35b0>, PyObject <matplotlib.patches.Rectangle object at 0x7fe1e61e3880>, PyObject <matplotlib.patches.Rectangle object at 0x7fe1e61e3b50>, PyObject <matplotlib.patches.Rectangle object at 0x7fe1e61e3e20>, PyObject <matplotlib.patches.Rectangle object at 0x7fe1e61ef130>, PyObject <matplotlib.patches.Rectangle object at 0x7fe1e61ef400>, PyObject <matplotlib.patches.Rectangle object at 0x7fe1e61ef6d0>, PyObject <matplotlib.patches.Rectangle object at 0x7fe1e61ef9a0>))"
      ]
     },
     "execution_count": 73,
     "metadata": {},
     "output_type": "execute_result"
    }
   ],
   "source": [
    "samples = [drawing() for i in 1:length(data.lidar)]\n",
    "simulated = DataFrame(lidar=samples)\n",
    "p = simulated.lidar\n",
    "hist(p, bins= maximum(p)-minimum(p),\n",
    "    align=\"left\",color=\"orange\")"
   ]
  },
  {
   "cell_type": "code",
   "execution_count": null,
   "metadata": {},
   "outputs": [],
   "source": []
  }
 ],
 "metadata": {
  "kernelspec": {
   "display_name": "Julia 1.5.3",
   "language": "julia",
   "name": "julia-1.5"
  },
  "language_info": {
   "file_extension": ".jl",
   "mimetype": "application/julia",
   "name": "julia",
   "version": "1.5.3"
  }
 },
 "nbformat": 4,
 "nbformat_minor": 2
}
