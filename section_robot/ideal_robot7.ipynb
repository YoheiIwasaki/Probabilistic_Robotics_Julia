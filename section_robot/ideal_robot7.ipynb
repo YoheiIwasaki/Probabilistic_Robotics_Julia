{
 "cells": [
  {
   "cell_type": "code",
   "execution_count": 21,
   "metadata": {},
   "outputs": [],
   "source": [
    "using PyPlot\n",
    "using PyCall\n",
    "using Printf\n",
    "@pyimport matplotlib.animation as anim\n",
    "@pyimport matplotlib.patches as patches"
   ]
  },
  {
   "cell_type": "code",
   "execution_count": 22,
   "metadata": {},
   "outputs": [
    {
     "data": {
      "text/plain": [
       "showanim (generic function with 1 method)"
      ]
     },
     "execution_count": 22,
     "metadata": {},
     "output_type": "execute_result"
    }
   ],
   "source": [
    "using Base64\n",
    "function showanim(filename)\n",
    "    base64_video = base64encode(open(filename))\n",
    "    display(\"text/html\", \"\"\"<video controls src=\"data:video/x-m4v;base64,$base64_video\">\"\"\")\n",
    "end"
   ]
  },
  {
   "cell_type": "code",
   "execution_count": 23,
   "metadata": {},
   "outputs": [
    {
     "data": {
      "text/plain": [
       "one_step (generic function with 1 method)"
      ]
     },
     "execution_count": 23,
     "metadata": {},
     "output_type": "execute_result"
    }
   ],
   "source": [
    "mutable struct World\n",
    "    objects\n",
    "    debug\n",
    "    time_span\n",
    "    time_interval\n",
    "    ani\n",
    "end\n",
    "\n",
    "World() = World([], false, 10, 1, nothing)\n",
    "World(debug) = World([], debug, 10, 1, nothing)\n",
    "World(time_span, time_interval) = World([], false, time_span, time_interval, nothing)\n",
    "\n",
    "function append(self::World, obj)\n",
    "    push!(self.objects, obj)\n",
    "end\n",
    "\n",
    "function init_draw(self::World, ax)\n",
    "    ax.set_aspect(\"equal\")\n",
    "    ax.set_xlim(-5,5)\n",
    "    ax.set_ylim(-5,5)\n",
    "    ax.set_xlabel(\"X\", fontsize=20)\n",
    "    ax.set_ylabel(\"Y\", fontsize=20)\n",
    "end\n",
    "\n",
    "function draw(self::World)\n",
    "    fig, ax = subplots()\n",
    "    init_draw(self, ax)    \n",
    "    elems = []\n",
    "\n",
    "    if self.debug\n",
    "        for i = 1:1000\n",
    "            one_step(self, i, elems, ax)\n",
    "        end\n",
    "    else\n",
    "        self.ani = anim.FuncAnimation(fig, one_step, fargs=(self, elems, ax), \n",
    "            frames = Int(self.time_span/self.time_interval)+1, interval = Int(self.time_interval*1000))\n",
    "        self.ani[:save](\"test.mp4\", bitrate=-1, extra_args=[\"-vcodec\", \"libx264\", \"-pix_fmt\", \"yuv420p\"])\n",
    "    end \n",
    "    \n",
    "end\n",
    "\n",
    "function one_step(i,self::World,elems, ax)\n",
    "    plt.cla()\n",
    "    init_draw(self, ax)\n",
    "    while length(elems) > 0\n",
    "        pop!(elems)\n",
    "    end\n",
    "    vcat(elems, ax.text(-4.4, 4.5, string(\"t = \", @sprintf(\"%.2f[s]\", self.time_interval * i) ), fontsize=10))\n",
    "    for obj in self.objects\n",
    "        draw(obj, ax, elems)\n",
    "        if applicable(one_step, obj, 1.0)\n",
    "            one_step(obj, 1.0)\n",
    "        end\n",
    "    end\n",
    "end"
   ]
  },
  {
   "cell_type": "code",
   "execution_count": 24,
   "metadata": {},
   "outputs": [
    {
     "data": {
      "text/plain": [
       "draw (generic function with 3 methods)"
      ]
     },
     "execution_count": 24,
     "metadata": {},
     "output_type": "execute_result"
    }
   ],
   "source": [
    "mutable struct Landmark\n",
    "    pos\n",
    "    id\n",
    "end\n",
    "\n",
    "Landmark(pos) = Landmark(pos, nothing)\n",
    "\n",
    "function draw(self::Landmark, ax, elems)\n",
    "    c = ax.scatter(self.pos[1], self.pos[2], s=100, marker=\"*\", label=\"landmarks\", color=\"orange\")\n",
    "    elems = vcat(elems, c)\n",
    "    elems = vcat(elems, ax.text( self.pos[1], self.pos[2] , string(\"id:\", string(self.id)), fontsize=10))\n",
    "end"
   ]
  },
  {
   "cell_type": "code",
   "execution_count": 25,
   "metadata": {},
   "outputs": [
    {
     "data": {
      "text/plain": [
       "draw (generic function with 3 methods)"
      ]
     },
     "execution_count": 25,
     "metadata": {},
     "output_type": "execute_result"
    }
   ],
   "source": [
    "mutable struct Map\n",
    "    landmarks\n",
    "end\n",
    "\n",
    "Map() = Map([])\n",
    "\n",
    "function append_landmark(self::Map, landmark)\n",
    "    landmark.id = length(self.landmarks)\n",
    "    push!(self.landmarks, landmark)\n",
    "end\n",
    "\n",
    "function draw(self::Map, ax, elems)\n",
    "    for lm in self.landmarks\n",
    "        draw(lm, ax, elems)\n",
    "    end\n",
    "end"
   ]
  },
  {
   "cell_type": "code",
   "execution_count": 26,
   "metadata": {},
   "outputs": [
    {
     "data": {
      "image/png": "[encoded data removed]",
      "text/plain": [
       "Figure(PyObject <Figure size 640x480 with 1 Axes>)"
      ]
     },
     "metadata": {},
     "output_type": "display_data"
    }
   ],
   "source": [
    "world = World(10, 0.5)\n",
    "\n",
    "m = Map()\n",
    "append_landmark(m, Landmark([2,-2]))\n",
    "append_landmark(m, Landmark([-1,-3]))\n",
    "append_landmark(m, Landmark([3,3]))\n",
    "append(world, m)\n",
    "\n",
    "draw(world)"
   ]
  },
  {
   "cell_type": "code",
   "execution_count": 27,
   "metadata": {
    "scrolled": false
   },
   "outputs": [
    {
     "data": {
      "text/html": [
       "<video controls src=\"data:video/x-m4v;base64,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\">"
      ]
     },
     "metadata": {},
     "output_type": "display_data"
    }
   ],
   "source": [
    "showanim(\"test.mp4\")"
   ]
  },
  {
   "cell_type": "code",
   "execution_count": null,
   "metadata": {},
   "outputs": [],
   "source": []
  }
 ],
 "metadata": {
  "kernelspec": {
   "display_name": "Julia 1.5.3",
   "language": "julia",
   "name": "julia-1.5"
  },
  "language_info": {
   "file_extension": ".jl",
   "mimetype": "application/julia",
   "name": "julia",
   "version": "1.5.3"
  }
 },
 "nbformat": 4,
 "nbformat_minor": 4
}
