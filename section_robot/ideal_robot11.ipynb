{
 "cells": [
  {
   "cell_type": "code",
   "execution_count": 1,
   "metadata": {},
   "outputs": [],
   "source": [
    "using PyPlot\n",
    "using PyCall\n",
    "using Printf\n",
    "@pyimport matplotlib.animation as anim\n",
    "@pyimport matplotlib.patches as patches"
   ]
  },
  {
   "cell_type": "code",
   "execution_count": 2,
   "metadata": {},
   "outputs": [
    {
     "data": {
      "text/plain": [
       "showanim (generic function with 1 method)"
      ]
     },
     "execution_count": 2,
     "metadata": {},
     "output_type": "execute_result"
    }
   ],
   "source": [
    "using Base64\n",
    "function showanim(filename)\n",
    "    base64_video = base64encode(open(filename))\n",
    "    display(\"text/html\", \"\"\"<video controls src=\"data:video/x-m4v;base64,$base64_video\">\"\"\")\n",
    "end"
   ]
  },
  {
   "cell_type": "code",
   "execution_count": 3,
   "metadata": {},
   "outputs": [
    {
     "data": {
      "text/plain": [
       "one_step (generic function with 1 method)"
      ]
     },
     "execution_count": 3,
     "metadata": {},
     "output_type": "execute_result"
    }
   ],
   "source": [
    "mutable struct World\n",
    "    objects\n",
    "    debug\n",
    "    time_span\n",
    "    time_interval\n",
    "    ani\n",
    "end\n",
    "\n",
    "World() = World([], false, 10, 1, nothing)\n",
    "World(debug) = World([], debug, 10, 1, nothing)\n",
    "World(time_span, time_interval) = World([], false, time_span, time_interval, nothing)\n",
    "\n",
    "function append(self::World, obj)\n",
    "    push!(self.objects, obj)\n",
    "end\n",
    "\n",
    "function init_draw(self::World, ax)\n",
    "    ax.set_aspect(\"equal\")\n",
    "    ax.set_xlim(-5,5)\n",
    "    ax.set_ylim(-5,5)\n",
    "    ax.set_xlabel(\"X\", fontsize=20)\n",
    "    ax.set_ylabel(\"Y\", fontsize=20)\n",
    "end\n",
    "\n",
    "function draw(self::World)\n",
    "    fig, ax = subplots()\n",
    "    init_draw(self, ax)    \n",
    "    elems = []\n",
    "\n",
    "    if self.debug\n",
    "        for i = 1:1000\n",
    "            one_step(self, i, elems, ax)\n",
    "        end\n",
    "    else\n",
    "        self.ani = anim.FuncAnimation(fig, one_step, fargs=(self, elems, ax), \n",
    "            frames = Int(self.time_span/self.time_interval)+1, interval = Int(self.time_interval*1000))\n",
    "        self.ani[:save](\"test.mp4\", bitrate=-1, extra_args=[\"-vcodec\", \"libx264\", \"-pix_fmt\", \"yuv420p\"])\n",
    "    end \n",
    "    \n",
    "end\n",
    "\n",
    "function one_step(i,self::World, elems, ax)\n",
    "    plt.cla()\n",
    "    init_draw(self, ax)\n",
    "    while length(elems) > 0\n",
    "        pop!(elems)\n",
    "    end\n",
    "    vcat(elems, ax.text(-4.4, 4.5, string(\"t = \", @sprintf(\"%.2f[s]\", self.time_interval * i) ), fontsize=10))\n",
    "    for obj in self.objects\n",
    "        draw(obj, ax, elems)\n",
    "        if applicable(one_step, obj, 1.0)\n",
    "            one_step(obj, 1.0)\n",
    "        end\n",
    "    end\n",
    "end"
   ]
  },
  {
   "cell_type": "code",
   "execution_count": 4,
   "metadata": {},
   "outputs": [
    {
     "data": {
      "text/plain": [
       "decision (generic function with 2 methods)"
      ]
     },
     "execution_count": 4,
     "metadata": {},
     "output_type": "execute_result"
    }
   ],
   "source": [
    "mutable struct Agent\n",
    "    nu\n",
    "    omega\n",
    "end\n",
    "function decision(self::Agent, observation=nothing)\n",
    "    return self.nu, self.omega\n",
    "end"
   ]
  },
  {
   "cell_type": "code",
   "execution_count": 5,
   "metadata": {},
   "outputs": [
    {
     "data": {
      "text/plain": [
       "one_step (generic function with 2 methods)"
      ]
     },
     "execution_count": 5,
     "metadata": {},
     "output_type": "execute_result"
    }
   ],
   "source": [
    "mutable struct IdealRobot\n",
    "    pose\n",
    "    r\n",
    "    color\n",
    "    agent\n",
    "    poses\n",
    "    sensor\n",
    "end\n",
    "\n",
    "IdealRobot(pose) = IdealRobot(pose, 0.2, \"black\", nothing, [pose], nothing)\n",
    "IdealRobot(pose, color) = IdealRobot(pose, 0.2, color, nothing, [], nothing)\n",
    "IdealRobot(pose, agent) = IdealRobot(pose, 0.2, \"black\", agent, [pose], nothing)\n",
    "IdealRobot(pose, agent, color) = IdealRobot(pose, 0.2, color, agent, [pose], nothing)\n",
    "IdealRobot(pose, agent, sensor, color) = IdealRobot(pose, 0.2, color, agent, [pose], sensor)\n",
    "\n",
    "function draw(self::IdealRobot, ax, elems)\n",
    "    x,y,theta = self.pose\n",
    "    xn = x + self.r * cos(theta)\n",
    "    yn = y + self.r * sin(theta)\n",
    "    elems = vcat(elems, ax.plot([x, xn], [y,yn], color = self.color))\n",
    "    c = patches.Circle(xy=(x,y), radius = self.r, fill = false, color = self.color)\n",
    "    elems = vcat(elems, [ax.add_patch(c)])\n",
    "    \n",
    "    push!(self.poses, self.pose)\n",
    "    elems = vcat(elems, ax.plot([e[1] for e in self.poses], [e[2] for e in self.poses], linewidth=0.5, color=\"black\"))\n",
    "    \n",
    "    if !isnothing(self.sensor) && length(self.poses) > 1\n",
    "        draw(self.sensor, ax, elems, self.poses[length(self.poses)-1])\n",
    "    end\n",
    "    \n",
    "    if !isnothing(self.agent) && applicable(draw, self.agent, ax, elems)\n",
    "        draw(self.agent, ax, elems)\n",
    "    end\n",
    "end\n",
    "\n",
    "function state_transition(self::IdealRobot, nu, omega, time)\n",
    "    t0 = self.pose[3]\n",
    "    if abs(omega) < 1e-10\n",
    "        return self.pose + [nu*cos(t0), nu*sin(t0), omega].*time\n",
    "    else\n",
    "        return self.pose + [nu/omega*(sin(t0+omega*time)-sin(t0)),\n",
    "                                  nu/omega*(-cos(t0+omega*time)+cos(t0)),\n",
    "                                 omega*time]\n",
    "    end\n",
    "end\n",
    "\n",
    "function one_step(self::IdealRobot, time_interval)\n",
    "    if isnothing(self.agent)\n",
    "        return\n",
    "    end\n",
    "    obs = nothing\n",
    "    if !isnothing(self.sensor)\n",
    "        obs = data(self.sensor, self.pose)\n",
    "    end\n",
    "    nu, omega = decision(self.agent, obs)\n",
    "    self.pose = state_transition(self, nu, omega, time_interval)\n",
    "end"
   ]
  },
  {
   "cell_type": "code",
   "execution_count": 6,
   "metadata": {},
   "outputs": [
    {
     "data": {
      "text/plain": [
       "draw (generic function with 3 methods)"
      ]
     },
     "execution_count": 6,
     "metadata": {},
     "output_type": "execute_result"
    }
   ],
   "source": [
    "mutable struct Landmark\n",
    "    pos\n",
    "    id\n",
    "end\n",
    "\n",
    "Landmark(pos) = Landmark(pos, nothing)\n",
    "\n",
    "function draw(self::Landmark, ax, elems)\n",
    "    c = ax.scatter(self.pos[1], self.pos[2], s=100, marker=\"*\", label=\"landmarks\", color=\"orange\")\n",
    "    elems = vcat(elems, c)\n",
    "    elems = vcat(elems, ax.text( self.pos[1], self.pos[2] , string(\"id:\", string(self.id)), fontsize=10))\n",
    "end"
   ]
  },
  {
   "cell_type": "code",
   "execution_count": 7,
   "metadata": {},
   "outputs": [
    {
     "data": {
      "text/plain": [
       "draw (generic function with 4 methods)"
      ]
     },
     "execution_count": 7,
     "metadata": {},
     "output_type": "execute_result"
    }
   ],
   "source": [
    "mutable struct Map\n",
    "    landmarks\n",
    "end\n",
    "\n",
    "Map() = Map([])\n",
    "\n",
    "function append_landmark(self::Map, landmark)\n",
    "    landmark.id = length(self.landmarks)\n",
    "    push!(self.landmarks, landmark)\n",
    "end\n",
    "\n",
    "function draw(self::Map, ax, elems)\n",
    "    for Im in self.landmarks\n",
    "        draw(Im, ax, elems)\n",
    "    end\n",
    "end"
   ]
  },
  {
   "cell_type": "code",
   "execution_count": 10,
   "metadata": {},
   "outputs": [
    {
     "data": {
      "text/plain": [
       "draw (generic function with 5 methods)"
      ]
     },
     "execution_count": 10,
     "metadata": {},
     "output_type": "execute_result"
    }
   ],
   "source": [
    "mutable struct IdealCamera\n",
    "    map::Map\n",
    "    lastdata\n",
    "    distance_range\n",
    "    direction_range\n",
    "end\n",
    "\n",
    "IdealCamera(map) = IdealCamera(map, [], (0.5, 6.0), (-pi/3, pi/3))\n",
    "\n",
    "function visible(self::IdealCamera, polarpos)\n",
    "    if isnothing(polarpos)\n",
    "        return false\n",
    "    end\n",
    "    return self.distance_range[1] <= polarpos[1] <= self.distance_range[2] &&\n",
    "        self.direction_range[1] <= polarpos[2] <= self.direction_range[2]\n",
    "        \n",
    "end\n",
    "\n",
    "function data(self::IdealCamera, cam_pose)\n",
    "    observed = []\n",
    "    for lm in self.map.landmarks\n",
    "        p = observation_function(self, cam_pose, lm.pos)\n",
    "        if visible(self, p)\n",
    "            push!(observed, (p, lm.id))\n",
    "        end\n",
    "    end\n",
    "    self.lastdata = observed\n",
    "    return observed\n",
    "end\n",
    "\n",
    "function observation_function(self::IdealCamera, cam_pose, obj_pos)\n",
    "    diff = obj_pos - cam_pose[1:2]\n",
    "    phi = atan(diff[2], diff[1]) - cam_pose[3]\n",
    "    while phi > pi\n",
    "        phi -= 2*pi\n",
    "    end\n",
    "    \n",
    "    while phi < -pi\n",
    "        phi += 2*pi\n",
    "    end\n",
    "    return [hypot(diff[1], diff[2]), phi]\n",
    "end\n",
    "\n",
    "function draw(self::IdealCamera, ax, elems, cam_pose)\n",
    "    for lm in self.lastdata\n",
    "        x,y,theta = cam_pose\n",
    "        distance, direction = lm[1][1], lm[1][2]\n",
    "        lx = x + distance*cos(direction + theta)\n",
    "        ly = y + distance*sin(direction + theta)\n",
    "        elems = vcat(elems, ax.plot([x, lx], [y,ly], color=\"pink\"))\n",
    "    end\n",
    "end"
   ]
  },
  {
   "cell_type": "code",
   "execution_count": null,
   "metadata": {},
   "outputs": [],
   "source": [
    "if abspath(PROGRAM_FILE) == @__FILE__\n",
    "    world = World(10, 1.0)\n",
    "    m = Map()\n",
    "    append_landmark(m, Landmark([2,-2]))\n",
    "    append_landmark(m, Landmark([-1,-3]))\n",
    "    append_landmark(m, Landmark([3,3]))\n",
    "    append(world, m)\n",
    "\n",
    "    straight = Agent(0.2, 0.0)\n",
    "    circling = Agent(0.2, 10.0/180*pi)\n",
    "    robot1 = IdealRobot([2, 3, pi/6], straight, IdealCamera(m),\"black\")\n",
    "    robot2 = IdealRobot([-2, -1, pi/5*6], circling, IdealCamera(m),\"red\")\n",
    "    append(world, robot1)\n",
    "    append(world, robot2)\n",
    "    draw(world)\n",
    "    showanim(\"test.mp4\")\n",
    "end"
   ]
  },
  {
   "cell_type": "code",
   "execution_count": null,
   "metadata": {},
   "outputs": [],
   "source": []
  }
 ],
 "metadata": {
  "kernelspec": {
   "display_name": "Julia 1.5.3",
   "language": "julia",
   "name": "julia-1.5"
  },
  "language_info": {
   "file_extension": ".jl",
   "mimetype": "application/julia",
   "name": "julia",
   "version": "1.5.3"
  }
 },
 "nbformat": 4,
 "nbformat_minor": 4
}
