{
 "cells": [
  {
   "cell_type": "code",
   "execution_count": 1,
   "metadata": {},
   "outputs": [],
   "source": [
    "using PyPlot\n",
    "using PyCall\n",
    "using Printf\n",
    "@pyimport matplotlib.animation as anim\n",
    "@pyimport matplotlib.patches as patches"
   ]
  },
  {
   "cell_type": "code",
   "execution_count": 2,
   "metadata": {},
   "outputs": [
    {
     "data": {
      "text/plain": [
       "showanim (generic function with 1 method)"
      ]
     },
     "execution_count": 2,
     "metadata": {},
     "output_type": "execute_result"
    }
   ],
   "source": [
    "using Base64\n",
    "function showanim(filename)\n",
    "    base64_video = base64encode(open(filename))\n",
    "    display(\"text/html\", \"\"\"<video controls src=\"data:video/x-m4v;base64,$base64_video\">\"\"\")\n",
    "end"
   ]
  },
  {
   "cell_type": "code",
   "execution_count": 3,
   "metadata": {},
   "outputs": [
    {
     "data": {
      "text/plain": [
       "one_step (generic function with 1 method)"
      ]
     },
     "execution_count": 3,
     "metadata": {},
     "output_type": "execute_result"
    }
   ],
   "source": [
    "mutable struct World\n",
    "    objects\n",
    "    debug\n",
    "    time_span\n",
    "    time_interval\n",
    "    ani\n",
    "end\n",
    "\n",
    "World() = World([], false, 10, 1, nothing)\n",
    "World(debug) = World([], debug, 10, 1, nothing)\n",
    "World(time_span, time_interval) = World([], false, time_span, time_interval, nothing)\n",
    "\n",
    "function append(self::World, obj)\n",
    "    push!(self.objects, obj)\n",
    "end\n",
    "\n",
    "function init_draw(self::World, ax)\n",
    "    ax.set_aspect(\"equal\")\n",
    "    ax.set_xlim(-5,5)\n",
    "    ax.set_ylim(-5,5)\n",
    "    ax.set_xlabel(\"X\", fontsize=20)\n",
    "    ax.set_ylabel(\"Y\", fontsize=20)\n",
    "end\n",
    "\n",
    "function draw(self::World)\n",
    "    fig, ax = subplots()\n",
    "    init_draw(self, ax)    \n",
    "    elems = []\n",
    "\n",
    "    if self.debug\n",
    "        for i = 1:1000\n",
    "            one_step(self, i, elems, ax)\n",
    "        end\n",
    "    else\n",
    "        self.ani = anim.FuncAnimation(fig, one_step, fargs=(self, elems, ax), \n",
    "            frames = Int(self.time_span/self.time_interval)+1, interval = Int(self.time_interval*1000))\n",
    "        self.ani[:save](\"test.mp4\", bitrate=-1, extra_args=[\"-vcodec\", \"libx264\", \"-pix_fmt\", \"yuv420p\"])\n",
    "    end \n",
    "    \n",
    "end\n",
    "\n",
    "function one_step(i,self::World,elems, ax)\n",
    "    plt.cla()\n",
    "    init_draw(self, ax)\n",
    "    while length(elems) > 0\n",
    "        pop!(elems)\n",
    "    end\n",
    "    vcat(elems, ax.text(-4.4, 4.5, string(\"t = \", @sprintf(\"%.2f[s]\", self.time_interval * i) ), fontsize=10))\n",
    "    for obj in self.objects\n",
    "        draw(obj, ax, elems)\n",
    "        one_step(obj, 1.0)\n",
    "    end\n",
    "end"
   ]
  },
  {
   "cell_type": "code",
   "execution_count": 4,
   "metadata": {},
   "outputs": [
    {
     "data": {
      "text/plain": [
       "decision (generic function with 2 methods)"
      ]
     },
     "execution_count": 4,
     "metadata": {},
     "output_type": "execute_result"
    }
   ],
   "source": [
    "mutable struct Agent\n",
    "    nu\n",
    "    omega\n",
    "end\n",
    "function decision(self::Agent, observation=nothing)\n",
    "    return self.nu, self.omega\n",
    "end"
   ]
  },
  {
   "cell_type": "code",
   "execution_count": 5,
   "metadata": {},
   "outputs": [
    {
     "data": {
      "text/plain": [
       "one_step (generic function with 2 methods)"
      ]
     },
     "execution_count": 5,
     "metadata": {},
     "output_type": "execute_result"
    }
   ],
   "source": [
    "mutable struct IdealRobot\n",
    "    pose\n",
    "    r\n",
    "    color\n",
    "    agent\n",
    "    poses\n",
    "end\n",
    "\n",
    "IdealRobot(pose) = IdealRobot(pose, 0.2, \"black\", nothing, [pose])\n",
    "IdealRobot(pose, color) = IdealRobot(pose, 0.2, color, nothing, [])\n",
    "IdealRobot(pose, agent) = IdealRobot(pose, 0.2, \"black\", agent, [pose])\n",
    "IdealRobot(pose, agent, color) = IdealRobot(pose, 0.2, color, agent, [pose])\n",
    "\n",
    "function draw(self::IdealRobot, ax, elems)\n",
    "    x,y,theta = self.pose\n",
    "    xn = x + self.r * cos(theta)\n",
    "    yn = y + self.r * sin(theta)\n",
    "    elems = vcat(elems, ax.plot([x, xn], [y,yn], color = self.color))\n",
    "    c = patches.Circle(xy=(x,y), radius = self.r, fill = false, color = self.color)\n",
    "    elems = vcat(elems, [ax.add_patch(c)])\n",
    "    \n",
    "    push!(self.poses, self.pose)\n",
    "    elems = vcat(elems, ax.plot([e[1] for e in self.poses], [e[2] for e in self.poses], linewidth=0.5, color=\"black\"))\n",
    "end\n",
    "\n",
    "function state_transition(self::IdealRobot, nu, omega, time)\n",
    "    t0 = self.pose[3]\n",
    "    if abs(omega) < 1e-10\n",
    "        return self.pose + [nu*cos(t0), nu*sin(t0), omega].*time\n",
    "    else\n",
    "        return self.pose + [nu/omega*(sin(t0+omega*time)-sin(t0)),\n",
    "                                  nu/omega*(-cos(t0+omega*time)+cos(t0)),\n",
    "                                 omega*time]\n",
    "    end\n",
    "end\n",
    "\n",
    "function one_step(self::IdealRobot, time_interval)\n",
    "    if isnothing(self.agent)\n",
    "        return\n",
    "    end\n",
    "    nu, omega = decision(self.agent)\n",
    "    self.pose = state_transition(self, nu, omega, time_interval)\n",
    "end"
   ]
  },
  {
   "cell_type": "code",
   "execution_count": 6,
   "metadata": {},
   "outputs": [
    {
     "data": {
      "image/png": "[encoded data removed]",
      "text/plain": [
       "Figure(PyObject <Figure size 640x480 with 1 Axes>)"
      ]
     },
     "metadata": {},
     "output_type": "display_data"
    }
   ],
   "source": [
    "world = World(10, 0.5)\n",
    "straight = Agent(0.2, 0.0)\n",
    "circling = Agent(0.2, 10.0/180*pi)\n",
    "robot1 = IdealRobot([2, 3, pi/6], straight)\n",
    "robot2 = IdealRobot([-2, -1, pi/5*6], circling, \"red\")\n",
    "robot3 = IdealRobot([0,0,0], nothing, \"blue\")\n",
    "append(world, robot1)\n",
    "append(world, robot2)\n",
    "append(world, robot3)\n",
    "draw(world)"
   ]
  },
  {
   "cell_type": "code",
   "execution_count": 26,
   "metadata": {},
   "outputs": [
    {
     "data": {
      "text/html": [
       "<video controls src=\"data:video/x-m4v;base64,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\">"
      ]
     },
     "metadata": {},
     "output_type": "display_data"
    }
   ],
   "source": [
    "showanim(\"test.mp4\")"
   ]
  },
  {
   "cell_type": "code",
   "execution_count": null,
   "metadata": {},
   "outputs": [],
   "source": []
  }
 ],
 "metadata": {
  "kernelspec": {
   "display_name": "Julia 1.5.3",
   "language": "julia",
   "name": "julia-1.5"
  },
  "language_info": {
   "file_extension": ".jl",
   "mimetype": "application/julia",
   "name": "julia",
   "version": "1.5.3"
  }
 },
 "nbformat": 4,
 "nbformat_minor": 4
}
