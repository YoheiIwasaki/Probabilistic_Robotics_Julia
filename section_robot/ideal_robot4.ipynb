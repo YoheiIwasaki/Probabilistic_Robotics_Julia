{
 "cells": [
  {
   "cell_type": "code",
   "execution_count": 1,
   "metadata": {},
   "outputs": [],
   "source": [
    "using PyPlot\n",
    "using PyCall\n",
    "@pyimport matplotlib.animation as anim\n",
    "@pyimport matplotlib.patches as patches"
   ]
  },
  {
   "cell_type": "code",
   "execution_count": 2,
   "metadata": {},
   "outputs": [
    {
     "data": {
      "text/plain": [
       "showanim (generic function with 1 method)"
      ]
     },
     "execution_count": 2,
     "metadata": {},
     "output_type": "execute_result"
    }
   ],
   "source": [
    "using Base64\n",
    "function showanim(filename)\n",
    "    base64_video = base64encode(open(filename))\n",
    "    display(\"text/html\", \"\"\"<video controls src=\"data:video/x-m4v;base64,$base64_video\">\"\"\")\n",
    "end"
   ]
  },
  {
   "cell_type": "code",
   "execution_count": 3,
   "metadata": {},
   "outputs": [
    {
     "data": {
      "text/plain": [
       "one_step (generic function with 1 method)"
      ]
     },
     "execution_count": 3,
     "metadata": {},
     "output_type": "execute_result"
    }
   ],
   "source": [
    "mutable struct World\n",
    "    objects\n",
    "    debug\n",
    "    ani\n",
    "end\n",
    "\n",
    "World() = World([], false, nothing)\n",
    "World(debug) = World([], debug, nothing)\n",
    "\n",
    "function append(self::World, obj)\n",
    "    push!(self.objects, obj)\n",
    "end\n",
    "\n",
    "function init_draw(self::World, ax)\n",
    "    ax.set_aspect(\"equal\")\n",
    "    ax.set_xlim(-5,5)\n",
    "    ax.set_ylim(-5,5)\n",
    "    ax.set_xlabel(\"X\", fontsize=20)\n",
    "    ax.set_ylabel(\"Y\", fontsize=20)\n",
    "end\n",
    "\n",
    "function draw(self::World)\n",
    "    fig, ax = subplots()\n",
    "    init_draw(self, ax)    \n",
    "    elems = []\n",
    "\n",
    "    if self.debug\n",
    "        for i = 1:1000\n",
    "            one_step(self, i, elems, ax)\n",
    "        end\n",
    "    else\n",
    "        self.ani = anim.FuncAnimation(fig, one_step, fargs=(self, elems, ax), frames=10, interval=1000)\n",
    "        self.ani[:save](\"test.mp4\", bitrate=-1, extra_args=[\"-vcodec\", \"libx264\", \"-pix_fmt\", \"yuv420p\"])\n",
    "    end \n",
    "    \n",
    "end\n",
    "\n",
    "function one_step(i,self::World,elems, ax)\n",
    "    plt.cla()\n",
    "    init_draw(self, ax)\n",
    "    while length(elems) > 0\n",
    "        pop!(elems)\n",
    "    end\n",
    "    vcat(elems, ax.text(-4.4, 4.5, \"t = $i\", fontsize=10))\n",
    "    for obj in self.objects\n",
    "        draw(obj, ax, elems)\n",
    "    end\n",
    "end"
   ]
  },
  {
   "cell_type": "code",
   "execution_count": 4,
   "metadata": {},
   "outputs": [
    {
     "data": {
      "text/plain": [
       "draw (generic function with 2 methods)"
      ]
     },
     "execution_count": 4,
     "metadata": {},
     "output_type": "execute_result"
    }
   ],
   "source": [
    "mutable struct IdealRobot\n",
    "    pose\n",
    "    r\n",
    "    color\n",
    "end\n",
    "\n",
    "IdealRobot(pose) = IdealRobot(pose, 0.2, \"black\")\n",
    "IdealRobot(pose, color) = IdealRobot(pose, 0.2, color)\n",
    "\n",
    "function draw(self::IdealRobot, ax, elems)\n",
    "    x,y,theta = self.pose\n",
    "    xn = x + self.r * cos(theta)\n",
    "    yn = y + self.r * sin(theta)\n",
    "    elems = vcat(elems, ax.plot([x, xn], [y,yn], color = self.color))\n",
    "    c = patches.Circle(xy=(x,y), radius = self.r, fill = false, color = self.color)\n",
    "    elems = vcat(elems, [ax.add_patch(c)])\n",
    "end"
   ]
  },
  {
   "cell_type": "code",
   "execution_count": 5,
   "metadata": {},
   "outputs": [
    {
     "data": {
      "image/png": "[encoded data removed]",
      "text/plain": [
       "Figure(PyObject <Figure size 640x480 with 1 Axes>)"
      ]
     },
     "metadata": {},
     "output_type": "display_data"
    }
   ],
   "source": [
    "world = World(false)\n",
    "robot1 = IdealRobot([2, 3, pi/6])\n",
    "robot2 = IdealRobot([-2, -1, pi/5 * 6], \"red\")\n",
    "append(world, robot1)\n",
    "append(world, robot2)\n",
    "draw(world)"
   ]
  },
  {
   "cell_type": "code",
   "execution_count": 6,
   "metadata": {
    "scrolled": false
   },
   "outputs": [
    {
     "data": {
      "text/html": [
       "<video controls src=\"data:video/x-m4v;base64,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\">"
      ]
     },
     "metadata": {},
     "output_type": "display_data"
    }
   ],
   "source": [
    "showanim(\"test.mp4\")"
   ]
  },
  {
   "cell_type": "code",
   "execution_count": null,
   "metadata": {},
   "outputs": [],
   "source": []
  }
 ],
 "metadata": {
  "kernelspec": {
   "display_name": "Julia 1.5.3",
   "language": "julia",
   "name": "julia-1.5"
  },
  "language_info": {
   "file_extension": ".jl",
   "mimetype": "application/julia",
   "name": "julia",
   "version": "1.5.3"
  }
 },
 "nbformat": 4,
 "nbformat_minor": 4
}
