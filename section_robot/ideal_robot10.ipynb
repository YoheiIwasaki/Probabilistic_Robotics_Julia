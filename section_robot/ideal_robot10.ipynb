{
 "cells": [
  {
   "cell_type": "code",
   "execution_count": 1,
   "metadata": {},
   "outputs": [],
   "source": [
    "using PyPlot\n",
    "using PyCall\n",
    "using Printf\n",
    "@pyimport matplotlib.animation as anim\n",
    "@pyimport matplotlib.patches as patches"
   ]
  },
  {
   "cell_type": "code",
   "execution_count": 2,
   "metadata": {},
   "outputs": [
    {
     "data": {
      "text/plain": [
       "showanim (generic function with 1 method)"
      ]
     },
     "execution_count": 2,
     "metadata": {},
     "output_type": "execute_result"
    }
   ],
   "source": [
    "using Base64\n",
    "function showanim(filename)\n",
    "    base64_video = base64encode(open(filename))\n",
    "    display(\"text/html\", \"\"\"<video controls src=\"data:video/x-m4v;base64,$base64_video\">\"\"\")\n",
    "end"
   ]
  },
  {
   "cell_type": "code",
   "execution_count": 3,
   "metadata": {},
   "outputs": [
    {
     "data": {
      "text/plain": [
       "one_step (generic function with 1 method)"
      ]
     },
     "execution_count": 3,
     "metadata": {},
     "output_type": "execute_result"
    }
   ],
   "source": [
    "mutable struct World\n",
    "    objects\n",
    "    debug\n",
    "    time_span\n",
    "    time_interval\n",
    "    ani\n",
    "end\n",
    "\n",
    "World() = World([], false, 10, 1, nothing)\n",
    "World(debug) = World([], debug, 10, 1, nothing)\n",
    "World(time_span, time_interval) = World([], false, time_span, time_interval, nothing)\n",
    "\n",
    "function append(self::World, obj)\n",
    "    push!(self.objects, obj)\n",
    "end\n",
    "\n",
    "function init_draw(self::World, ax)\n",
    "    ax.set_aspect(\"equal\")\n",
    "    ax.set_xlim(-5,5)\n",
    "    ax.set_ylim(-5,5)\n",
    "    ax.set_xlabel(\"X\", fontsize=20)\n",
    "    ax.set_ylabel(\"Y\", fontsize=20)\n",
    "end\n",
    "\n",
    "function draw(self::World)\n",
    "    fig, ax = subplots()\n",
    "    init_draw(self, ax)    \n",
    "    elems = []\n",
    "\n",
    "    if self.debug\n",
    "        for i = 1:1000\n",
    "            one_step(self, i, elems, ax)\n",
    "        end\n",
    "    else\n",
    "        self.ani = anim.FuncAnimation(fig, one_step, fargs=(self, elems, ax), \n",
    "            frames = Int(self.time_span/self.time_interval)+1, interval = Int(self.time_interval*1000))\n",
    "        self.ani[:save](\"test.mp4\", bitrate=-1, extra_args=[\"-vcodec\", \"libx264\", \"-pix_fmt\", \"yuv420p\"])\n",
    "    end \n",
    "    \n",
    "end\n",
    "\n",
    "function one_step(i,self::World, elems, ax)\n",
    "    plt.cla()\n",
    "    init_draw(self, ax)\n",
    "    while length(elems) > 0\n",
    "        pop!(elems)\n",
    "    end\n",
    "    vcat(elems, ax.text(-4.4, 4.5, string(\"t = \", @sprintf(\"%.2f[s]\", self.time_interval * i) ), fontsize=10))\n",
    "    for obj in self.objects\n",
    "        draw(obj, ax, elems)\n",
    "        if applicable(one_step, obj, 1.0)\n",
    "            one_step(obj, 1.0)\n",
    "        end\n",
    "    end\n",
    "end"
   ]
  },
  {
   "cell_type": "code",
   "execution_count": 4,
   "metadata": {},
   "outputs": [
    {
     "data": {
      "text/plain": [
       "decision (generic function with 2 methods)"
      ]
     },
     "execution_count": 4,
     "metadata": {},
     "output_type": "execute_result"
    }
   ],
   "source": [
    "mutable struct Agent\n",
    "    nu\n",
    "    omega\n",
    "end\n",
    "function decision(self::Agent, observation=nothing)\n",
    "    return self.nu, self.omega\n",
    "end"
   ]
  },
  {
   "cell_type": "code",
   "execution_count": 5,
   "metadata": {},
   "outputs": [
    {
     "data": {
      "text/plain": [
       "one_step (generic function with 2 methods)"
      ]
     },
     "execution_count": 5,
     "metadata": {},
     "output_type": "execute_result"
    }
   ],
   "source": [
    "mutable struct IdealRobot\n",
    "    pose\n",
    "    r\n",
    "    color\n",
    "    agent\n",
    "    poses\n",
    "    sensor\n",
    "end\n",
    "\n",
    "IdealRobot(pose) = IdealRobot(pose, 0.2, \"black\", nothing, [pose], nothing)\n",
    "IdealRobot(pose, color) = IdealRobot(pose, 0.2, color, nothing, [], nothing)\n",
    "IdealRobot(pose, agent) = IdealRobot(pose, 0.2, \"black\", agent, [pose], nothing)\n",
    "IdealRobot(pose, agent, color) = IdealRobot(pose, 0.2, color, agent, [pose], nothing)\n",
    "IdealRobot(pose, agent, sensor, color) = IdealRobot(pose, 0.2, color, agent, [pose], sensor)\n",
    "\n",
    "function draw(self::IdealRobot, ax, elems)\n",
    "    x,y,theta = self.pose\n",
    "    xn = x + self.r * cos(theta)\n",
    "    yn = y + self.r * sin(theta)\n",
    "    elems = vcat(elems, ax.plot([x, xn], [y,yn], color = self.color))\n",
    "    c = patches.Circle(xy=(x,y), radius = self.r, fill = false, color = self.color)\n",
    "    elems = vcat(elems, [ax.add_patch(c)])\n",
    "    \n",
    "    push!(self.poses, self.pose)\n",
    "    elems = vcat(elems, ax.plot([e[1] for e in self.poses], [e[2] for e in self.poses], linewidth=0.5, color=\"black\"))\n",
    "    \n",
    "    if !isnothing(self.sensor) && length(self.poses) > 1\n",
    "        draw(self.sensor, ax, elems, self.poses[length(self.poses)-1])\n",
    "    end\n",
    "end\n",
    "\n",
    "function state_transition(self::IdealRobot, nu, omega, time)\n",
    "    t0 = self.pose[3]\n",
    "    if abs(omega) < 1e-10\n",
    "        return self.pose + [nu*cos(t0), nu*sin(t0), omega].*time\n",
    "    else\n",
    "        return self.pose + [nu/omega*(sin(t0+omega*time)-sin(t0)),\n",
    "                                  nu/omega*(-cos(t0+omega*time)+cos(t0)),\n",
    "                                 omega*time]\n",
    "    end\n",
    "end\n",
    "\n",
    "function one_step(self::IdealRobot, time_interval)\n",
    "    if isnothing(self.agent)\n",
    "        return\n",
    "    end\n",
    "    obs = nothing\n",
    "    if !isnothing(self.sensor)\n",
    "        obs = data(self.sensor, self.pose)\n",
    "    end\n",
    "    nu, omega = decision(self.agent, obs)\n",
    "    self.pose = state_transition(self, nu, omega, time_interval)\n",
    "end"
   ]
  },
  {
   "cell_type": "code",
   "execution_count": 6,
   "metadata": {},
   "outputs": [
    {
     "data": {
      "text/plain": [
       "draw (generic function with 3 methods)"
      ]
     },
     "execution_count": 6,
     "metadata": {},
     "output_type": "execute_result"
    }
   ],
   "source": [
    "mutable struct Landmark\n",
    "    pos\n",
    "    id\n",
    "end\n",
    "\n",
    "Landmark(pos) = Landmark(pos, nothing)\n",
    "\n",
    "function draw(self::Landmark, ax, elems)\n",
    "    c = ax.scatter(self.pos[1], self.pos[2], s=100, marker=\"*\", label=\"landmarks\", color=\"orange\")\n",
    "    elems = vcat(elems, c)\n",
    "    elems = vcat(elems, ax.text( self.pos[1], self.pos[2] , string(\"id:\", string(self.id)), fontsize=10))\n",
    "end"
   ]
  },
  {
   "cell_type": "code",
   "execution_count": 7,
   "metadata": {},
   "outputs": [
    {
     "data": {
      "text/plain": [
       "draw (generic function with 4 methods)"
      ]
     },
     "execution_count": 7,
     "metadata": {},
     "output_type": "execute_result"
    }
   ],
   "source": [
    "mutable struct Map\n",
    "    landmarks\n",
    "end\n",
    "\n",
    "Map() = Map([])\n",
    "\n",
    "function append_landmark(self::Map, landmark)\n",
    "    landmark.id = length(self.landmarks)\n",
    "    push!(self.landmarks, landmark)\n",
    "end\n",
    "\n",
    "function draw(self::Map, ax, elems)\n",
    "    for Im in self.landmarks\n",
    "        draw(Im, ax, elems)\n",
    "    end\n",
    "end"
   ]
  },
  {
   "cell_type": "code",
   "execution_count": 10,
   "metadata": {},
   "outputs": [
    {
     "data": {
      "text/plain": [
       "draw (generic function with 5 methods)"
      ]
     },
     "execution_count": 10,
     "metadata": {},
     "output_type": "execute_result"
    }
   ],
   "source": [
    "mutable struct IdealCamera\n",
    "    map::Map\n",
    "    lastdata\n",
    "    distance_range\n",
    "    direction_range\n",
    "end\n",
    "\n",
    "IdealCamera(map) = IdealCamera(map, [], (0.5, 6.0), (-pi/3, pi/3))\n",
    "\n",
    "function visible(self::IdealCamera, polarpos)\n",
    "    if isnothing(polarpos)\n",
    "        return false\n",
    "    end\n",
    "    return self.distance_range[1] <= polarpos[1] <= self.distance_range[2] &&\n",
    "        self.direction_range[1] <= polarpos[2] <= self.direction_range[2]\n",
    "        \n",
    "end\n",
    "\n",
    "function data(self::IdealCamera, cam_pose)\n",
    "    observed = []\n",
    "    for lm in self.map.landmarks\n",
    "        p = observation_function(self, cam_pose, lm.pos)\n",
    "        if visible(self, p)\n",
    "            push!(observed, (p, lm.id))\n",
    "        end\n",
    "    end\n",
    "    self.lastdata = observed\n",
    "    return observed\n",
    "end\n",
    "\n",
    "function observation_function(self::IdealCamera, cam_pose, obj_pos)\n",
    "    diff = obj_pos - cam_pose[1:2]\n",
    "    phi = atan(diff[2], diff[1]) - cam_pose[3]\n",
    "    while phi > pi\n",
    "        phi -= 2*pi\n",
    "    end\n",
    "    \n",
    "    while phi < -pi\n",
    "        phi += 2*pi\n",
    "    end\n",
    "    return [hypot(diff[1], diff[2]), phi]\n",
    "end\n",
    "\n",
    "function draw(self::IdealCamera, ax, elems, cam_pose)\n",
    "    for lm in self.lastdata\n",
    "        x,y,theta = cam_pose\n",
    "        distance, direction = lm[1][1], lm[1][2]\n",
    "        lx = x + distance*cos(direction + theta)\n",
    "        ly = y + distance*sin(direction + theta)\n",
    "        elems = vcat(elems, ax.plot([x, lx], [y,ly], color=\"pink\"))\n",
    "    end\n",
    "end"
   ]
  },
  {
   "cell_type": "code",
   "execution_count": 11,
   "metadata": {},
   "outputs": [
    {
     "data": {
      "image/png": "[encoded data removed]",
      "text/plain": [
       "Figure(PyObject <Figure size 640x480 with 1 Axes>)"
      ]
     },
     "metadata": {},
     "output_type": "display_data"
    }
   ],
   "source": [
    "world = World(10, 1.0)\n",
    "m = Map()\n",
    "append_landmark(m, Landmark([2,-2]))\n",
    "append_landmark(m, Landmark([-1,-3]))\n",
    "append_landmark(m, Landmark([3,3]))\n",
    "append(world, m)\n",
    "\n",
    "straight = Agent(0.2, 0.0)\n",
    "circling = Agent(0.2, 10.0/180*pi)\n",
    "robot1 = IdealRobot([2, 3, pi/6], straight, IdealCamera(m),\"black\")\n",
    "robot2 = IdealRobot([-2, -1, pi/5*6], circling, IdealCamera(m),\"red\")\n",
    "append(world, robot1)\n",
    "append(world, robot2)\n",
    "draw(world)"
   ]
  },
  {
   "cell_type": "code",
   "execution_count": 12,
   "metadata": {
    "scrolled": false
   },
   "outputs": [
    {
     "data": {
      "text/html": [
       "<video controls src=\"data:video/x-m4v;base64,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\">"
      ]
     },
     "metadata": {},
     "output_type": "display_data"
    }
   ],
   "source": [
    "showanim(\"test.mp4\")"
   ]
  },
  {
   "cell_type": "code",
   "execution_count": null,
   "metadata": {},
   "outputs": [],
   "source": []
  }
 ],
 "metadata": {
  "kernelspec": {
   "display_name": "Julia 1.5.3",
   "language": "julia",
   "name": "julia-1.5"
  },
  "language_info": {
   "file_extension": ".jl",
   "mimetype": "application/julia",
   "name": "julia",
   "version": "1.5.3"
  }
 },
 "nbformat": 4,
 "nbformat_minor": 4
}
