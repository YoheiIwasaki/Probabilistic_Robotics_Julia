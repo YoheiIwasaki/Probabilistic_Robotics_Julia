{
 "cells": [
  {
   "cell_type": "code",
   "execution_count": 1,
   "metadata": {},
   "outputs": [],
   "source": [
    "using PyPlot\n",
    "using PyCall\n",
    "using Printf\n",
    "@pyimport matplotlib.animation as anim\n",
    "@pyimport matplotlib.patches as patches"
   ]
  },
  {
   "cell_type": "code",
   "execution_count": 2,
   "metadata": {},
   "outputs": [
    {
     "data": {
      "text/plain": [
       "showanim (generic function with 1 method)"
      ]
     },
     "execution_count": 2,
     "metadata": {},
     "output_type": "execute_result"
    }
   ],
   "source": [
    "using Base64\n",
    "function showanim(filename)\n",
    "    base64_video = base64encode(open(filename))\n",
    "    display(\"text/html\", \"\"\"<video controls src=\"data:video/x-m4v;base64,$base64_video\">\"\"\")\n",
    "end"
   ]
  },
  {
   "cell_type": "code",
   "execution_count": 34,
   "metadata": {},
   "outputs": [
    {
     "data": {
      "text/plain": [
       "one_step (generic function with 2 methods)"
      ]
     },
     "execution_count": 34,
     "metadata": {},
     "output_type": "execute_result"
    }
   ],
   "source": [
    "mutable struct World\n",
    "    objects\n",
    "    debug\n",
    "    time_span\n",
    "    time_interval\n",
    "    ani\n",
    "end\n",
    "\n",
    "World() = World([], false, 10, 1, nothing)\n",
    "World(debug) = World([], debug, 10, 1, nothing)\n",
    "World(time_span, time_interval) = World([], false, time_span, time_interval, nothing)\n",
    "\n",
    "function append(self::World, obj)\n",
    "    push!(self.objects, obj)\n",
    "end\n",
    "\n",
    "function init_draw(self::World, ax)\n",
    "    ax.set_aspect(\"equal\")\n",
    "    ax.set_xlim(-5,5)\n",
    "    ax.set_ylim(-5,5)\n",
    "    ax.set_xlabel(\"X\", fontsize=20)\n",
    "    ax.set_ylabel(\"Y\", fontsize=20)\n",
    "end\n",
    "\n",
    "function draw(self::World)\n",
    "    fig, ax = subplots()\n",
    "    init_draw(self, ax)    \n",
    "    elems = []\n",
    "\n",
    "    if self.debug\n",
    "        for i = 1:1000\n",
    "            one_step(self, i, elems, ax)\n",
    "        end\n",
    "    else\n",
    "        self.ani = anim.FuncAnimation(fig, one_step, fargs=(self, elems, ax), \n",
    "            frames = Int(self.time_span/self.time_interval)+1, interval = Int(self.time_interval*1000))\n",
    "        self.ani[:save](\"test.mp4\", bitrate=-1, extra_args=[\"-vcodec\", \"libx264\", \"-pix_fmt\", \"yuv420p\"])\n",
    "    end \n",
    "    \n",
    "end\n",
    "\n",
    "function one_step(i,self::World, elems, ax)\n",
    "    plt.cla()\n",
    "    init_draw(self, ax)\n",
    "    while length(elems) > 0\n",
    "        pop!(elems)\n",
    "    end\n",
    "    vcat(elems, ax.text(-4.4, 4.5, string(\"t = \", @sprintf(\"%.2f[s]\", self.time_interval * i) ), fontsize=10))\n",
    "    for obj in self.objects\n",
    "        draw(obj, ax, elems)\n",
    "        if applicable(one_step, obj, 1.0)\n",
    "            one_step(obj, 1.0)\n",
    "        end\n",
    "    end\n",
    "end"
   ]
  },
  {
   "cell_type": "code",
   "execution_count": 35,
   "metadata": {},
   "outputs": [
    {
     "data": {
      "text/plain": [
       "decision (generic function with 2 methods)"
      ]
     },
     "execution_count": 35,
     "metadata": {},
     "output_type": "execute_result"
    }
   ],
   "source": [
    "mutable struct Agent\n",
    "    nu\n",
    "    omega\n",
    "end\n",
    "function decision(self::Agent, observation=nothing)\n",
    "    return self.nu, self.omega\n",
    "end"
   ]
  },
  {
   "cell_type": "code",
   "execution_count": 36,
   "metadata": {},
   "outputs": [
    {
     "data": {
      "text/plain": [
       "one_step (generic function with 2 methods)"
      ]
     },
     "execution_count": 36,
     "metadata": {},
     "output_type": "execute_result"
    }
   ],
   "source": [
    "mutable struct IdealRobot\n",
    "    pose\n",
    "    r\n",
    "    color\n",
    "    agent\n",
    "    poses\n",
    "end\n",
    "\n",
    "IdealRobot(pose) = IdealRobot(pose, 0.2, \"black\", nothing, [pose])\n",
    "IdealRobot(pose, color) = IdealRobot(pose, 0.2, color, nothing, [])\n",
    "IdealRobot(pose, agent) = IdealRobot(pose, 0.2, \"black\", agent, [pose])\n",
    "IdealRobot(pose, agent, color) = IdealRobot(pose, 0.2, color, agent, [pose])\n",
    "\n",
    "function draw(self::IdealRobot, ax, elems)\n",
    "    x,y,theta = self.pose\n",
    "    xn = x + self.r * cos(theta)\n",
    "    yn = y + self.r * sin(theta)\n",
    "    elems = vcat(elems, ax.plot([x, xn], [y,yn], color = self.color))\n",
    "    c = patches.Circle(xy=(x,y), radius = self.r, fill = false, color = self.color)\n",
    "    elems = vcat(elems, [ax.add_patch(c)])\n",
    "    \n",
    "    push!(self.poses, self.pose)\n",
    "    elems = vcat(elems, ax.plot([e[1] for e in self.poses], [e[2] for e in self.poses], linewidth=0.5, color=\"black\"))\n",
    "end\n",
    "\n",
    "function state_transition(self::IdealRobot, nu, omega, time)\n",
    "    t0 = self.pose[3]\n",
    "    if abs(omega) < 1e-10\n",
    "        return self.pose + [nu*cos(t0), nu*sin(t0), omega].*time\n",
    "    else\n",
    "        return self.pose + [nu/omega*(sin(t0+omega*time)-sin(t0)),\n",
    "                                  nu/omega*(-cos(t0+omega*time)+cos(t0)),\n",
    "                                 omega*time]\n",
    "    end\n",
    "end\n",
    "\n",
    "function one_step(self::IdealRobot, time_interval)\n",
    "    if isnothing(self.agent)\n",
    "        return\n",
    "    end\n",
    "    nu, omega = decision(self.agent)\n",
    "    self.pose = state_transition(self, nu, omega, time_interval)\n",
    "end"
   ]
  },
  {
   "cell_type": "code",
   "execution_count": 37,
   "metadata": {},
   "outputs": [
    {
     "data": {
      "text/plain": [
       "draw (generic function with 4 methods)"
      ]
     },
     "execution_count": 37,
     "metadata": {},
     "output_type": "execute_result"
    }
   ],
   "source": [
    "mutable struct Landmark\n",
    "    pos\n",
    "    id\n",
    "end\n",
    "\n",
    "Landmark(pos) = Landmark(pos, nothing)\n",
    "\n",
    "function draw(self::Landmark, ax, elems)\n",
    "    c = ax.scatter(self.pos[1], self.pos[2], s=100, marker=\"*\", label=\"landmarks\", color=\"orange\")\n",
    "    elems = vcat(elems, c)\n",
    "    elems = vcat(elems, ax.text( self.pos[1], self.pos[2] , string(\"id:\", string(self.id)), fontsize=10))\n",
    "end"
   ]
  },
  {
   "cell_type": "code",
   "execution_count": 38,
   "metadata": {},
   "outputs": [
    {
     "data": {
      "text/plain": [
       "draw (generic function with 4 methods)"
      ]
     },
     "execution_count": 38,
     "metadata": {},
     "output_type": "execute_result"
    }
   ],
   "source": [
    "mutable struct Map\n",
    "    landmarks\n",
    "end\n",
    "\n",
    "Map() = Map([])\n",
    "\n",
    "function append_landmark(self::Map, landmark)\n",
    "    landmark.id = length(self.landmarks)\n",
    "    push!(self.landmarks, landmark)\n",
    "end\n",
    "\n",
    "function draw(self::Map, ax, elems)\n",
    "    for Im in self.landmarks\n",
    "        draw(Im, ax, elems)\n",
    "    end\n",
    "end"
   ]
  },
  {
   "cell_type": "code",
   "execution_count": 53,
   "metadata": {},
   "outputs": [
    {
     "data": {
      "text/plain": [
       "observation_function (generic function with 1 method)"
      ]
     },
     "execution_count": 53,
     "metadata": {},
     "output_type": "execute_result"
    }
   ],
   "source": [
    "mutable struct IdealCamera\n",
    "    map::Map\n",
    "end\n",
    "\n",
    "function data(self::IdealCamera, cam_pose)\n",
    "    observed = []\n",
    "    for lm in self.map.landmarks\n",
    "        p = observation_function(self, cam_pose, lm.pos)\n",
    "        push!(observed, (p, lm.id))\n",
    "    end\n",
    "    return observed\n",
    "end\n",
    "\n",
    "function observation_function(self::IdealCamera, cam_pose, obj_pos)\n",
    "    diff = obj_pos - cam_pose[1:2]\n",
    "    phi = atan(diff[2], diff[1]) - cam_pose[3]\n",
    "    while phi > pi\n",
    "        phi -= 2*pi\n",
    "    end\n",
    "    \n",
    "    while phi < -pi\n",
    "        phi += 2*pi\n",
    "    end\n",
    "    return [hypot(diff[1], diff[2]), phi]\n",
    "end"
   ]
  },
  {
   "cell_type": "code",
   "execution_count": 54,
   "metadata": {},
   "outputs": [
    {
     "data": {
      "image/png": "[encoded data removed]",
      "text/plain": [
       "Figure(PyObject <Figure size 640x480 with 1 Axes>)"
      ]
     },
     "metadata": {},
     "output_type": "display_data"
    }
   ],
   "source": [
    "world = World(10, 1.0)\n",
    "m = Map()\n",
    "append_landmark(m, Landmark([2,-2]))\n",
    "append_landmark(m, Landmark([-1,-3]))\n",
    "append_landmark(m, Landmark([3,3]))\n",
    "append(world, m)\n",
    "\n",
    "straight = Agent(0.2, 0.0)\n",
    "circling = Agent(0.2, 10.0/180*pi)\n",
    "robot1 = IdealRobot([2, 3, pi/6], straight)\n",
    "robot2 = IdealRobot([-2, -1, pi/5*6], circling, \"red\")\n",
    "robot3 = IdealRobot([0,0,0], nothing, \"blue\")\n",
    "append(world, robot1)\n",
    "append(world, robot2)\n",
    "append(world, robot3)\n",
    "draw(world)"
   ]
  },
  {
   "cell_type": "code",
   "execution_count": 55,
   "metadata": {},
   "outputs": [
    {
     "data": {
      "text/html": [
       "<video controls src=\"data:video/x-m4v;base64,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\">"
      ]
     },
     "metadata": {},
     "output_type": "display_data"
    }
   ],
   "source": [
    "showanim(\"test.mp4\")"
   ]
  },
  {
   "cell_type": "code",
   "execution_count": 56,
   "metadata": {
    "scrolled": true
   },
   "outputs": [
    {
     "data": {
      "text/plain": [
       "IdealCamera(Map(Any[Landmark([2, -2], 0), Landmark([-1, -3], 1), Landmark([3, 3], 2)]))"
      ]
     },
     "execution_count": 56,
     "metadata": {},
     "output_type": "execute_result"
    }
   ],
   "source": [
    "cam = IdealCamera(m)"
   ]
  },
  {
   "cell_type": "code",
   "execution_count": 57,
   "metadata": {},
   "outputs": [
    {
     "data": {
      "text/plain": [
       "3-element Array{Any,1}:\n",
       " ([3.915586021390546, 0.6702445398550152], 0)\n",
       " ([0.7929628593799322, 0.3859726370142642], 1)\n",
       " ([7.658720045332527, 1.313567692439909], 2)"
      ]
     },
     "execution_count": 57,
     "metadata": {},
     "output_type": "execute_result"
    }
   ],
   "source": [
    "p = data(cam, robot2.pose)"
   ]
  },
  {
   "cell_type": "code",
   "execution_count": null,
   "metadata": {},
   "outputs": [],
   "source": []
  }
 ],
 "metadata": {
  "kernelspec": {
   "display_name": "Julia 1.5.3",
   "language": "julia",
   "name": "julia-1.5"
  },
  "language_info": {
   "file_extension": ".jl",
   "mimetype": "application/julia",
   "name": "julia",
   "version": "1.5.3"
  }
 },
 "nbformat": 4,
 "nbformat_minor": 4
}
