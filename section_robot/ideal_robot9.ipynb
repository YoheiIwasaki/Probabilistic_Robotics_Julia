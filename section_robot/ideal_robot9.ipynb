{
 "cells": [
  {
   "cell_type": "code",
   "execution_count": 23,
   "metadata": {},
   "outputs": [],
   "source": [
    "using PyPlot\n",
    "using PyCall\n",
    "using Printf\n",
    "@pyimport matplotlib.animation as anim\n",
    "@pyimport matplotlib.patches as patches"
   ]
  },
  {
   "cell_type": "code",
   "execution_count": 24,
   "metadata": {},
   "outputs": [
    {
     "data": {
      "text/plain": [
       "showanim (generic function with 1 method)"
      ]
     },
     "execution_count": 24,
     "metadata": {},
     "output_type": "execute_result"
    }
   ],
   "source": [
    "using Base64\n",
    "function showanim(filename)\n",
    "    base64_video = base64encode(open(filename))\n",
    "    display(\"text/html\", \"\"\"<video controls src=\"data:video/x-m4v;base64,$base64_video\">\"\"\")\n",
    "end"
   ]
  },
  {
   "cell_type": "code",
   "execution_count": 25,
   "metadata": {},
   "outputs": [
    {
     "data": {
      "text/plain": [
       "one_step (generic function with 2 methods)"
      ]
     },
     "execution_count": 25,
     "metadata": {},
     "output_type": "execute_result"
    }
   ],
   "source": [
    "mutable struct World\n",
    "    objects\n",
    "    debug\n",
    "    time_span\n",
    "    time_interval\n",
    "    ani\n",
    "end\n",
    "\n",
    "World() = World([], false, 10, 1, nothing)\n",
    "World(debug) = World([], debug, 10, 1, nothing)\n",
    "World(time_span, time_interval) = World([], false, time_span, time_interval, nothing)\n",
    "\n",
    "function append(self::World, obj)\n",
    "    push!(self.objects, obj)\n",
    "end\n",
    "\n",
    "function init_draw(self::World, ax)\n",
    "    ax.set_aspect(\"equal\")\n",
    "    ax.set_xlim(-5,5)\n",
    "    ax.set_ylim(-5,5)\n",
    "    ax.set_xlabel(\"X\", fontsize=20)\n",
    "    ax.set_ylabel(\"Y\", fontsize=20)\n",
    "end\n",
    "\n",
    "function draw(self::World)\n",
    "    fig, ax = subplots()\n",
    "    init_draw(self, ax)    \n",
    "    elems = []\n",
    "\n",
    "    if self.debug\n",
    "        for i = 1:1000\n",
    "            one_step(self, i, elems, ax)\n",
    "        end\n",
    "    else\n",
    "        self.ani = anim.FuncAnimation(fig, one_step, fargs=(self, elems, ax), \n",
    "            frames = Int(self.time_span/self.time_interval)+1, interval = Int(self.time_interval*1000))\n",
    "        self.ani[:save](\"test.mp4\", bitrate=-1, extra_args=[\"-vcodec\", \"libx264\", \"-pix_fmt\", \"yuv420p\"])\n",
    "    end \n",
    "    \n",
    "end\n",
    "\n",
    "function one_step(i,self::World, elems, ax)\n",
    "    plt.cla()\n",
    "    init_draw(self, ax)\n",
    "    while length(elems) > 0\n",
    "        pop!(elems)\n",
    "    end\n",
    "    vcat(elems, ax.text(-4.4, 4.5, string(\"t = \", @sprintf(\"%.2f[s]\", self.time_interval * i) ), fontsize=10))\n",
    "    for obj in self.objects\n",
    "        draw(obj, ax, elems)\n",
    "        if applicable(one_step, obj, 1.0)\n",
    "            one_step(obj, 1.0)\n",
    "        end\n",
    "    end\n",
    "end"
   ]
  },
  {
   "cell_type": "code",
   "execution_count": 26,
   "metadata": {},
   "outputs": [
    {
     "data": {
      "text/plain": [
       "decision (generic function with 2 methods)"
      ]
     },
     "execution_count": 26,
     "metadata": {},
     "output_type": "execute_result"
    }
   ],
   "source": [
    "mutable struct Agent\n",
    "    nu\n",
    "    omega\n",
    "end\n",
    "function decision(self::Agent, observation=nothing)\n",
    "    return self.nu, self.omega\n",
    "end"
   ]
  },
  {
   "cell_type": "code",
   "execution_count": 27,
   "metadata": {},
   "outputs": [
    {
     "data": {
      "text/plain": [
       "one_step (generic function with 2 methods)"
      ]
     },
     "execution_count": 27,
     "metadata": {},
     "output_type": "execute_result"
    }
   ],
   "source": [
    "mutable struct IdealRobot\n",
    "    pose\n",
    "    r\n",
    "    color\n",
    "    agent\n",
    "    poses\n",
    "    sensor\n",
    "end\n",
    "\n",
    "IdealRobot(pose) = IdealRobot(pose, 0.2, \"black\", nothing, [pose], nothing)\n",
    "IdealRobot(pose, color) = IdealRobot(pose, 0.2, color, nothing, [], nothing)\n",
    "IdealRobot(pose, agent) = IdealRobot(pose, 0.2, \"black\", agent, [pose], nothing)\n",
    "IdealRobot(pose, agent, color) = IdealRobot(pose, 0.2, color, agent, [pose], nothing)\n",
    "IdealRobot(pose, agent, sensor, color) = IdealRobot(pose, 0.2, color, agent, [pose], sensor)\n",
    "\n",
    "function draw(self::IdealRobot, ax, elems)\n",
    "    x,y,theta = self.pose\n",
    "    xn = x + self.r * cos(theta)\n",
    "    yn = y + self.r * sin(theta)\n",
    "    elems = vcat(elems, ax.plot([x, xn], [y,yn], color = self.color))\n",
    "    c = patches.Circle(xy=(x,y), radius = self.r, fill = false, color = self.color)\n",
    "    elems = vcat(elems, [ax.add_patch(c)])\n",
    "    \n",
    "    push!(self.poses, self.pose)\n",
    "    elems = vcat(elems, ax.plot([e[1] for e in self.poses], [e[2] for e in self.poses], linewidth=0.5, color=\"black\"))\n",
    "    \n",
    "    if !isnothing(self.sensor) && length(self.poses) > 1\n",
    "        draw(self.sensor, ax, elems, self.poses[length(self.poses)-1])\n",
    "    end\n",
    "end\n",
    "\n",
    "function state_transition(self::IdealRobot, nu, omega, time)\n",
    "    t0 = self.pose[3]\n",
    "    if abs(omega) < 1e-10\n",
    "        return self.pose + [nu*cos(t0), nu*sin(t0), omega].*time\n",
    "    else\n",
    "        return self.pose + [nu/omega*(sin(t0+omega*time)-sin(t0)),\n",
    "                                  nu/omega*(-cos(t0+omega*time)+cos(t0)),\n",
    "                                 omega*time]\n",
    "    end\n",
    "end\n",
    "\n",
    "function one_step(self::IdealRobot, time_interval)\n",
    "    if isnothing(self.agent)\n",
    "        return\n",
    "    end\n",
    "    obs = nothing\n",
    "    if !isnothing(self.sensor)\n",
    "        obs = data(self.sensor, self.pose)\n",
    "    end\n",
    "    nu, omega = decision(self.agent, obs)\n",
    "    self.pose = state_transition(self, nu, omega, time_interval)\n",
    "end"
   ]
  },
  {
   "cell_type": "code",
   "execution_count": 28,
   "metadata": {},
   "outputs": [
    {
     "data": {
      "text/plain": [
       "draw (generic function with 4 methods)"
      ]
     },
     "execution_count": 28,
     "metadata": {},
     "output_type": "execute_result"
    }
   ],
   "source": [
    "mutable struct Landmark\n",
    "    pos\n",
    "    id\n",
    "end\n",
    "\n",
    "Landmark(pos) = Landmark(pos, nothing)\n",
    "\n",
    "function draw(self::Landmark, ax, elems)\n",
    "    c = ax.scatter(self.pos[1], self.pos[2], s=100, marker=\"*\", label=\"landmarks\", color=\"orange\")\n",
    "    elems = vcat(elems, c)\n",
    "    elems = vcat(elems, ax.text( self.pos[1], self.pos[2] , string(\"id:\", string(self.id)), fontsize=10))\n",
    "end"
   ]
  },
  {
   "cell_type": "code",
   "execution_count": 29,
   "metadata": {},
   "outputs": [
    {
     "data": {
      "text/plain": [
       "draw (generic function with 4 methods)"
      ]
     },
     "execution_count": 29,
     "metadata": {},
     "output_type": "execute_result"
    }
   ],
   "source": [
    "mutable struct Map\n",
    "    landmarks\n",
    "end\n",
    "\n",
    "Map() = Map([])\n",
    "\n",
    "function append_landmark(self::Map, landmark)\n",
    "    landmark.id = length(self.landmarks)\n",
    "    push!(self.landmarks, landmark)\n",
    "end\n",
    "\n",
    "function draw(self::Map, ax, elems)\n",
    "    for Im in self.landmarks\n",
    "        draw(Im, ax, elems)\n",
    "    end\n",
    "end"
   ]
  },
  {
   "cell_type": "code",
   "execution_count": 39,
   "metadata": {},
   "outputs": [
    {
     "data": {
      "text/plain": [
       "draw (generic function with 5 methods)"
      ]
     },
     "execution_count": 39,
     "metadata": {},
     "output_type": "execute_result"
    }
   ],
   "source": [
    "mutable struct IdealCamera\n",
    "    map::Map\n",
    "    lastdata\n",
    "end\n",
    "\n",
    "IdealCamera(map) = IdealCamera(map, [])\n",
    "\n",
    "function data(self::IdealCamera, cam_pose)\n",
    "    observed = []\n",
    "    for lm in self.map.landmarks\n",
    "        p = observation_function(self, cam_pose, lm.pos)\n",
    "        push!(observed, (p, lm.id))\n",
    "    end\n",
    "    self.lastdata = observed\n",
    "    return observed\n",
    "end\n",
    "\n",
    "function observation_function(self::IdealCamera, cam_pose, obj_pos)\n",
    "    diff = obj_pos - cam_pose[1:2]\n",
    "    phi = atan(diff[2], diff[1]) - cam_pose[3]\n",
    "    while phi > pi\n",
    "        phi -= 2*pi\n",
    "    end\n",
    "    \n",
    "    while phi < -pi\n",
    "        phi += 2*pi\n",
    "    end\n",
    "    return [hypot(diff[1], diff[2]), phi]\n",
    "end\n",
    "\n",
    "function draw(self::IdealCamera, ax, elems, cam_pose)\n",
    "    for lm in self.lastdata\n",
    "        x,y,theta = cam_pose\n",
    "        distance, direction = lm[1][1], lm[1][2]\n",
    "        lx = x + distance*cos(direction + theta)\n",
    "        ly = y + distance*sin(direction + theta)\n",
    "        elems = vcat(elems, ax.plot([x, lx], [y,ly], color=\"pink\"))\n",
    "    end\n",
    "end"
   ]
  },
  {
   "cell_type": "code",
   "execution_count": null,
   "metadata": {},
   "outputs": [],
   "source": []
  },
  {
   "cell_type": "code",
   "execution_count": 40,
   "metadata": {},
   "outputs": [
    {
     "data": {
      "image/png": "[encoded data removed]",
      "text/plain": [
       "Figure(PyObject <Figure size 640x480 with 1 Axes>)"
      ]
     },
     "metadata": {},
     "output_type": "display_data"
    }
   ],
   "source": [
    "world = World(10, 1.0)\n",
    "m = Map()\n",
    "append_landmark(m, Landmark([2,-2]))\n",
    "append_landmark(m, Landmark([-1,-3]))\n",
    "append_landmark(m, Landmark([3,3]))\n",
    "append(world, m)\n",
    "\n",
    "straight = Agent(0.2, 0.0)\n",
    "circling = Agent(0.2, 10.0/180*pi)\n",
    "robot1 = IdealRobot([2, 3, pi/6], straight, IdealCamera(m),\"black\")\n",
    "robot2 = IdealRobot([-2, -1, pi/5*6], circling, IdealCamera(m),\"red\")\n",
    "append(world, robot1)\n",
    "append(world, robot2)\n",
    "draw(world)"
   ]
  },
  {
   "cell_type": "code",
   "execution_count": 41,
   "metadata": {
    "scrolled": false
   },
   "outputs": [
    {
     "data": {
      "text/html": [
       "<video controls src=\"data:video/x-m4v;base64,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\">"
      ]
     },
     "metadata": {},
     "output_type": "display_data"
    }
   ],
   "source": [
    "showanim(\"test.mp4\")"
   ]
  },
  {
   "cell_type": "code",
   "execution_count": null,
   "metadata": {},
   "outputs": [],
   "source": []
  }
 ],
 "metadata": {
  "kernelspec": {
   "display_name": "Julia 1.5.3",
   "language": "julia",
   "name": "julia-1.5"
  },
  "language_info": {
   "file_extension": ".jl",
   "mimetype": "application/julia",
   "name": "julia",
   "version": "1.5.3"
  }
 },
 "nbformat": 4,
 "nbformat_minor": 4
}
