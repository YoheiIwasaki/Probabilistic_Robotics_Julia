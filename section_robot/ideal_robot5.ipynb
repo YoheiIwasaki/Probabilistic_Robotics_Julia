{
 "cells": [
  {
   "cell_type": "code",
   "execution_count": 35,
   "metadata": {},
   "outputs": [],
   "source": [
    "using PyPlot\n",
    "using PyCall\n",
    "@pyimport matplotlib.animation as anim\n",
    "@pyimport matplotlib.patches as patches"
   ]
  },
  {
   "cell_type": "code",
   "execution_count": 36,
   "metadata": {},
   "outputs": [
    {
     "data": {
      "text/plain": [
       "showanim (generic function with 1 method)"
      ]
     },
     "execution_count": 36,
     "metadata": {},
     "output_type": "execute_result"
    }
   ],
   "source": [
    "using Base64\n",
    "function showanim(filename)\n",
    "    base64_video = base64encode(open(filename))\n",
    "    display(\"text/html\", \"\"\"<video controls src=\"data:video/x-m4v;base64,$base64_video\">\"\"\")\n",
    "end"
   ]
  },
  {
   "cell_type": "code",
   "execution_count": 93,
   "metadata": {},
   "outputs": [
    {
     "data": {
      "text/plain": [
       "one_step (generic function with 2 methods)"
      ]
     },
     "execution_count": 93,
     "metadata": {},
     "output_type": "execute_result"
    }
   ],
   "source": [
    "mutable struct World\n",
    "    objects\n",
    "    debug\n",
    "    ani\n",
    "end\n",
    "\n",
    "World() = World([], false, nothing)\n",
    "World(debug) = World([], debug, nothing)\n",
    "\n",
    "function append(self::World, obj)\n",
    "    push!(self.objects, obj)\n",
    "end\n",
    "\n",
    "function init_draw(self::World, ax)\n",
    "    ax.set_aspect(\"equal\")\n",
    "    ax.set_xlim(-5,5)\n",
    "    ax.set_ylim(-5,5)\n",
    "    ax.set_xlabel(\"X\", fontsize=20)\n",
    "    ax.set_ylabel(\"Y\", fontsize=20)\n",
    "end\n",
    "\n",
    "function draw(self::World)\n",
    "    fig, ax = subplots()\n",
    "    init_draw(self, ax)    \n",
    "    elems = []\n",
    "\n",
    "    if self.debug\n",
    "        for i = 1:1000\n",
    "            one_step(self, i, elems, ax)\n",
    "        end\n",
    "    else\n",
    "        self.ani = anim.FuncAnimation(fig, one_step, fargs=(self, elems, ax), frames=37, interval=1000)\n",
    "        self.ani[:save](\"test.mp4\", bitrate=-1, extra_args=[\"-vcodec\", \"libx264\", \"-pix_fmt\", \"yuv420p\"])\n",
    "    end \n",
    "    \n",
    "end\n",
    "\n",
    "function one_step(i,self::World,elems, ax)\n",
    "    plt.cla()\n",
    "    init_draw(self, ax)\n",
    "    while length(elems) > 0\n",
    "        pop!(elems)\n",
    "    end\n",
    "    vcat(elems, ax.text(-4.4, 4.5, \"t = $i\", fontsize=10))\n",
    "    for obj in self.objects\n",
    "        draw(obj, ax, elems)\n",
    "        one_step(obj, 1.0)\n",
    "    end\n",
    "end"
   ]
  },
  {
   "cell_type": "code",
   "execution_count": 94,
   "metadata": {},
   "outputs": [
    {
     "data": {
      "text/plain": [
       "decision (generic function with 2 methods)"
      ]
     },
     "execution_count": 94,
     "metadata": {},
     "output_type": "execute_result"
    }
   ],
   "source": [
    "mutable struct Agent\n",
    "    nu\n",
    "    omega\n",
    "end\n",
    "function decision(self::Agent, observation=nothing)\n",
    "    return self.nu, self.omega\n",
    "end"
   ]
  },
  {
   "cell_type": "code",
   "execution_count": 95,
   "metadata": {},
   "outputs": [
    {
     "data": {
      "text/plain": [
       "one_step (generic function with 2 methods)"
      ]
     },
     "execution_count": 95,
     "metadata": {},
     "output_type": "execute_result"
    }
   ],
   "source": [
    "mutable struct IdealRobot\n",
    "    pose\n",
    "    r\n",
    "    color\n",
    "    agent\n",
    "    poses\n",
    "end\n",
    "\n",
    "IdealRobot(pose) = IdealRobot(pose, 0.2, \"black\", nothing, [pose])\n",
    "IdealRobot(pose, color) = IdealRobot(pose, 0.2, color, nothing, [])\n",
    "IdealRobot(pose, agent) = IdealRobot(pose, 0.2, \"black\", agent, [pose])\n",
    "IdealRobot(pose, agent, color) = IdealRobot(pose, 0.2, color, agent, [pose])\n",
    "\n",
    "function draw(self::IdealRobot, ax, elems)\n",
    "    x,y,theta = self.pose\n",
    "    xn = x + self.r * cos(theta)\n",
    "    yn = y + self.r * sin(theta)\n",
    "    elems = vcat(elems, ax.plot([x, xn], [y,yn], color = self.color))\n",
    "    c = patches.Circle(xy=(x,y), radius = self.r, fill = false, color = self.color)\n",
    "    elems = vcat(elems, [ax.add_patch(c)])\n",
    "    \n",
    "    push!(self.poses, self.pose)\n",
    "    elems = vcat(elems, ax.plot([e[1] for e in self.poses], [e[2] for e in self.poses], linewidth=0.5, color=\"black\"))\n",
    "end\n",
    "\n",
    "function state_transition(self::IdealRobot, nu, omega, time)\n",
    "    t0 = self.pose[3]\n",
    "    if abs(omega) < 1e-10\n",
    "        return self.pose + [nu*cos(t0), nu*sin(t0), omega].*time\n",
    "    else\n",
    "        return self.pose + [nu/omega*(sin(t0+omega*time)-sin(t0)),\n",
    "                                  nu/omega*(-cos(t0+omega*time)+cos(t0)),\n",
    "                                 omega*time]\n",
    "    end\n",
    "end\n",
    "\n",
    "function one_step(self::IdealRobot, time_interval)\n",
    "    if isnothing(self.agent)\n",
    "        return\n",
    "    end\n",
    "    nu, omega = decision(self.agent)\n",
    "    self.pose = state_transition(self, nu, omega, time_interval)\n",
    "end"
   ]
  },
  {
   "cell_type": "code",
   "execution_count": 96,
   "metadata": {
    "scrolled": false
   },
   "outputs": [
    {
     "data": {
      "text/plain": [
       "IdealRobot([0, 0, 0], 0.2, \"black\", nothing, [[0, 0, 0]])"
      ]
     },
     "execution_count": 96,
     "metadata": {},
     "output_type": "execute_result"
    }
   ],
   "source": [
    "robot1 = IdealRobot([0, 0, 0])"
   ]
  },
  {
   "cell_type": "code",
   "execution_count": 97,
   "metadata": {},
   "outputs": [
    {
     "data": {
      "text/plain": [
       "3-element Array{Float64,1}:\n",
       " 0.1\n",
       " 0.0\n",
       " 0.0"
      ]
     },
     "execution_count": 97,
     "metadata": {},
     "output_type": "execute_result"
    }
   ],
   "source": [
    "state_transition(robot1, 0.1, 0.0, 1.0)"
   ]
  },
  {
   "cell_type": "code",
   "execution_count": 98,
   "metadata": {},
   "outputs": [
    {
     "data": {
      "text/plain": [
       "3-element Array{Float64,1}:\n",
       " 0.5729577951308232\n",
       " 0.5729577951308231\n",
       " 1.5707963267948966"
      ]
     },
     "execution_count": 98,
     "metadata": {},
     "output_type": "execute_result"
    }
   ],
   "source": [
    "state_transition(robot1, 0.1, 10.0/180*pi, 9.0)"
   ]
  },
  {
   "cell_type": "code",
   "execution_count": 99,
   "metadata": {},
   "outputs": [
    {
     "data": {
      "text/plain": [
       "3-element Array{Float64,1}:\n",
       " 7.016709298534876e-17\n",
       " 1.1459155902616465\n",
       " 3.141592653589793"
      ]
     },
     "execution_count": 99,
     "metadata": {},
     "output_type": "execute_result"
    }
   ],
   "source": [
    "state_transition(robot1, 0.1, 10.0/180*pi, 18.0)"
   ]
  },
  {
   "cell_type": "code",
   "execution_count": 100,
   "metadata": {},
   "outputs": [
    {
     "data": {
      "text/plain": [
       "decision (generic function with 2 methods)"
      ]
     },
     "execution_count": 100,
     "metadata": {},
     "output_type": "execute_result"
    }
   ],
   "source": [
    "mutable struct Agent\n",
    "    nu\n",
    "    omega\n",
    "end\n",
    "function decision(self::Agent, observation=nothing)\n",
    "    return self.nu, self.omega\n",
    "end"
   ]
  },
  {
   "cell_type": "code",
   "execution_count": 101,
   "metadata": {},
   "outputs": [
    {
     "data": {
      "image/png": "[encoded data removed]",
      "text/plain": [
       "Figure(PyObject <Figure size 640x480 with 1 Axes>)"
      ]
     },
     "metadata": {},
     "output_type": "display_data"
    }
   ],
   "source": [
    "world = World()\n",
    "straight = Agent(0.2, 0.0)\n",
    "circling = Agent(0.2, 10.0/180*pi)\n",
    "robot1 = IdealRobot([2, 3, pi/6], straight)\n",
    "robot2 = IdealRobot([-2, -1, pi/5*6], circling, \"red\")\n",
    "robot3 = IdealRobot([0,0,0], nothing, \"blue\")\n",
    "append(world, robot1)\n",
    "append(world, robot2)\n",
    "append(world, robot3)\n",
    "draw(world)"
   ]
  },
  {
   "cell_type": "code",
   "execution_count": 102,
   "metadata": {},
   "outputs": [
    {
     "data": {
      "text/html": [
       "<video controls src=\"data:video/x-m4v;base64,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\">"
      ]
     },
     "metadata": {},
     "output_type": "display_data"
    }
   ],
   "source": [
    "showanim(\"test.mp4\")"
   ]
  },
  {
   "cell_type": "code",
   "execution_count": null,
   "metadata": {},
   "outputs": [],
   "source": []
  }
 ],
 "metadata": {
  "kernelspec": {
   "display_name": "Julia 1.5.3",
   "language": "julia",
   "name": "julia-1.5"
  },
  "language_info": {
   "file_extension": ".jl",
   "mimetype": "application/julia",
   "name": "julia",
   "version": "1.5.3"
  }
 },
 "nbformat": 4,
 "nbformat_minor": 4
}
